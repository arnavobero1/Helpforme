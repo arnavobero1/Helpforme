{
 "cells": [
  {
   "cell_type": "markdown",
   "metadata": {},
   "source": [
    "# Visualising Information - PROJECT"
   ]
  },
  {
   "cell_type": "markdown",
   "metadata": {},
   "source": [
    "## Problem Statement - Based on the data, Find visual insights from it."
   ]
  },
  {
   "cell_type": "markdown",
   "metadata": {},
   "source": [
    "**Dataset Description**:\n",
    "\n",
    "\n",
    "The **basic idea** of analyzing the Zomato dataset is to get a fair idea about the factors affecting the aggregate rating of each restaurant, establishment of different types of restaurant at different places, Bengaluru being one such city has more than 12,000 restaurants with restaurants serving dishes from all over the world. With each day new restaurants opening the industry has'nt been saturated yet and the demand is increasing day by day. \n",
    "\n",
    "\n",
    "With such an overwhelming demand of restaurants it has therefore become **important to study the demography of a location**. What kind of a food is more popular in a locality. Do the entire locality loves vegetarian food. If yes then is that locality populated by a particular sect of people for eg. Jain, Marwaris, Gujaratis who are mostly vegetarian. These kind of analysis can be done using the data, by studying different factors.\n",
    "\n",
    "\n",
    "The data is accurate to that available on the zomato website until 15 March 2019. The data was scraped from Zomato in two phase. \n",
    "\n",
    "After going through the structure of the website it was found that for each neighborhood there are 6-7 category of restaurants viz. Buffet, Cafes, Delivery, Desserts, Dine-out, Drinks & nightlife, Pubs and bars. \n",
    "\n",
    "**Phase I**, In Phase I of extraction only the URL, name and address of the restaurant were extracted which were visible on the front page. The URl's for each of the restaurants on the zomato were recorded in the csv file so that later the data can be extracted individually for each restaurant. This made the extraction process easier and reduced the extra load on my machine. \n",
    "\n",
    "**Phase II**, In Phase II the recorded data for each restaurant and each category was read and data for each restaurant was scraped individually. 15 variables were scraped in this phase. For each of the neighborhood and for each category their online_order, book_table, rate, votes, phone, location, rest_type, dish_liked, cuisines, approx_cost(for two people), reviews_list, menu_item was extracted.\n",
    "\n",
    "**Column Description**\n",
    "1. *url* - contains the url of the restaurant in the zomato website\n",
    "addresscontains the address of the restaurant in Bengaluru\n",
    "namecontains the name of the restaurant\n",
    "\n",
    "\n",
    "2. *online_order* - whether online ordering is available in the restaurant or not\n",
    "\n",
    "\n",
    "3. *book_table* - table book option available or not\n",
    "\n",
    "\n",
    "4. *rate* - contains the overall rating of the restaurant out of 5\n",
    "\n",
    "\n",
    "5. *votes* - contains total number of rating for the restaurant as of the above mentioned date\n",
    "\n",
    "\n",
    "6. *phone* - contains the phone number of the restaurant\n",
    "\n",
    "\n",
    "7. *location* - contains the neighborhood in which the restaurant is located\n",
    "rest_typerestaurant type\n",
    "\n",
    "\n",
    "8. *dish_liked* - dishes people liked in the restaurant\n",
    "cuisinesfood styles, separated by comma\n",
    "\n",
    "\n",
    "9. *approx_cost(for two people)* - contains the approximate cost for meal for two people\n",
    "\n",
    "\n",
    "10. *reviews_list* - list of tuples containing reviews for the restaurant, each tuple consists of two values, rating and review by the customer\n",
    "\n",
    "\n",
    "11. *menu_item* - contains list of menus available in the restaurant\n",
    "listed_in(type)type of meal\n",
    "\n",
    "\n",
    "12. *listed_in(city)* - contains the neighborhood in which the restaurant is listed"
   ]
  },
  {
   "cell_type": "markdown",
   "metadata": {},
   "source": [
    "# Question 1\n",
    "**Analyse the number of Restaurants based on their Online Delivery by making a count plot**"
   ]
  },
  {
   "cell_type": "code",
   "execution_count": null,
   "metadata": {},
   "outputs": [],
   "source": []
  },
  {
   "cell_type": "markdown",
   "metadata": {},
   "source": [
    "# Question 2\n",
    "**Analyse the number of Restaurants based on their Table booking facility by  making count plot**"
   ]
  },
  {
   "cell_type": "code",
   "execution_count": null,
   "metadata": {},
   "outputs": [],
   "source": []
  },
  {
   "cell_type": "markdown",
   "metadata": {},
   "source": [
    "# Question 3\n",
    "**Analyse the number of Restaurants based on their Ratings using Pie Chart**"
   ]
  },
  {
   "cell_type": "code",
   "execution_count": null,
   "metadata": {},
   "outputs": [],
   "source": []
  },
  {
   "cell_type": "markdown",
   "metadata": {},
   "source": [
    "# Question 4\n",
    "**Analyse the number of Restaurants based on their Location using Horizontal Count Plot.**"
   ]
  },
  {
   "cell_type": "code",
   "execution_count": null,
   "metadata": {},
   "outputs": [],
   "source": []
  },
  {
   "cell_type": "markdown",
   "metadata": {},
   "source": [
    "# Question 5\n",
    "**Analyse the number of Restaurants based on their Dining Type using Pie Chart**"
   ]
  },
  {
   "cell_type": "code",
   "execution_count": null,
   "metadata": {},
   "outputs": [],
   "source": []
  },
  {
   "cell_type": "markdown",
   "metadata": {},
   "source": [
    "# Question 6\n",
    "**Analyse the votes using line plot.** What are the limitations you see?"
   ]
  },
  {
   "cell_type": "code",
   "execution_count": null,
   "metadata": {},
   "outputs": [],
   "source": []
  },
  {
   "cell_type": "markdown",
   "metadata": {},
   "source": [
    "# Question 7\n",
    "**Analyse the frequency of votes by drawing histogram of bins 5 (Overcoming the limitations of line plot).**"
   ]
  },
  {
   "cell_type": "code",
   "execution_count": null,
   "metadata": {},
   "outputs": [],
   "source": []
  },
  {
   "cell_type": "markdown",
   "metadata": {},
   "source": [
    "# Question 8\n",
    "**Make a line chart in which all votes are summed up.**"
   ]
  },
  {
   "cell_type": "code",
   "execution_count": null,
   "metadata": {},
   "outputs": [],
   "source": []
  }
 ],
 "metadata": {
  "kernelspec": {
   "display_name": "Python 3",
   "language": "python",
   "name": "python3"
  },
  "language_info": {
   "codemirror_mode": {
    "name": "ipython",
    "version": 3
   },
   "file_extension": ".py",
   "mimetype": "text/x-python",
   "name": "python",
   "nbconvert_exporter": "python",
   "pygments_lexer": "ipython3",
   "version": "3.7.3"
  }
 },
 "nbformat": 4,
 "nbformat_minor": 2
}
