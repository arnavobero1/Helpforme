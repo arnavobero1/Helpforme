{
 "cells": [
  {
   "cell_type": "code",
   "execution_count": 1,
   "metadata": {},
   "outputs": [
    {
     "data": {
      "text/html": [
       "        <script type=\"text/javascript\">\n",
       "        window.PlotlyConfig = {MathJaxConfig: 'local'};\n",
       "        if (window.MathJax) {MathJax.Hub.Config({SVG: {font: \"STIX-Web\"}});}\n",
       "        if (typeof require !== 'undefined') {\n",
       "        require.undef(\"plotly\");\n",
       "        requirejs.config({\n",
       "            paths: {\n",
       "                'plotly': ['https://cdn.plot.ly/plotly-latest.min']\n",
       "            }\n",
       "        });\n",
       "        require(['plotly'], function(Plotly) {\n",
       "            window._Plotly = Plotly;\n",
       "        });\n",
       "        }\n",
       "        </script>\n",
       "        "
      ]
     },
     "metadata": {},
     "output_type": "display_data"
    },
    {
     "data": {
      "text/html": [
       "        <script type=\"text/javascript\">\n",
       "        window.PlotlyConfig = {MathJaxConfig: 'local'};\n",
       "        if (window.MathJax) {MathJax.Hub.Config({SVG: {font: \"STIX-Web\"}});}\n",
       "        if (typeof require !== 'undefined') {\n",
       "        require.undef(\"plotly\");\n",
       "        requirejs.config({\n",
       "            paths: {\n",
       "                'plotly': ['https://cdn.plot.ly/plotly-latest.min']\n",
       "            }\n",
       "        });\n",
       "        require(['plotly'], function(Plotly) {\n",
       "            window._Plotly = Plotly;\n",
       "        });\n",
       "        }\n",
       "        </script>\n",
       "        "
      ]
     },
     "metadata": {},
     "output_type": "display_data"
    }
   ],
   "source": [
    "import numpy as np\n",
    "import pandas as pd\n",
    "import matplotlib.pyplot as plt\n",
    "import seaborn as sns\n",
    "import warnings\n",
    "import plotly.plotly as py\n",
    "import plotly.graph_objs as go \n",
    "from plotly.offline import download_plotlyjs, init_notebook_mode, plot, iplot\n",
    "init_notebook_mode(connected=True)\n",
    "import cufflinks as cf\n",
    "cf.go_offline()\n",
    "warnings.filterwarnings('ignore')\n",
    "sns.set_style('darkgrid')"
   ]
  },
  {
   "cell_type": "code",
   "execution_count": 2,
   "metadata": {},
   "outputs": [
    {
     "data": {
      "text/html": [
       "<div>\n",
       "<style scoped>\n",
       "    .dataframe tbody tr th:only-of-type {\n",
       "        vertical-align: middle;\n",
       "    }\n",
       "\n",
       "    .dataframe tbody tr th {\n",
       "        vertical-align: top;\n",
       "    }\n",
       "\n",
       "    .dataframe thead th {\n",
       "        text-align: right;\n",
       "    }\n",
       "</style>\n",
       "<table border=\"1\" class=\"dataframe\">\n",
       "  <thead>\n",
       "    <tr style=\"text-align: right;\">\n",
       "      <th></th>\n",
       "      <th>Institutes</th>\n",
       "      <th>SS (20)</th>\n",
       "      <th>FSR(30)</th>\n",
       "      <th>FQE(20)</th>\n",
       "      <th>FRU(30)</th>\n",
       "      <th>PU(35)</th>\n",
       "      <th>QP(40)</th>\n",
       "      <th>IPR(15)</th>\n",
       "      <th>FPPP(10)</th>\n",
       "      <th>GPHE(40)</th>\n",
       "      <th>GUE(15)</th>\n",
       "      <th>MS(25)</th>\n",
       "      <th>GPHD(20)</th>\n",
       "      <th>RD(30)</th>\n",
       "      <th>WD(30)</th>\n",
       "      <th>ESCS(20)</th>\n",
       "      <th>PCS(20)</th>\n",
       "      <th>PREMP(100)</th>\n",
       "    </tr>\n",
       "  </thead>\n",
       "  <tbody>\n",
       "    <tr>\n",
       "      <td>0</td>\n",
       "      <td>Aligarh Muslim University (IR-E-U-0496)</td>\n",
       "      <td>11.00</td>\n",
       "      <td>30.00</td>\n",
       "      <td>16.44</td>\n",
       "      <td>11.95</td>\n",
       "      <td>18.41</td>\n",
       "      <td>20.00</td>\n",
       "      <td>0.0</td>\n",
       "      <td>1.05</td>\n",
       "      <td>21.18</td>\n",
       "      <td>14.32</td>\n",
       "      <td>13.95</td>\n",
       "      <td>3.84</td>\n",
       "      <td>5.86</td>\n",
       "      <td>10.53</td>\n",
       "      <td>3.70</td>\n",
       "      <td>12</td>\n",
       "      <td>12.14</td>\n",
       "    </tr>\n",
       "    <tr>\n",
       "      <td>1</td>\n",
       "      <td>Alliance University (IR-E-U-0213)</td>\n",
       "      <td>6.75</td>\n",
       "      <td>16.88</td>\n",
       "      <td>8.19</td>\n",
       "      <td>8.77</td>\n",
       "      <td>0.43</td>\n",
       "      <td>0.60</td>\n",
       "      <td>0.0</td>\n",
       "      <td>0.23</td>\n",
       "      <td>32.78</td>\n",
       "      <td>15.00</td>\n",
       "      <td>13.84</td>\n",
       "      <td>0.00</td>\n",
       "      <td>10.73</td>\n",
       "      <td>22.90</td>\n",
       "      <td>3.96</td>\n",
       "      <td>20</td>\n",
       "      <td>1.63</td>\n",
       "    </tr>\n",
       "    <tr>\n",
       "      <td>2</td>\n",
       "      <td>Amity University (IR-E-U-0497)</td>\n",
       "      <td>15.71</td>\n",
       "      <td>28.60</td>\n",
       "      <td>15.81</td>\n",
       "      <td>9.39</td>\n",
       "      <td>19.32</td>\n",
       "      <td>16.36</td>\n",
       "      <td>5.0</td>\n",
       "      <td>0.59</td>\n",
       "      <td>18.79</td>\n",
       "      <td>15.00</td>\n",
       "      <td>10.72</td>\n",
       "      <td>3.78</td>\n",
       "      <td>14.59</td>\n",
       "      <td>21.71</td>\n",
       "      <td>0.03</td>\n",
       "      <td>20</td>\n",
       "      <td>5.07</td>\n",
       "    </tr>\n",
       "    <tr>\n",
       "      <td>3</td>\n",
       "      <td>Anna University (IR-E-U-0439)</td>\n",
       "      <td>19.05</td>\n",
       "      <td>22.11</td>\n",
       "      <td>12.65</td>\n",
       "      <td>9.36</td>\n",
       "      <td>27.60</td>\n",
       "      <td>30.43</td>\n",
       "      <td>3.0</td>\n",
       "      <td>3.10</td>\n",
       "      <td>20.01</td>\n",
       "      <td>14.70</td>\n",
       "      <td>13.84</td>\n",
       "      <td>14.70</td>\n",
       "      <td>1.82</td>\n",
       "      <td>27.22</td>\n",
       "      <td>3.62</td>\n",
       "      <td>20</td>\n",
       "      <td>70.13</td>\n",
       "    </tr>\n",
       "    <tr>\n",
       "      <td>4</td>\n",
       "      <td>Anurag Group of Institutions (IR-E-C-19747)</td>\n",
       "      <td>12.98</td>\n",
       "      <td>25.31</td>\n",
       "      <td>9.00</td>\n",
       "      <td>5.85</td>\n",
       "      <td>0.32</td>\n",
       "      <td>0.44</td>\n",
       "      <td>0.0</td>\n",
       "      <td>0.11</td>\n",
       "      <td>26.49</td>\n",
       "      <td>14.29</td>\n",
       "      <td>11.86</td>\n",
       "      <td>0.00</td>\n",
       "      <td>2.65</td>\n",
       "      <td>24.08</td>\n",
       "      <td>1.41</td>\n",
       "      <td>20</td>\n",
       "      <td>0.41</td>\n",
       "    </tr>\n",
       "  </tbody>\n",
       "</table>\n",
       "</div>"
      ],
      "text/plain": [
       "                                    Institutes  SS (20)  FSR(30)  FQE(20)  \\\n",
       "0      Aligarh Muslim University (IR-E-U-0496)    11.00    30.00    16.44   \n",
       "1            Alliance University (IR-E-U-0213)     6.75    16.88     8.19   \n",
       "2               Amity University (IR-E-U-0497)    15.71    28.60    15.81   \n",
       "3                Anna University (IR-E-U-0439)    19.05    22.11    12.65   \n",
       "4  Anurag Group of Institutions (IR-E-C-19747)    12.98    25.31     9.00   \n",
       "\n",
       "   FRU(30)  PU(35)  QP(40)  IPR(15)  FPPP(10)  GPHE(40)  GUE(15)  MS(25)  \\\n",
       "0    11.95   18.41   20.00      0.0      1.05     21.18    14.32   13.95   \n",
       "1     8.77    0.43    0.60      0.0      0.23     32.78    15.00   13.84   \n",
       "2     9.39   19.32   16.36      5.0      0.59     18.79    15.00   10.72   \n",
       "3     9.36   27.60   30.43      3.0      3.10     20.01    14.70   13.84   \n",
       "4     5.85    0.32    0.44      0.0      0.11     26.49    14.29   11.86   \n",
       "\n",
       "   GPHD(20)  RD(30)  WD(30)  ESCS(20)  PCS(20)  PREMP(100)  \n",
       "0      3.84    5.86   10.53      3.70       12       12.14  \n",
       "1      0.00   10.73   22.90      3.96       20        1.63  \n",
       "2      3.78   14.59   21.71      0.03       20        5.07  \n",
       "3     14.70    1.82   27.22      3.62       20       70.13  \n",
       "4      0.00    2.65   24.08      1.41       20        0.41  "
      ]
     },
     "execution_count": 2,
     "metadata": {},
     "output_type": "execute_result"
    }
   ],
   "source": [
    "df = pd.read_excel('nirf.xlsx')\n",
    "df.head()"
   ]
  },
  {
   "cell_type": "code",
   "execution_count": 3,
   "metadata": {},
   "outputs": [
    {
     "data": {
      "text/plain": [
       "Index(['Institutes', 'SS (20)', 'FSR(30)', 'FQE(20)', 'FRU(30)', 'PU(35)',\n",
       "       'QP(40)', 'IPR(15)', 'FPPP(10)', 'GPHE(40)', 'GUE(15)', 'MS(25)',\n",
       "       'GPHD(20)', 'RD(30)', 'WD(30)', 'ESCS(20)', 'PCS(20)', 'PREMP(100)'],\n",
       "      dtype='object')"
      ]
     },
     "execution_count": 3,
     "metadata": {},
     "output_type": "execute_result"
    }
   ],
   "source": [
    "df.columns"
   ]
  },
  {
   "cell_type": "code",
   "execution_count": 4,
   "metadata": {},
   "outputs": [],
   "source": [
    "list1=[]\n",
    "for elements in df.mean():\n",
    "    list1.append(elements)"
   ]
  },
  {
   "cell_type": "code",
   "execution_count": 5,
   "metadata": {},
   "outputs": [
    {
     "data": {
      "text/plain": [
       "[11.354248704663211,\n",
       " 23.861502590673563,\n",
       " 12.010466321243525,\n",
       " 10.387150259067356,\n",
       " 7.647357512953364,\n",
       " 8.03435233160622,\n",
       " 0.8549222797927462,\n",
       " 1.262849740932643,\n",
       " 26.14886010362695,\n",
       " 14.208911917098442,\n",
       " 13.339689119170997,\n",
       " 2.6667357512953367,\n",
       " 8.559170984455962,\n",
       " 20.936062176165795,\n",
       " 2.421088082901554,\n",
       " 18.46113989637306,\n",
       " 12.538697916666665]"
      ]
     },
     "execution_count": 5,
     "metadata": {},
     "output_type": "execute_result"
    }
   ],
   "source": [
    "list1"
   ]
  },
  {
   "cell_type": "code",
   "execution_count": 6,
   "metadata": {},
   "outputs": [],
   "source": [
    "list2=[]\n",
    "for elements in df[df['Institutes'] =='The Northcap University (IR-E-U-0163)'].mean():\n",
    "    list2.append(elements)"
   ]
  },
  {
   "cell_type": "code",
   "execution_count": 7,
   "metadata": {},
   "outputs": [
    {
     "data": {
      "text/plain": [
       "[8.4,\n",
       " 22.36,\n",
       " 12.07,\n",
       " 11.37,\n",
       " 5.64,\n",
       " 7.56,\n",
       " 0.0,\n",
       " 0.31,\n",
       " 19.47,\n",
       " 15.0,\n",
       " 11.34,\n",
       " 0.3,\n",
       " 7.69,\n",
       " 20.63,\n",
       " 1.17,\n",
       " 20.0,\n",
       " 0.0]"
      ]
     },
     "execution_count": 7,
     "metadata": {},
     "output_type": "execute_result"
    }
   ],
   "source": [
    "list2"
   ]
  },
  {
   "cell_type": "code",
   "execution_count": 8,
   "metadata": {},
   "outputs": [],
   "source": [
    "df1 = pd.DataFrame([list1,list2],columns = ['SS (20)', 'FSR(30)', 'FQE(20)', 'FRU(30)', 'PU(35)',\n",
    "       'QP(40)', 'IPR(15)', 'FPPP(10)', 'GPHE(40)', 'GUE(15)', 'MS(25)',\n",
    "       'GPHD(20)', 'RD(30)', 'WD(30)', 'ESCS(20)', 'PCS(20)', 'PREMP(100)'],index = ['Average','NCU'])"
   ]
  },
  {
   "cell_type": "code",
   "execution_count": 9,
   "metadata": {},
   "outputs": [
    {
     "data": {
      "text/html": [
       "<div>\n",
       "<style scoped>\n",
       "    .dataframe tbody tr th:only-of-type {\n",
       "        vertical-align: middle;\n",
       "    }\n",
       "\n",
       "    .dataframe tbody tr th {\n",
       "        vertical-align: top;\n",
       "    }\n",
       "\n",
       "    .dataframe thead th {\n",
       "        text-align: right;\n",
       "    }\n",
       "</style>\n",
       "<table border=\"1\" class=\"dataframe\">\n",
       "  <thead>\n",
       "    <tr style=\"text-align: right;\">\n",
       "      <th></th>\n",
       "      <th>SS (20)</th>\n",
       "      <th>FSR(30)</th>\n",
       "      <th>FQE(20)</th>\n",
       "      <th>FRU(30)</th>\n",
       "      <th>PU(35)</th>\n",
       "      <th>QP(40)</th>\n",
       "      <th>IPR(15)</th>\n",
       "      <th>FPPP(10)</th>\n",
       "      <th>GPHE(40)</th>\n",
       "      <th>GUE(15)</th>\n",
       "      <th>MS(25)</th>\n",
       "      <th>GPHD(20)</th>\n",
       "      <th>RD(30)</th>\n",
       "      <th>WD(30)</th>\n",
       "      <th>ESCS(20)</th>\n",
       "      <th>PCS(20)</th>\n",
       "      <th>PREMP(100)</th>\n",
       "    </tr>\n",
       "  </thead>\n",
       "  <tbody>\n",
       "    <tr>\n",
       "      <td>Average</td>\n",
       "      <td>11.354249</td>\n",
       "      <td>23.861503</td>\n",
       "      <td>12.010466</td>\n",
       "      <td>10.38715</td>\n",
       "      <td>7.647358</td>\n",
       "      <td>8.034352</td>\n",
       "      <td>0.854922</td>\n",
       "      <td>1.26285</td>\n",
       "      <td>26.14886</td>\n",
       "      <td>14.208912</td>\n",
       "      <td>13.339689</td>\n",
       "      <td>2.666736</td>\n",
       "      <td>8.559171</td>\n",
       "      <td>20.936062</td>\n",
       "      <td>2.421088</td>\n",
       "      <td>18.46114</td>\n",
       "      <td>12.538698</td>\n",
       "    </tr>\n",
       "    <tr>\n",
       "      <td>NCU</td>\n",
       "      <td>8.400000</td>\n",
       "      <td>22.360000</td>\n",
       "      <td>12.070000</td>\n",
       "      <td>11.37000</td>\n",
       "      <td>5.640000</td>\n",
       "      <td>7.560000</td>\n",
       "      <td>0.000000</td>\n",
       "      <td>0.31000</td>\n",
       "      <td>19.47000</td>\n",
       "      <td>15.000000</td>\n",
       "      <td>11.340000</td>\n",
       "      <td>0.300000</td>\n",
       "      <td>7.690000</td>\n",
       "      <td>20.630000</td>\n",
       "      <td>1.170000</td>\n",
       "      <td>20.00000</td>\n",
       "      <td>0.000000</td>\n",
       "    </tr>\n",
       "  </tbody>\n",
       "</table>\n",
       "</div>"
      ],
      "text/plain": [
       "           SS (20)    FSR(30)    FQE(20)   FRU(30)    PU(35)    QP(40)  \\\n",
       "Average  11.354249  23.861503  12.010466  10.38715  7.647358  8.034352   \n",
       "NCU       8.400000  22.360000  12.070000  11.37000  5.640000  7.560000   \n",
       "\n",
       "          IPR(15)  FPPP(10)  GPHE(40)    GUE(15)     MS(25)  GPHD(20)  \\\n",
       "Average  0.854922   1.26285  26.14886  14.208912  13.339689  2.666736   \n",
       "NCU      0.000000   0.31000  19.47000  15.000000  11.340000  0.300000   \n",
       "\n",
       "           RD(30)     WD(30)  ESCS(20)   PCS(20)  PREMP(100)  \n",
       "Average  8.559171  20.936062  2.421088  18.46114   12.538698  \n",
       "NCU      7.690000  20.630000  1.170000  20.00000    0.000000  "
      ]
     },
     "execution_count": 9,
     "metadata": {},
     "output_type": "execute_result"
    }
   ],
   "source": [
    "df1"
   ]
  },
  {
   "cell_type": "code",
   "execution_count": 18,
   "metadata": {},
   "outputs": [
    {
     "data": {
      "application/vnd.plotly.v1+json": {
       "config": {
        "plotlyServerURL": "https://plot.ly"
       },
       "data": [
        {
         "hoverinfo": "label+percent",
         "labels": [
          "Average",
          "NCU"
         ],
         "marker": {
          "colors": [
           "mediumturquoise",
           "darkorange"
          ],
          "line": {
           "color": "#000000",
           "width": 2
          }
         },
         "textfont": {
          "size": 20
         },
         "textinfo": "value",
         "type": "pie",
         "uid": "146aabfe-87b6-437f-b155-35fcdcde4cb8",
         "values": [
          11.354248704663211,
          8.4
         ]
        }
       ],
       "layout": {}
      },
      "text/html": [
       "<div>\n",
       "        \n",
       "        \n",
       "            <div id=\"000575f7-a6a6-4522-91f3-515fee79fb2f\" class=\"plotly-graph-div\" style=\"height:525px; width:100%;\"></div>\n",
       "            <script type=\"text/javascript\">\n",
       "                require([\"plotly\"], function(Plotly) {\n",
       "                    window.PLOTLYENV=window.PLOTLYENV || {};\n",
       "                    window.PLOTLYENV.BASE_URL='https://plot.ly';\n",
       "                    \n",
       "                if (document.getElementById(\"000575f7-a6a6-4522-91f3-515fee79fb2f\")) {\n",
       "                    Plotly.newPlot(\n",
       "                        '000575f7-a6a6-4522-91f3-515fee79fb2f',\n",
       "                        [{\"hoverinfo\": \"label+percent\", \"labels\": [\"Average\", \"NCU\"], \"marker\": {\"colors\": [\"mediumturquoise\", \"darkorange\"], \"line\": {\"color\": \"#000000\", \"width\": 2}}, \"textfont\": {\"size\": 20}, \"textinfo\": \"value\", \"type\": \"pie\", \"uid\": \"146aabfe-87b6-437f-b155-35fcdcde4cb8\", \"values\": [11.354248704663211, 8.4]}],\n",
       "                        {},\n",
       "                        {\"plotlyServerURL\": \"https://plot.ly\", \"responsive\": true}\n",
       "                    ).then(function(){\n",
       "                            \n",
       "var gd = document.getElementById('000575f7-a6a6-4522-91f3-515fee79fb2f');\n",
       "var x = new MutationObserver(function (mutations, observer) {{\n",
       "        var display = window.getComputedStyle(gd).display;\n",
       "        if (!display || display === 'none') {{\n",
       "            console.log([gd, 'removed!']);\n",
       "            Plotly.purge(gd);\n",
       "            observer.disconnect();\n",
       "        }}\n",
       "}});\n",
       "\n",
       "// Listen for the removal of the full notebook cells\n",
       "var notebookContainer = gd.closest('#notebook-container');\n",
       "if (notebookContainer) {{\n",
       "    x.observe(notebookContainer, {childList: true});\n",
       "}}\n",
       "\n",
       "// Listen for the clearing of the current output cell\n",
       "var outputEl = gd.closest('.output');\n",
       "if (outputEl) {{\n",
       "    x.observe(outputEl, {childList: true});\n",
       "}}\n",
       "\n",
       "                        })\n",
       "                };\n",
       "                });\n",
       "            </script>\n",
       "        </div>"
      ]
     },
     "metadata": {},
     "output_type": "display_data"
    }
   ],
   "source": [
    "labels = df1.index\n",
    "values = df1['SS (20)']\n",
    "colors = ['mediumturquoise', 'darkorange']\n",
    "\n",
    "fig = go.Figure(data=[go.Pie(labels=labels, values=values)])\n",
    "fig.update_traces(hoverinfo='label+percent',textinfo='value',textfont_size=20,\n",
    "                  marker=dict(colors=colors, line=dict(color='#000000', width=2)))\n",
    "fig.show()"
   ]
  },
  {
   "cell_type": "code",
   "execution_count": null,
   "metadata": {},
   "outputs": [],
   "source": []
  }
 ],
 "metadata": {
  "kernelspec": {
   "display_name": "Python 3",
   "language": "python",
   "name": "python3"
  },
  "language_info": {
   "codemirror_mode": {
    "name": "ipython",
    "version": 3
   },
   "file_extension": ".py",
   "mimetype": "text/x-python",
   "name": "python",
   "nbconvert_exporter": "python",
   "pygments_lexer": "ipython3",
   "version": "3.7.3"
  }
 },
 "nbformat": 4,
 "nbformat_minor": 2
}
