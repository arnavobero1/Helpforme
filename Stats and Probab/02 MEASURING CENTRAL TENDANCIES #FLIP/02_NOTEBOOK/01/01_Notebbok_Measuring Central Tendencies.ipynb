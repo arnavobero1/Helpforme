{
 "cells": [
  {
   "cell_type": "code",
   "execution_count": 2,
   "metadata": {},
   "outputs": [],
   "source": [
    "import numpy as np\n",
    "import pandas as pd\n",
    "import matplotlib.pyplot as plt\n",
    "import seaborn as sns"
   ]
  },
  {
   "cell_type": "markdown",
   "metadata": {},
   "source": [
    "## The Middle Way\n",
    "\n",
    "Sometimes you just need to get to the heart of the matter. It can be difficult to see patterns and trends in a big pile of figures, and finding the average is often the first step towards seeing the bigger picture. With averages at your disposal, you’ll be able to quickly find the most representative values in your data and draw important conclusions. In this chapter, we’ll look at several ways to calculate one of the most important statistics in town—mean, median, and mode—and you’ll start to see how to effectively summarize data as concisely and usefully as possible."
   ]
  },
  {
   "cell_type": "markdown",
   "metadata": {},
   "source": [
    "## Welcome to the Health Club\n",
    "\n",
    "The Statsville Health Club prides itself on its ability to find the perfect class for everyone. Whether you want to learn how to swim, practice martial arts, or get your body into shape, they have just the right class for you. The staff at the health club have noticed that their customers seem happiest when they’re in a class with people their own age, and happy customers always come back for more. It seems that the key to success for the health club is to work out what a typical age is for each of their classes, and one way of doing this is to calculate the average. The average gives a representative age for each\n",
    "class, which the health club can use to help their customers pick the right class.\n",
    "\n",
    "Here are the current attendees of the Power Workout class:\n",
    "\n",
    "Ages : 20,20,21,19,20\n",
    "\n",
    "How do we work out the average age of the Power Workout class?"
   ]
  },
  {
   "cell_type": "markdown",
   "metadata": {},
   "source": [
    "## A common measure of average is the mean\n",
    "It’s likely that you’ve been asked to work out averages before. One way to find the average of a bunch of numbers is to add all the numbers together, and then divide by how many numbers there are.\n",
    "\n",
    "In statistics, this is called the **mean**."
   ]
  },
  {
   "cell_type": "markdown",
   "metadata": {},
   "source": [
    "**Q: What’s wrong with just calling it the average? It’s what I’m used to.**\n",
    "\n",
    "A: Because there’s more than one sort of average.\n",
    "\n",
    "You have to know what to call each average, so you can easily communicate which one you’re referring to. It’s a bit like going to your local grocery store and asking for a loaf of bread. The chances are you’ll be asked what sort of bread you’re after: white, whole-grain, etc. So if you’re writing up your sociology research findings, for example, you’ll be expected to specify exactly what kinds of average calculations you did.\n",
    "\n",
    "Likewise, if someone tells you what the average of a set of data is, knowing what sort of average it is gives you a better understanding of what’s really going on with the data. It can give you vital clues about what information is being conveyed—or, in some cases, concealed.\n",
    "\n",
    "We’ll be looking at other types of averages, besides the mean, later in this chapter."
   ]
  },
  {
   "cell_type": "markdown",
   "metadata": {},
   "source": [
    "## Mean math\n",
    "If you want to really excel with statistics, you’ll need to become comfortable with some common stats notation. It may look a little strange at first, but you’ll soon get used to it.\n",
    "\n",
    "### Letters and numbers\n",
    "Almost every statistical calculation involves adding a bunch of numbers together. As an example, if we want to find the mean of\n",
    "the Power Workout class, we first have to add the ages of all the class attendees together.\n",
    "\n",
    "The problem statisticians have is how to generalize this. We don’t necessarily know in advance how many numbers we’re dealing with, or what they are. We currently know how many people are in the Power Workout class and what their ages are, but what if someone else joins the class? If we could only generalize this, we’d have a way of showing the calculation without rewriting it every time the class changes.\n",
    "\n",
    "Statisticians get around this problem by using letters to represent numbers. As an example, they might use the letter x to represent ages in the Power Workout class like this:\n",
    "\n",
    "| Specific Ages | General Ages |\n",
    "|------|------|\n",
    "| 19 | $x_1$ |\n",
    "| 20 | $x_2$ |\n",
    "| 20 | $x_3$ |\n",
    "| 20 | $x_4$ |\n",
    "| 21 | $x_5$ |\n",
    "\n",
    "Each x represents the age of a separate person in the class. It’s a bit like labeling each person with a particular number x.\n",
    "\n",
    "We use x1 as a general way of representing this particular girl’s age. She’s 19 at the moment, but when she becomes 20, we’ll still know her age as $x_1$. We won’t have to rewrite any of our calculations.\n",
    "\n",
    "Now that we have a general way of writing ages, we can use our x’s to represent them in calculations. We can write the sum of the 5 ages in the class as \n",
    "\n",
    "$Sum = x_1 + x_2 + x_3 + x_4 + x_5$\n",
    "\n",
    "*But what if we don’t know how many numbers we have to sum? What if we don’t know how many people are in the class?*\n",
    "\n",
    "### Dealing with unknowns\n",
    "Statisticians use letters to represent unknown numbers. But what if we don’t know how many numbers we might have to add together? Not a problem—we’ll just call the number of values n. If we didn’t know how many people were in the Power Workout class, we’d just say that there were n of them, and write the sum of all the ages as:\n",
    "\n",
    "$Sum = x_1 + x_2 + x_3 + x_4 + x_5 ... + x_n $\n",
    "\n",
    "The “...” is a quick way of saying “and so on.” In other words, just keep on adding x’s.\n",
    "\n",
    "In this case, $x_n$ represents the age of the $n^{th}$ person in the class. If there were 18 people in the class, this would be $x_{18}$, the age of the $18^{th}$ person.\n",
    "\n",
    "**We can take another shortcut.**\n",
    "Writing $x_1 + x_2 + x_3 + x_4 + x_5 ... + x_n $ is a bit like saying “add age 1 to age 2, then add age 3, then add age 4, and keep on adding ages up to age n.” In day-to-day conversation it’s unlikely we’d phrase it like this. We’re far more likely to say “add together all of the ages.” It’s quicker, simpler, and to the point. We can do something similar in math notation by using the summation symbol $\\sum$, which is the Greek letter Sigma. We can use $\\sum x$ (pronounced “sigma x”) as a quick way of saying “add together the values of all the x’s.”\n",
    "\n",
    "$x_1 + x_2 + x_3 + x_4 + x_5 ... + x_n  = \\sum x$\n",
    "\n",
    "Do you see how much quicker and simpler this is? It’s just a mathematical way of saying “add your values together” without having to explicitly say what each value is. Now that we know some handy math shortcuts, let’s see how we can apply this to the mean."
   ]
  },
  {
   "cell_type": "markdown",
   "metadata": {},
   "source": [
    "## Back to the mean\n",
    "We can use math notation to represent the mean. To find the mean of a group of numbers, we add them all together, and then divide by how many there are. We’ve already seen how to write summations, and we’ve also seen how statisticians refer to the total count of a set of numbers as n. If we put these together, we can write the mean as:\n",
    "\n",
    "$\\frac{\\sum x}{n}$\n",
    "\n",
    "In other words, this is just a math shorthand way of saying “add together all of the numbers, and then divide by how many\n",
    "numbers there are.”\n",
    "\n",
    "The mean has its own symbol The mean is one of the most commonly used statistics around, and statisticians use it so frequently that they’ve given it a symbol all of its own: . This is the Greek letter $\\mu$ (pronounced “mew”). Remember, it’s just a quick way of representing the mean.\n",
    "\n",
    "$ \\mu =  \\frac{\\sum x}{n}$"
   ]
  },
  {
   "cell_type": "markdown",
   "metadata": {},
   "source": [
    "Have a go at calculating the mean age of the Power Workout class? Here are their ages."
   ]
  },
  {
   "cell_type": "code",
   "execution_count": 1,
   "metadata": {},
   "outputs": [],
   "source": [
    "workout_ages = [19, 20, 20, 20, 21]"
   ]
  },
  {
   "cell_type": "code",
   "execution_count": 3,
   "metadata": {},
   "outputs": [
    {
     "data": {
      "text/plain": [
       "20.0"
      ]
     },
     "execution_count": 3,
     "metadata": {},
     "output_type": "execute_result"
    }
   ],
   "source": [
    "#solution\n",
    "np.mean(workout_ages)"
   ]
  },
  {
   "cell_type": "code",
   "execution_count": 4,
   "metadata": {},
   "outputs": [
    {
     "data": {
      "text/plain": [
       "20.0"
      ]
     },
     "execution_count": 4,
     "metadata": {},
     "output_type": "execute_result"
    }
   ],
   "source": [
    "np.sum(workout_ages) / len(workout_ages)"
   ]
  },
  {
   "cell_type": "markdown",
   "metadata": {},
   "source": [
    "## Handling frequencies\n",
    "When you calculate the mean of a set of numbers, you’ll often find that some of the numbers are repeated. If you look at the ages of the Power Workout class, you’ll see we actually have 3 people of age 20.\n",
    "\n",
    "It’s really important to make sure that you include the frequency of each number when you’re working out the mean. To make sure we don’t overlook it, we can include it in our formula.\n",
    "\n",
    "If we use the letter f to represent frequency, we can rewrite the mean as\n",
    "\n",
    "$ \\mu = \\frac{\\sum f x}{\\sum f} $\n",
    "\n",
    "This is just another way of writing the mean, but this time explicitly referring to the frequency. Using this for the Power Workout class gives us\n",
    "\n",
    "$ \\mu = \\frac{1*19+3*20+1*21}{5} $\n",
    "\n",
    "It’s the same calculation written slightly differently."
   ]
  },
  {
   "cell_type": "markdown",
   "metadata": {},
   "source": [
    "# Back to the Health Club\n",
    "\n",
    "Here’s another hopeful customer looking for the perfect class. Can you help him find one?\n",
    "\n",
    "Meet Clive, a man in his late fifties who wants an exercise class composed of other middle-aged folks.\n",
    "\n",
    "I want a nice quiet class on a Tuesday evening where I can meet people my age. Do you think you can help me?\n",
    "\n",
    "This sounds easy enough to sort out. According to the brochure, the Health Club has places available in three of its Tuesday evening classes. The first class has a mean age of 17, the second has a mean of 25, and the mean age of the third one is 38. Clive needs to find the class with an average student age that’s closest to his own.\n",
    "\n",
    "Look at the mean ages for each class. Which class should Clive attend?"
   ]
  },
  {
   "cell_type": "markdown",
   "metadata": {},
   "source": [
    "## Everybody was Kung Fu fighting\n",
    "Clive went along to the class with the mean age of 38. He was expecting a gentle class where he could get some nonstrenuous exercise and meet other people his own age. Unfortunately...\n",
    "\n",
    "I ended up in the Kung Fu class with lots of young ‘uns and a few ancient masters. My back will never be the same again.\n",
    "\n",
    "**What could have gone wrong?**\n",
    "The last thing Clive expected (or wanted) was a class that was primarily made up of teenagers. Why do you think this happened? We need to examine the data to find out. Let’s see if sketching the data helps us see what the problem is.\n",
    "\n",
    "Sketch the histograms for the Kung Fu and Power Workout classes. How do the shapes of the distributions compare? Why was Clive sent to the wrong class?"
   ]
  },
  {
   "cell_type": "code",
   "execution_count": 9,
   "metadata": {},
   "outputs": [],
   "source": [
    "kung_fu_class = [19, 19, 19, 20, 20, 20, 20, 20, 20, 21, 21, 21, 145, 147]"
   ]
  },
  {
   "cell_type": "code",
   "execution_count": 13,
   "metadata": {},
   "outputs": [
    {
     "data": {
      "text/plain": [
       "<matplotlib.axes._subplots.AxesSubplot at 0x17eebce77b8>"
      ]
     },
     "execution_count": 13,
     "metadata": {},
     "output_type": "execute_result"
    },
    {
     "data": {
      "image/png": "[encoded data removed]",
      "text/plain": [
       "<Figure size 432x288 with 1 Axes>"
      ]
     },
     "metadata": {
      "needs_background": "light"
     },
     "output_type": "display_data"
    }
   ],
   "source": [
    "workout_df = pd.DataFrame(workout_ages)\n",
    "workout_df.plot.hist(bins = 100)"
   ]
  },
  {
   "cell_type": "code",
   "execution_count": 14,
   "metadata": {},
   "outputs": [
    {
     "data": {
      "text/plain": [
       "<matplotlib.axes._subplots.AxesSubplot at 0x17eeb351438>"
      ]
     },
     "execution_count": 14,
     "metadata": {},
     "output_type": "execute_result"
    },
    {
     "data": {
      "image/png": "[encoded data removed]",
      "text/plain": [
       "<Figure size 432x288 with 1 Axes>"
      ]
     },
     "metadata": {
      "needs_background": "light"
     },
     "output_type": "display_data"
    }
   ],
   "source": [
    "kung_fu_df = pd.DataFrame(kung_fu_class)\n",
    "kung_fu_df.plot.hist(bins = 100)"
   ]
  },
  {
   "cell_type": "markdown",
   "metadata": {},
   "source": [
    "## Our data has outliers\n",
    "Did you see the difference in the shape of the charts for the Power Workout and Kung Fu classes? The ages of the Power Workout\n",
    "class form a smooth, symmetrical shape. It’s easy to see what a typical age is for people in the class.\n",
    "\n",
    "The shape of the chart for the Kung Fu class isn’t as straightforward. Most of the ages are around 20, but there are two masters whose ages are much greater than this. Extreme values such as these are called **outliers**.\n",
    "\n",
    "> Outlier : An extreme high or low value that stands out from the rest of the data"
   ]
  },
  {
   "cell_type": "code",
   "execution_count": 16,
   "metadata": {},
   "outputs": [
    {
     "data": {
      "text/plain": [
       "0    38.0\n",
       "dtype: float64"
      ]
     },
     "execution_count": 16,
     "metadata": {},
     "output_type": "execute_result"
    }
   ],
   "source": [
    "kung_fu_df.mean()"
   ]
  },
  {
   "cell_type": "markdown",
   "metadata": {},
   "source": [
    "The mean is 38, but nobody in the class is around that age. Is it really representative of the class?"
   ]
  },
  {
   "cell_type": "markdown",
   "metadata": {},
   "source": [
    "What would the mean have been if the ancient masters weren’t part of the class? Compare this with the actual mean. What does this tell you about the effect of the outliers?"
   ]
  },
  {
   "cell_type": "markdown",
   "metadata": {},
   "source": [
    "If you look at the data and chart of the Kung Fu class, it’s easy to see that most of the people in the class are around 20 years old. In fact, this would be the mean if the ancient masters weren’t in the class.\n",
    "\n",
    "We can’t just ignore the ancient masters, though; they’re still part of the class. Unfortunately, the presence of people who are way above the “typical” age of the class distorts the mean, pulling it upwards.\n",
    "\n",
    "Can you see how the outliers have pulled the mean higher? This effect is caused by outliers in the data. When this happens, we say the data is **skewed**.\n",
    "\n",
    "The Kung Fu class data is skewed to the right because if you line the data up in ascending order, the outliers are on the right. Let’s take a closer look at this.\n",
    "\n",
    "> Skewed Data : When outliers “pull” the data to the left or right"
   ]
  },
  {
   "cell_type": "markdown",
   "metadata": {},
   "source": [
    "Do you think the mean can ever be the highest value in a set of numbers? Under what circumstances?\n",
    "\n",
    "Yes it can. The mean is the highest value if all of the numbers in the data set are the same."
   ]
  },
  {
   "cell_type": "markdown",
   "metadata": {},
   "source": [
    "**Skewed to the right (Blue, Orange)**\n",
    "Data that is skewed to the right has a “tail” of high outliers that trail off to the right. If you look at a right-skewed chart, you can see this tail. The high outliers in the Kung Fu class data distort the mean, pulling it higher—that is, to\n",
    "the right.\n",
    "\n",
    "**Skewed to the left (Cyan, Green)**\n",
    "Here’s a chart showing data that is skewed to the left. Can you see the tail of outliers on the left? This time the outliers\n",
    "are low, and they pull the mean over to the left. In this situation, the mean is lower than the majority of values.\n",
    "\n",
    "**Symmetric data (Pink)**\n",
    "In an ideal world, you’d expect data to be symmetric. If the data is symmetric, the mean is in the middle. There are no outliers pulling the mean in either direction, and the data has about the same shape on either side of the center.\n",
    "\n",
    "![Skew](https://upload.wikimedia.org/wikipedia/commons/thumb/6/63/Skew_normal_densities.svg/500px-Skew_normal_densities.svg.png)"
   ]
  },
  {
   "cell_type": "markdown",
   "metadata": {},
   "source": [
    "### Watercooler conversation\n",
    "\n",
    "Hey Clive! I heard you joined the Kung Fu class. That’s really unexpected...\n",
    "\n",
    "Clive: They told me the average age for the class is about 38, so I thought I’d fit in alright. I had to sit down after 5 minutes before my legs gave out.\n",
    "\n",
    "Bendy Girl: But I didn’t see anyone that age in the class, so there must have been some sort of mistake in their calculations. Why would they tell you that?\n",
    "\n",
    "Clive: I don’t think their calculations were wrong; they just didn’t tell me what I really needed to know. I asked them what a typical sort of age is for the class, and they gave me the mean, 38.\n",
    "\n",
    "Bendy Girl: And that’s not really typical, is it? I mean, just looking at the people in the class, I would’ve thought that a\n",
    "younger age would be a bit more representative.\n",
    "\n",
    "Clive: If only they’d left the Ancient Masters out of their calculations, I would’ve known not to go to the class. That’s what\n",
    "did it; I’m sure of it. They distorted their whole calculation.\n",
    "\n",
    "Bendy Girl: Well, if the Ancient Masters are such a big problem, why can’t they just ignore them? Maybe that way they could come up with a more typical age for the class..."
   ]
  },
  {
   "cell_type": "markdown",
   "metadata": {},
   "source": [
    "## Finding the median\n",
    "\n",
    "If the mean becomes misleading because of skewed data and outliers, then we need some other way of saying what a typical value is. We can do this by, quite literally, taking the middle value. This is a different sort of average, and it’s called the **median**.\n",
    "\n",
    "To find the median of the Kung Fu class, line up all the ages in ascending order, and then pick the middle value, like this:\n",
    "\n",
    "(19 19 20 20) (20) (21 21 100 102)\n",
    "\n",
    "If you line all the ages up in ascending order, the value 20 is exactly halfway along. Therefore, the median of the Kung Fu class is 20. What if there had been an even number of people in the class?\n",
    "\n",
    "19 20 20 (20 21) 21 100 102\n",
    "\n",
    "If you have an even set of numbers, just take the mean of the two middle numbers (add them together, and divide by 2), and that’s your median. In this case, the median is 20.5.\n",
    "\n",
    "The median is always in the middle. It’s the middle value.\n",
    "\n",
    "We’ve seen that if you have 9 numbers, the median is the number at position 5. If you have 8 numbers, it’s the number at position 4.5 (halfway between the numbers at position 4 and 5). What about if you have n numbers?"
   ]
  },
  {
   "cell_type": "markdown",
   "metadata": {},
   "source": [
    "### How to find the median in three steps:\n",
    "1. Line your numbers up in order, from smallest to largest.\n",
    "2. If you have an odd number of values, the median is the one in the middle. If you have n numbers, the middle number is at position (n + 1) / 2.\n",
    "3. If you have an even number of values, get the median by adding the two middle ones together and dividing by 2. You can find the midpoint by calculating (n + 1) / 2. The two middle numbers are on either side of this point.\n"
   ]
  },
  {
   "cell_type": "markdown",
   "metadata": {},
   "source": [
    "**Q: Is it still OK to use the mean with skewed data if I really want to?**\n",
    "A: You can, and people often do. However, in this situation the mean won’t give you the best representation of what a typical value is. You need the median.\n",
    "\n",
    "**Q: You say that, but surely the whole point of the mean is that it gives a typical value. It’s the average.**\n",
    "A: The big danger is that the mean will give a value that doesn’t exist in the data set. Take the Kung Fu class as an example. If you were to go into the class and pick a person at random, the chances are that person would be around 20 years old because most people in the class are that sort of age. Just going with the mean doesn’t give you that impression. Finding the median can give you a more accurate perspective on the data.\n",
    "\n",
    "But sometimes even the median will give a value that’s not in the data set, like our example on the previous page. That’s precisely why there’s more than one sort of average; sometimes you need to use different methods in order to accurately say what a typical value is.\n",
    "\n",
    "**Q: So is the median better than the mean?**\n",
    "A: Sometimes the median is more appropriate than the mean, but that doesn’t make it better. Most of the time you’ll need to use\n",
    "the mean because it usually offers significant advantages over the median. The mean is more stable when you are sampling data. We’ll come back to this later in the book.\n",
    "\n",
    "**Q: How do I use the mean or median with categorical data?**\n",
    "A: You can only find the mean and median of numerical data. Don’t worry, though, there’s another sort of average that deals with just this problem that we’ll explore later on.\n",
    "\n",
    "**Q: I always get right- and left-skewed data mixed up. How do I remember which is which?**\n",
    "A: Skewed data has a “tail” of outliers. To see which direction the data is skewed in, find the direction the tail is pointing in. For example, right-skewed data has a tail that points to the right."
   ]
  },
  {
   "cell_type": "markdown",
   "metadata": {},
   "source": [
    "## Business is booming\n",
    "\n",
    "Your work on averages is really paying off. More and more people are turning up for classes at the Health Club, and the staff is finding it much easier to find classes to suit the customers.\n",
    "\n",
    "This teenager is after a swimming class where he can make new friends his own age.\n",
    "\n",
    "The swimming class you have for teenagers sounds cool! Sign me up right now.\n",
    "\n",
    "The swimming class has a mean age of 17, and coincidentally, that’s the median too. It sounds like this class will be perfect for him.\n",
    "\n",
    "### The Little Ducklings swimming class\n",
    "The Little Ducklings class meets at the swimming pool twice a week. In this class, parents teach their very young children how to swim, and they all have lots of fun splashing about in the water.\n",
    "\n",
    "Look who turned up for lessons...\n",
    "\n",
    "Stop! Where’s your baby?\n",
    "\n",
    "What do you think might have gone wrong this time?\n",
    "\n",
    "### What went wrong with the mean and median?\n",
    "\n",
    "Let’s take a closer look at what’s going on. Here are the ages of people who go to the Little Ducklings class.\n",
    "\n",
    "1 1 1 2 2 2 2 3 (3 31) 31 32 32 32 32 33 33 33\n",
    "\n",
    "There’s an even number of values, so the median is halfway between 3 and 31. Take the mean of these two numbers : (3 + 31)/2 —\n",
    "and you get 17.\n",
    "\n",
    "The mean and median for the class are both 17, even though there are no 17-year-olds in the class!\n",
    "\n",
    "But what if there had been an odd number of people in the class. Both the mean and median would still have been misleading. Take a look:\n",
    "\n",
    "1 1 1 2 2 2 2 2 3 (3) 31 31 32 32 32 32 33 33 33\n",
    "\n",
    "If we add another 2-year-old to the class, the median becomes 3. But what about the adults?\n",
    "\n",
    "If another two-year-old were to join the class, like we see above, the median would still be 3. This reflects the age of the children, but doesn’t take the adults into account.\n",
    "\n",
    "1 1 1 2 2 2 2 2 3 (31) 31 31 32 32 32 32 33 33 33\n",
    "\n",
    "If we add another 31-year-old to the class, the median instead becomes 31. This time, we ignore the kids!\n",
    "\n",
    "If another 33-year-old were added to the class instead, the median would be 31. But that fails to reflect all the kids in the class. Whichever value we choose for the average age, it seems misleading.\n",
    "\n",
    "What should we do for data like this?"
   ]
  },
  {
   "cell_type": "markdown",
   "metadata": {},
   "source": [
    "## The Mean Exposed\n",
    "This week’s interview: The many types of average\n",
    "\n",
    "Us: Hey, Average, great to have you on the show...\n",
    "\n",
    "Mean: Please, call me Mean.\n",
    "\n",
    "Us: Mean? But I thought you were Average. Did we mix up the guest list?\n",
    "\n",
    "Mean: Not at all. You see, there’s more than one type of Average in Stats, and I’m one of them, the Mean.\n",
    "\n",
    "Us: There’s more than one Average? That sounds kinda complicated.\n",
    "\n",
    "Mean: Not really, not once you get used to it. You see, we all say what a typical value is for a set of numbers, but we have different opinions about how to say what that is.\n",
    "\n",
    "Us: So which one of you is the real Average? You know, the one where you add all the numbers together, and then divide by however many numbers there are?\n",
    "\n",
    "Mean: That’s me, but please don’t call me the “real” Average; the other guys might get offended. The truth is that a lot of people new to Stats see me as being Mr. Average. I have the same calculation that students see when they first encounter Averages in basic arithmetic. It’s just that in Stats, I’m called Mean to differentiate between the other sorts of Average.\n",
    "\n",
    "Us: So do you have any other names? \n",
    "\n",
    "Mean: Well, I do have a symbol, $\\mu$ . All the rock stars have them. Well, some of them do. I do anyway. It’s Greek, so that makes me exotic.\n",
    "\n",
    "Us: So why are any of the other sorts of Average needed?\n",
    "\n",
    "Mean: I hate to say it, but I have weaknesses. I lose my head a bit when I deal with data that has outliers. Without the outliers I’m fine, but then when I see outliers, I get kinda mesmerized and move towards them. It’s led to a few problems. I can sometimes end up well away from where most of the values are. That’s where Median comes in.\n",
    "\n",
    "Us: Median?\n",
    "\n",
    "Mean: He’s so level-headed when it comes to outliers. No matter what you throw at him, he always stays right in the middle of the data. Of course, the downside of the Median is that you can’t calculate him as such; you can only work out what position he\n",
    "should be in. It makes him a bit less useful further down the line.\n",
    "\n",
    "Us: Do the two of you ever have the same value?\n",
    "\n",
    "Mean: We do if the data’s symmetric; otherwise, there tends to be differences between us. As a general rule, if there are outliers, then I tend to wander towards them, while Median stays where he is.\n",
    "\n",
    "Us: We’re running out of time, so here’s one final question. Are there any situations where both you and Median have problems saying what a typical value is?\n",
    "\n",
    "Mean: I’m afraid there is. Sometimes we need a little helping hand from another sort of Average. He doesn’t get out all that much, but he’s a useful guy to know. Stick around, and I’ll show you some of the things he’s up to.\n",
    "\n",
    "Us: Sounds great!"
   ]
  },
  {
   "cell_type": "markdown",
   "metadata": {},
   "source": [
    "## Introducing the mode\n",
    "\n",
    "In addition to the mean and median, there’s a third type of average called the mode. The mode of a set of data is the most popular value, the value with the highest frequency. Unlike the mean and median, the mode absolutely has to be a value in the data set, and it’s the most frequent value.\n",
    "\n",
    "Sometimes data can have more than one mode. If there is more than one value with the highest frequency, then each one of these values is a mode. If the data looks as though it’s representing more than one trend or set of data, then we can give a mode for each set. If a set of data has two modes, then we call the data **bimodal**.\n",
    "\n",
    "This is exactly the situation we have with the Little Ducklings class. There are really two sets of ages we’re looking at, one for parents and one for children, so there isn’t a single age that’s totally representative of the entire class. Instead, we can say what the mode is for each set of ages. In the Little Ducklings class, ages 2 and 32 have the highest frequency, so these ages are both modes. On a chart, the modes are the ones with the highest frequencies.\n",
    "\n",
    "### It even works with categorical data\n",
    "The mode doesn’t just work with numeric data; it works with categorical data, too. In fact, it’s the only sort of average that works with categorical data. When you’re dealing with categorical data, the mode is the most frequently occurring category. You can also use it to specify the highest frequency group of values. The category or group with the highest frequency is called the **modal class**.\n",
    "\n",
    "Swimming Classes:\n",
    "\n",
    "Mode ages: 2 and 32\n",
    "\n",
    "### Three steps for finding the mode:\n",
    "1. Find all the distinct categories or values in your set of data.\n",
    "2. Write down the frequency of each value or category.\n",
    "3. Pick out the one(s) with the highest frequency to get the mode."
   ]
  },
  {
   "cell_type": "code",
   "execution_count": null,
   "metadata": {},
   "outputs": [],
   "source": []
  }
 ],
 "metadata": {
  "kernelspec": {
   "display_name": "Python 3",
   "language": "python",
   "name": "python3"
  },
  "language_info": {
   "codemirror_mode": {
    "name": "ipython",
    "version": 3
   },
   "file_extension": ".py",
   "mimetype": "text/x-python",
   "name": "python",
   "nbconvert_exporter": "python",
   "pygments_lexer": "ipython3",
   "version": "3.7.3"
  }
 },
 "nbformat": 4,
 "nbformat_minor": 2
}
