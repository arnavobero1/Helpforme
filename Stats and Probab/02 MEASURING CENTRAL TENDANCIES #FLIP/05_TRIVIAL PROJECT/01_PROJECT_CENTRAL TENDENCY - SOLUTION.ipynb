{
 "cells": [
  {
   "cell_type": "markdown",
   "metadata": {},
   "source": [
    "# CENTRAL TENDENCY - PROJECT"
   ]
  },
  {
   "cell_type": "markdown",
   "metadata": {},
   "source": [
    "## Dataset Description"
   ]
  },
  {
   "cell_type": "markdown",
   "metadata": {},
   "source": [
    "###  Swing_States_Dataset"
   ]
  },
  {
   "cell_type": "markdown",
   "metadata": {},
   "source": [
    "2008_Swing_States dataset (Available on Kaggle) contains US swing states election results. \n",
    "\n",
    "There are 221 observations in the dataset with 6 features each (state, county, total_votes, dem_votes, rep_votes, dem_share). \n",
    "\n",
    "There are no null values in the dataset."
   ]
  },
  {
   "cell_type": "markdown",
   "metadata": {},
   "source": [
    "# Problem"
   ]
  },
  {
   "cell_type": "markdown",
   "metadata": {},
   "source": [
    "**1. What is the highest dem_share percentage for different states? Find the countys with highest dem_share in each state? Also check for null values.**\n",
    "\n",
    "**2. Whats the average total_votes for each states? Also calculate their respective median.**\n",
    "\n",
    "**3. Calculate the variablity and skewness (whether positive or negative or zero) for total_votes for each states.**\n",
    "\n",
    "**4. Also calculate the z - score of total_votes for each states.**\n",
    "\n",
    "**5. Calculate Interquartile range of total_votes of state PA.**"
   ]
  },
  {
   "cell_type": "markdown",
   "metadata": {},
   "source": [
    "# Solution"
   ]
  },
  {
   "cell_type": "markdown",
   "metadata": {},
   "source": [
    "# 1. "
   ]
  },
  {
   "cell_type": "code",
   "execution_count": 1,
   "metadata": {},
   "outputs": [],
   "source": [
    "import numpy as np\n",
    "import pandas as pd"
   ]
  },
  {
   "cell_type": "code",
   "execution_count": 2,
   "metadata": {},
   "outputs": [],
   "source": [
    "df=pd.read_csv(\"2008_swing_states.csv\")"
   ]
  },
  {
   "cell_type": "code",
   "execution_count": 3,
   "metadata": {},
   "outputs": [
    {
     "data": {
      "text/html": [
       "<div>\n",
       "<style scoped>\n",
       "    .dataframe tbody tr th:only-of-type {\n",
       "        vertical-align: middle;\n",
       "    }\n",
       "\n",
       "    .dataframe tbody tr th {\n",
       "        vertical-align: top;\n",
       "    }\n",
       "\n",
       "    .dataframe thead th {\n",
       "        text-align: right;\n",
       "    }\n",
       "</style>\n",
       "<table border=\"1\" class=\"dataframe\">\n",
       "  <thead>\n",
       "    <tr style=\"text-align: right;\">\n",
       "      <th></th>\n",
       "      <th>state</th>\n",
       "      <th>county</th>\n",
       "      <th>total_votes</th>\n",
       "      <th>dem_votes</th>\n",
       "      <th>rep_votes</th>\n",
       "      <th>dem_share</th>\n",
       "    </tr>\n",
       "  </thead>\n",
       "  <tbody>\n",
       "    <tr>\n",
       "      <th>0</th>\n",
       "      <td>PA</td>\n",
       "      <td>Erie County</td>\n",
       "      <td>127691</td>\n",
       "      <td>75775</td>\n",
       "      <td>50351</td>\n",
       "      <td>60.08</td>\n",
       "    </tr>\n",
       "    <tr>\n",
       "      <th>1</th>\n",
       "      <td>PA</td>\n",
       "      <td>Bradford County</td>\n",
       "      <td>25787</td>\n",
       "      <td>10306</td>\n",
       "      <td>15057</td>\n",
       "      <td>40.64</td>\n",
       "    </tr>\n",
       "    <tr>\n",
       "      <th>2</th>\n",
       "      <td>PA</td>\n",
       "      <td>Tioga County</td>\n",
       "      <td>17984</td>\n",
       "      <td>6390</td>\n",
       "      <td>11326</td>\n",
       "      <td>36.07</td>\n",
       "    </tr>\n",
       "    <tr>\n",
       "      <th>3</th>\n",
       "      <td>PA</td>\n",
       "      <td>McKean County</td>\n",
       "      <td>15947</td>\n",
       "      <td>6465</td>\n",
       "      <td>9224</td>\n",
       "      <td>41.21</td>\n",
       "    </tr>\n",
       "    <tr>\n",
       "      <th>4</th>\n",
       "      <td>PA</td>\n",
       "      <td>Potter County</td>\n",
       "      <td>7507</td>\n",
       "      <td>2300</td>\n",
       "      <td>5109</td>\n",
       "      <td>31.04</td>\n",
       "    </tr>\n",
       "  </tbody>\n",
       "</table>\n",
       "</div>"
      ],
      "text/plain": [
       "  state           county  total_votes  dem_votes  rep_votes  dem_share\n",
       "0    PA      Erie County       127691      75775      50351      60.08\n",
       "1    PA  Bradford County        25787      10306      15057      40.64\n",
       "2    PA     Tioga County        17984       6390      11326      36.07\n",
       "3    PA    McKean County        15947       6465       9224      41.21\n",
       "4    PA    Potter County         7507       2300       5109      31.04"
      ]
     },
     "execution_count": 3,
     "metadata": {},
     "output_type": "execute_result"
    }
   ],
   "source": [
    "df.head()"
   ]
  },
  {
   "cell_type": "code",
   "execution_count": 4,
   "metadata": {},
   "outputs": [
    {
     "name": "stdout",
     "output_type": "stream",
     "text": [
      "<class 'pandas.core.frame.DataFrame'>\n",
      "RangeIndex: 222 entries, 0 to 221\n",
      "Data columns (total 6 columns):\n",
      "state          222 non-null object\n",
      "county         222 non-null object\n",
      "total_votes    222 non-null int64\n",
      "dem_votes      222 non-null int64\n",
      "rep_votes      222 non-null int64\n",
      "dem_share      222 non-null float64\n",
      "dtypes: float64(1), int64(3), object(2)\n",
      "memory usage: 10.5+ KB\n"
     ]
    }
   ],
   "source": [
    "df.info()"
   ]
  },
  {
   "cell_type": "code",
   "execution_count": 51,
   "metadata": {},
   "outputs": [
    {
     "data": {
      "text/plain": [
       "state          0\n",
       "county         0\n",
       "total_votes    0\n",
       "dem_votes      0\n",
       "rep_votes      0\n",
       "dem_share      0\n",
       "dtype: int64"
      ]
     },
     "execution_count": 51,
     "metadata": {},
     "output_type": "execute_result"
    }
   ],
   "source": [
    "df.isnull().sum()"
   ]
  },
  {
   "cell_type": "code",
   "execution_count": 5,
   "metadata": {},
   "outputs": [
    {
     "data": {
      "text/plain": [
       "array(['PA', 'OH', 'FL'], dtype=object)"
      ]
     },
     "execution_count": 5,
     "metadata": {},
     "output_type": "execute_result"
    }
   ],
   "source": [
    "df['state'].unique()"
   ]
  },
  {
   "cell_type": "code",
   "execution_count": 6,
   "metadata": {},
   "outputs": [
    {
     "data": {
      "text/plain": [
       "'county'"
      ]
     },
     "execution_count": 6,
     "metadata": {},
     "output_type": "execute_result"
    }
   ],
   "source": [
    "df.columns[1]"
   ]
  },
  {
   "cell_type": "code",
   "execution_count": 8,
   "metadata": {},
   "outputs": [
    {
     "data": {
      "text/plain": [
       "pandas.core.series.Series"
      ]
     },
     "execution_count": 8,
     "metadata": {},
     "output_type": "execute_result"
    }
   ],
   "source": [
    "state = df.state\n",
    "type(state)"
   ]
  },
  {
   "cell_type": "code",
   "execution_count": 9,
   "metadata": {},
   "outputs": [
    {
     "data": {
      "text/plain": [
       "0      PA\n",
       "1      PA\n",
       "2      PA\n",
       "3      PA\n",
       "4      PA\n",
       "5      PA\n",
       "6      PA\n",
       "7      PA\n",
       "8      OH\n",
       "9      OH\n",
       "10     PA\n",
       "11     OH\n",
       "12     OH\n",
       "13     OH\n",
       "14     OH\n",
       "15     PA\n",
       "16     PA\n",
       "17     PA\n",
       "18     PA\n",
       "19     PA\n",
       "20     OH\n",
       "21     OH\n",
       "22     PA\n",
       "23     PA\n",
       "24     PA\n",
       "25     PA\n",
       "26     OH\n",
       "27     OH\n",
       "28     PA\n",
       "29     OH\n",
       "       ..\n",
       "192    FL\n",
       "193    FL\n",
       "194    FL\n",
       "195    FL\n",
       "196    FL\n",
       "197    FL\n",
       "198    FL\n",
       "199    FL\n",
       "200    FL\n",
       "201    FL\n",
       "202    FL\n",
       "203    FL\n",
       "204    FL\n",
       "205    FL\n",
       "206    FL\n",
       "207    FL\n",
       "208    FL\n",
       "209    OH\n",
       "210    OH\n",
       "211    OH\n",
       "212    OH\n",
       "213    OH\n",
       "214    OH\n",
       "215    OH\n",
       "216    OH\n",
       "217    OH\n",
       "218    OH\n",
       "219    OH\n",
       "220    OH\n",
       "221    OH\n",
       "Name: state, Length: 222, dtype: object"
      ]
     },
     "execution_count": 9,
     "metadata": {},
     "output_type": "execute_result"
    }
   ],
   "source": [
    "state"
   ]
  },
  {
   "cell_type": "code",
   "execution_count": 56,
   "metadata": {},
   "outputs": [
    {
     "data": {
      "text/plain": [
       "'PA'"
      ]
     },
     "execution_count": 56,
     "metadata": {},
     "output_type": "execute_result"
    }
   ],
   "source": [
    "state[0]"
   ]
  },
  {
   "cell_type": "code",
   "execution_count": 57,
   "metadata": {},
   "outputs": [
    {
     "data": {
      "text/plain": [
       "1    PA\n",
       "2    PA\n",
       "Name: state, dtype: object"
      ]
     },
     "execution_count": 57,
     "metadata": {},
     "output_type": "execute_result"
    }
   ],
   "source": [
    "state[1:3]"
   ]
  },
  {
   "cell_type": "code",
   "execution_count": 11,
   "metadata": {},
   "outputs": [
    {
     "data": {
      "text/plain": [
       "FL    67\n",
       "OH    88\n",
       "PA    67\n",
       "Name: state, dtype: int64"
      ]
     },
     "execution_count": 11,
     "metadata": {},
     "output_type": "execute_result"
    }
   ],
   "source": [
    "df.state.value_counts().sort_index()"
   ]
  },
  {
   "cell_type": "code",
   "execution_count": 12,
   "metadata": {},
   "outputs": [],
   "source": [
    "a=df[df['state']=='PA']\n",
    "b=df[df['state']=='OH']\n",
    "c=df[df['state']=='FL']"
   ]
  },
  {
   "cell_type": "code",
   "execution_count": 13,
   "metadata": {},
   "outputs": [
    {
     "data": {
      "text/html": [
       "<div>\n",
       "<style scoped>\n",
       "    .dataframe tbody tr th:only-of-type {\n",
       "        vertical-align: middle;\n",
       "    }\n",
       "\n",
       "    .dataframe tbody tr th {\n",
       "        vertical-align: top;\n",
       "    }\n",
       "\n",
       "    .dataframe thead th {\n",
       "        text-align: right;\n",
       "    }\n",
       "</style>\n",
       "<table border=\"1\" class=\"dataframe\">\n",
       "  <thead>\n",
       "    <tr style=\"text-align: right;\">\n",
       "      <th></th>\n",
       "      <th>state</th>\n",
       "      <th>county</th>\n",
       "      <th>total_votes</th>\n",
       "      <th>dem_votes</th>\n",
       "      <th>rep_votes</th>\n",
       "      <th>dem_share</th>\n",
       "    </tr>\n",
       "  </thead>\n",
       "  <tbody>\n",
       "    <tr>\n",
       "      <th>0</th>\n",
       "      <td>PA</td>\n",
       "      <td>Erie County</td>\n",
       "      <td>127691</td>\n",
       "      <td>75775</td>\n",
       "      <td>50351</td>\n",
       "      <td>60.08</td>\n",
       "    </tr>\n",
       "    <tr>\n",
       "      <th>1</th>\n",
       "      <td>PA</td>\n",
       "      <td>Bradford County</td>\n",
       "      <td>25787</td>\n",
       "      <td>10306</td>\n",
       "      <td>15057</td>\n",
       "      <td>40.64</td>\n",
       "    </tr>\n",
       "    <tr>\n",
       "      <th>2</th>\n",
       "      <td>PA</td>\n",
       "      <td>Tioga County</td>\n",
       "      <td>17984</td>\n",
       "      <td>6390</td>\n",
       "      <td>11326</td>\n",
       "      <td>36.07</td>\n",
       "    </tr>\n",
       "    <tr>\n",
       "      <th>3</th>\n",
       "      <td>PA</td>\n",
       "      <td>McKean County</td>\n",
       "      <td>15947</td>\n",
       "      <td>6465</td>\n",
       "      <td>9224</td>\n",
       "      <td>41.21</td>\n",
       "    </tr>\n",
       "    <tr>\n",
       "      <th>4</th>\n",
       "      <td>PA</td>\n",
       "      <td>Potter County</td>\n",
       "      <td>7507</td>\n",
       "      <td>2300</td>\n",
       "      <td>5109</td>\n",
       "      <td>31.04</td>\n",
       "    </tr>\n",
       "  </tbody>\n",
       "</table>\n",
       "</div>"
      ],
      "text/plain": [
       "  state           county  total_votes  dem_votes  rep_votes  dem_share\n",
       "0    PA      Erie County       127691      75775      50351      60.08\n",
       "1    PA  Bradford County        25787      10306      15057      40.64\n",
       "2    PA     Tioga County        17984       6390      11326      36.07\n",
       "3    PA    McKean County        15947       6465       9224      41.21\n",
       "4    PA    Potter County         7507       2300       5109      31.04"
      ]
     },
     "execution_count": 13,
     "metadata": {},
     "output_type": "execute_result"
    }
   ],
   "source": [
    "a.head()"
   ]
  },
  {
   "cell_type": "code",
   "execution_count": 14,
   "metadata": {},
   "outputs": [
    {
     "data": {
      "text/html": [
       "<div>\n",
       "<style scoped>\n",
       "    .dataframe tbody tr th:only-of-type {\n",
       "        vertical-align: middle;\n",
       "    }\n",
       "\n",
       "    .dataframe tbody tr th {\n",
       "        vertical-align: top;\n",
       "    }\n",
       "\n",
       "    .dataframe thead th {\n",
       "        text-align: right;\n",
       "    }\n",
       "</style>\n",
       "<table border=\"1\" class=\"dataframe\">\n",
       "  <thead>\n",
       "    <tr style=\"text-align: right;\">\n",
       "      <th></th>\n",
       "      <th>state</th>\n",
       "      <th>county</th>\n",
       "      <th>total_votes</th>\n",
       "      <th>dem_votes</th>\n",
       "      <th>rep_votes</th>\n",
       "      <th>dem_share</th>\n",
       "    </tr>\n",
       "  </thead>\n",
       "  <tbody>\n",
       "    <tr>\n",
       "      <th>8</th>\n",
       "      <td>OH</td>\n",
       "      <td>Ashtabula County</td>\n",
       "      <td>44874</td>\n",
       "      <td>25027</td>\n",
       "      <td>18949</td>\n",
       "      <td>56.94</td>\n",
       "    </tr>\n",
       "    <tr>\n",
       "      <th>9</th>\n",
       "      <td>OH</td>\n",
       "      <td>Lake County</td>\n",
       "      <td>121335</td>\n",
       "      <td>60155</td>\n",
       "      <td>59142</td>\n",
       "      <td>50.46</td>\n",
       "    </tr>\n",
       "    <tr>\n",
       "      <th>11</th>\n",
       "      <td>OH</td>\n",
       "      <td>Lucas County</td>\n",
       "      <td>219830</td>\n",
       "      <td>142852</td>\n",
       "      <td>73706</td>\n",
       "      <td>65.99</td>\n",
       "    </tr>\n",
       "    <tr>\n",
       "      <th>12</th>\n",
       "      <td>OH</td>\n",
       "      <td>Fulton County</td>\n",
       "      <td>21973</td>\n",
       "      <td>9900</td>\n",
       "      <td>11689</td>\n",
       "      <td>45.88</td>\n",
       "    </tr>\n",
       "    <tr>\n",
       "      <th>13</th>\n",
       "      <td>OH</td>\n",
       "      <td>Geauga County</td>\n",
       "      <td>51102</td>\n",
       "      <td>21250</td>\n",
       "      <td>29096</td>\n",
       "      <td>42.23</td>\n",
       "    </tr>\n",
       "  </tbody>\n",
       "</table>\n",
       "</div>"
      ],
      "text/plain": [
       "   state            county  total_votes  dem_votes  rep_votes  dem_share\n",
       "8     OH  Ashtabula County        44874      25027      18949      56.94\n",
       "9     OH       Lake County       121335      60155      59142      50.46\n",
       "11    OH      Lucas County       219830     142852      73706      65.99\n",
       "12    OH     Fulton County        21973       9900      11689      45.88\n",
       "13    OH     Geauga County        51102      21250      29096      42.23"
      ]
     },
     "execution_count": 14,
     "metadata": {},
     "output_type": "execute_result"
    }
   ],
   "source": [
    "b.head()"
   ]
  },
  {
   "cell_type": "code",
   "execution_count": 15,
   "metadata": {},
   "outputs": [
    {
     "data": {
      "text/html": [
       "<div>\n",
       "<style scoped>\n",
       "    .dataframe tbody tr th:only-of-type {\n",
       "        vertical-align: middle;\n",
       "    }\n",
       "\n",
       "    .dataframe tbody tr th {\n",
       "        vertical-align: top;\n",
       "    }\n",
       "\n",
       "    .dataframe thead th {\n",
       "        text-align: right;\n",
       "    }\n",
       "</style>\n",
       "<table border=\"1\" class=\"dataframe\">\n",
       "  <thead>\n",
       "    <tr style=\"text-align: right;\">\n",
       "      <th></th>\n",
       "      <th>state</th>\n",
       "      <th>county</th>\n",
       "      <th>total_votes</th>\n",
       "      <th>dem_votes</th>\n",
       "      <th>rep_votes</th>\n",
       "      <th>dem_share</th>\n",
       "    </tr>\n",
       "  </thead>\n",
       "  <tbody>\n",
       "    <tr>\n",
       "      <th>142</th>\n",
       "      <td>FL</td>\n",
       "      <td>Jackson County</td>\n",
       "      <td>21565</td>\n",
       "      <td>7671</td>\n",
       "      <td>13717</td>\n",
       "      <td>35.86</td>\n",
       "    </tr>\n",
       "    <tr>\n",
       "      <th>143</th>\n",
       "      <td>FL</td>\n",
       "      <td>Escambia County</td>\n",
       "      <td>154447</td>\n",
       "      <td>61572</td>\n",
       "      <td>91411</td>\n",
       "      <td>40.25</td>\n",
       "    </tr>\n",
       "    <tr>\n",
       "      <th>144</th>\n",
       "      <td>FL</td>\n",
       "      <td>Santa Rosa County</td>\n",
       "      <td>76185</td>\n",
       "      <td>19470</td>\n",
       "      <td>55972</td>\n",
       "      <td>25.81</td>\n",
       "    </tr>\n",
       "    <tr>\n",
       "      <th>145</th>\n",
       "      <td>FL</td>\n",
       "      <td>Okaloosa County</td>\n",
       "      <td>95529</td>\n",
       "      <td>25872</td>\n",
       "      <td>68789</td>\n",
       "      <td>27.33</td>\n",
       "    </tr>\n",
       "    <tr>\n",
       "      <th>146</th>\n",
       "      <td>FL</td>\n",
       "      <td>Holmes County</td>\n",
       "      <td>8589</td>\n",
       "      <td>1446</td>\n",
       "      <td>7033</td>\n",
       "      <td>17.06</td>\n",
       "    </tr>\n",
       "  </tbody>\n",
       "</table>\n",
       "</div>"
      ],
      "text/plain": [
       "    state             county  total_votes  dem_votes  rep_votes  dem_share\n",
       "142    FL     Jackson County        21565       7671      13717      35.86\n",
       "143    FL    Escambia County       154447      61572      91411      40.25\n",
       "144    FL  Santa Rosa County        76185      19470      55972      25.81\n",
       "145    FL    Okaloosa County        95529      25872      68789      27.33\n",
       "146    FL      Holmes County         8589       1446       7033      17.06"
      ]
     },
     "execution_count": 15,
     "metadata": {},
     "output_type": "execute_result"
    }
   ],
   "source": [
    "c.head()"
   ]
  },
  {
   "cell_type": "code",
   "execution_count": 16,
   "metadata": {},
   "outputs": [
    {
     "data": {
      "text/plain": [
       "83.56"
      ]
     },
     "execution_count": 16,
     "metadata": {},
     "output_type": "execute_result"
    }
   ],
   "source": [
    "a['dem_share'].max()"
   ]
  },
  {
   "cell_type": "code",
   "execution_count": 17,
   "metadata": {},
   "outputs": [
    {
     "data": {
      "text/html": [
       "<div>\n",
       "<style scoped>\n",
       "    .dataframe tbody tr th:only-of-type {\n",
       "        vertical-align: middle;\n",
       "    }\n",
       "\n",
       "    .dataframe tbody tr th {\n",
       "        vertical-align: top;\n",
       "    }\n",
       "\n",
       "    .dataframe thead th {\n",
       "        text-align: right;\n",
       "    }\n",
       "</style>\n",
       "<table border=\"1\" class=\"dataframe\">\n",
       "  <thead>\n",
       "    <tr style=\"text-align: right;\">\n",
       "      <th></th>\n",
       "      <th>state</th>\n",
       "      <th>county</th>\n",
       "      <th>total_votes</th>\n",
       "      <th>dem_votes</th>\n",
       "      <th>rep_votes</th>\n",
       "      <th>dem_share</th>\n",
       "    </tr>\n",
       "  </thead>\n",
       "  <tbody>\n",
       "    <tr>\n",
       "      <th>114</th>\n",
       "      <td>PA</td>\n",
       "      <td>Philadelphia County</td>\n",
       "      <td>717329</td>\n",
       "      <td>595980</td>\n",
       "      <td>117221</td>\n",
       "      <td>83.56</td>\n",
       "    </tr>\n",
       "  </tbody>\n",
       "</table>\n",
       "</div>"
      ],
      "text/plain": [
       "    state               county  total_votes  dem_votes  rep_votes  dem_share\n",
       "114    PA  Philadelphia County       717329     595980     117221      83.56"
      ]
     },
     "execution_count": 17,
     "metadata": {},
     "output_type": "execute_result"
    }
   ],
   "source": [
    "a[a['dem_share']==83.56]"
   ]
  },
  {
   "cell_type": "code",
   "execution_count": 18,
   "metadata": {},
   "outputs": [
    {
     "data": {
      "text/plain": [
       "69.64"
      ]
     },
     "execution_count": 18,
     "metadata": {},
     "output_type": "execute_result"
    }
   ],
   "source": [
    "b['dem_share'].max()"
   ]
  },
  {
   "cell_type": "code",
   "execution_count": 19,
   "metadata": {},
   "outputs": [
    {
     "data": {
      "text/html": [
       "<div>\n",
       "<style scoped>\n",
       "    .dataframe tbody tr th:only-of-type {\n",
       "        vertical-align: middle;\n",
       "    }\n",
       "\n",
       "    .dataframe tbody tr th {\n",
       "        vertical-align: top;\n",
       "    }\n",
       "\n",
       "    .dataframe thead th {\n",
       "        text-align: right;\n",
       "    }\n",
       "</style>\n",
       "<table border=\"1\" class=\"dataframe\">\n",
       "  <thead>\n",
       "    <tr style=\"text-align: right;\">\n",
       "      <th></th>\n",
       "      <th>state</th>\n",
       "      <th>county</th>\n",
       "      <th>total_votes</th>\n",
       "      <th>dem_votes</th>\n",
       "      <th>rep_votes</th>\n",
       "      <th>dem_share</th>\n",
       "    </tr>\n",
       "  </thead>\n",
       "  <tbody>\n",
       "    <tr>\n",
       "      <th>215</th>\n",
       "      <td>OH</td>\n",
       "      <td>Cuyahoga County</td>\n",
       "      <td>665352</td>\n",
       "      <td>458422</td>\n",
       "      <td>199880</td>\n",
       "      <td>69.64</td>\n",
       "    </tr>\n",
       "  </tbody>\n",
       "</table>\n",
       "</div>"
      ],
      "text/plain": [
       "    state           county  total_votes  dem_votes  rep_votes  dem_share\n",
       "215    OH  Cuyahoga County       665352     458422     199880      69.64"
      ]
     },
     "execution_count": 19,
     "metadata": {},
     "output_type": "execute_result"
    }
   ],
   "source": [
    "b[b['dem_share']==69.64]"
   ]
  },
  {
   "cell_type": "code",
   "execution_count": 67,
   "metadata": {},
   "outputs": [
    {
     "data": {
      "text/plain": [
       "69.58"
      ]
     },
     "execution_count": 67,
     "metadata": {},
     "output_type": "execute_result"
    }
   ],
   "source": [
    "c['dem_share'].max()"
   ]
  },
  {
   "cell_type": "code",
   "execution_count": 68,
   "metadata": {},
   "outputs": [
    {
     "data": {
      "text/html": [
       "<div>\n",
       "<style scoped>\n",
       "    .dataframe tbody tr th:only-of-type {\n",
       "        vertical-align: middle;\n",
       "    }\n",
       "\n",
       "    .dataframe tbody tr th {\n",
       "        vertical-align: top;\n",
       "    }\n",
       "\n",
       "    .dataframe thead th {\n",
       "        text-align: right;\n",
       "    }\n",
       "</style>\n",
       "<table border=\"1\" class=\"dataframe\">\n",
       "  <thead>\n",
       "    <tr style=\"text-align: right;\">\n",
       "      <th></th>\n",
       "      <th>state</th>\n",
       "      <th>county</th>\n",
       "      <th>total_votes</th>\n",
       "      <th>dem_votes</th>\n",
       "      <th>rep_votes</th>\n",
       "      <th>dem_share</th>\n",
       "    </tr>\n",
       "  </thead>\n",
       "  <tbody>\n",
       "    <tr>\n",
       "      <th>150</th>\n",
       "      <td>FL</td>\n",
       "      <td>Gadsden County</td>\n",
       "      <td>22510</td>\n",
       "      <td>15582</td>\n",
       "      <td>6811</td>\n",
       "      <td>69.58</td>\n",
       "    </tr>\n",
       "  </tbody>\n",
       "</table>\n",
       "</div>"
      ],
      "text/plain": [
       "    state          county  total_votes  dem_votes  rep_votes  dem_share\n",
       "150    FL  Gadsden County        22510      15582       6811      69.58"
      ]
     },
     "execution_count": 68,
     "metadata": {},
     "output_type": "execute_result"
    }
   ],
   "source": [
    "c[c['dem_share']==69.58]"
   ]
  },
  {
   "cell_type": "markdown",
   "metadata": {},
   "source": [
    "# Inference:"
   ]
  },
  {
   "cell_type": "markdown",
   "metadata": {},
   "source": [
    "**The highest dem_share in PA state was for Philadelphia County. The share of votes for democratic party was 83.56%.**"
   ]
  },
  {
   "cell_type": "markdown",
   "metadata": {},
   "source": [
    "**The highest dem_share in OH state was for Cuyahoga County. The share of votes for democratic party was 69.64%.**"
   ]
  },
  {
   "cell_type": "markdown",
   "metadata": {},
   "source": [
    "**The highest dem_share in FL state was for Gadsden County. The share of votes for democratic party was 69.58%.**"
   ]
  },
  {
   "cell_type": "markdown",
   "metadata": {},
   "source": [
    "# 2. "
   ]
  },
  {
   "cell_type": "code",
   "execution_count": 69,
   "metadata": {},
   "outputs": [
    {
     "data": {
      "text/plain": [
       "total_votes    89479.656716\n",
       "dem_votes      48900.940299\n",
       "rep_votes      39640.074627\n",
       "dem_share         45.476418\n",
       "dtype: float64"
      ]
     },
     "execution_count": 69,
     "metadata": {},
     "output_type": "execute_result"
    }
   ],
   "source": [
    "a.mean()"
   ]
  },
  {
   "cell_type": "code",
   "execution_count": 70,
   "metadata": {},
   "outputs": [
    {
     "data": {
      "text/plain": [
       "total_votes    64640.465909\n",
       "dem_votes      33217.431818\n",
       "rep_votes      30397.829545\n",
       "dem_share         44.318182\n",
       "dtype: float64"
      ]
     },
     "execution_count": 70,
     "metadata": {},
     "output_type": "execute_result"
    }
   ],
   "source": [
    "b.mean()"
   ]
  },
  {
   "cell_type": "code",
   "execution_count": 71,
   "metadata": {},
   "outputs": [
    {
     "data": {
      "text/plain": [
       "total_votes    125234.985075\n",
       "dem_votes       63911.552239\n",
       "rep_votes       60382.447761\n",
       "dem_share          41.325075\n",
       "dtype: float64"
      ]
     },
     "execution_count": 71,
     "metadata": {},
     "output_type": "execute_result"
    }
   ],
   "source": [
    "c.mean()"
   ]
  },
  {
   "cell_type": "code",
   "execution_count": 72,
   "metadata": {},
   "outputs": [
    {
     "data": {
      "text/plain": [
       "total_votes    37302.00\n",
       "dem_votes      16780.00\n",
       "rep_votes      20750.00\n",
       "dem_share         44.03\n",
       "dtype: float64"
      ]
     },
     "execution_count": 72,
     "metadata": {},
     "output_type": "execute_result"
    }
   ],
   "source": [
    "a.median()"
   ]
  },
  {
   "cell_type": "code",
   "execution_count": 73,
   "metadata": {},
   "outputs": [
    {
     "data": {
      "text/plain": [
       "total_votes    25687.500\n",
       "dem_votes      11138.000\n",
       "rep_votes      15418.500\n",
       "dem_share         43.675\n",
       "dtype: float64"
      ]
     },
     "execution_count": 73,
     "metadata": {},
     "output_type": "execute_result"
    }
   ],
   "source": [
    "b.median()"
   ]
  },
  {
   "cell_type": "code",
   "execution_count": 74,
   "metadata": {},
   "outputs": [
    {
     "data": {
      "text/plain": [
       "total_votes    49031.00\n",
       "dem_votes      20907.00\n",
       "rep_votes      30866.00\n",
       "dem_share         41.85\n",
       "dtype: float64"
      ]
     },
     "execution_count": 74,
     "metadata": {},
     "output_type": "execute_result"
    }
   ],
   "source": [
    "c.median()"
   ]
  },
  {
   "cell_type": "markdown",
   "metadata": {},
   "source": [
    "# Inference:"
   ]
  },
  {
   "cell_type": "markdown",
   "metadata": {},
   "source": [
    "**The average value and median value of total votes for state PA is 89479 and 37302.<br>\n",
    "The average value and median value of total votes for state OH is 89479 and 25687.<br>\n",
    "The average value and median value of total votes for state FL is 125234 and 49031.**"
   ]
  },
  {
   "cell_type": "markdown",
   "metadata": {},
   "source": [
    "# 3. "
   ]
  },
  {
   "cell_type": "code",
   "execution_count": 75,
   "metadata": {},
   "outputs": [
    {
     "data": {
      "text/plain": [
       "total_votes    1.814520e+10\n",
       "dem_votes      8.569590e+09\n",
       "rep_votes      2.290666e+09\n",
       "dem_share      9.609935e+01\n",
       "dtype: float64"
      ]
     },
     "execution_count": 75,
     "metadata": {},
     "output_type": "execute_result"
    }
   ],
   "source": [
    "a.var()"
   ]
  },
  {
   "cell_type": "code",
   "execution_count": 76,
   "metadata": {},
   "outputs": [
    {
     "data": {
      "text/plain": [
       "total_votes    1.168405e+10\n",
       "dem_votes      4.575352e+09\n",
       "rep_votes      1.690081e+09\n",
       "dem_share      9.792486e+01\n",
       "dtype: float64"
      ]
     },
     "execution_count": 76,
     "metadata": {},
     "output_type": "execute_result"
    }
   ],
   "source": [
    "b.var()"
   ]
  },
  {
   "cell_type": "code",
   "execution_count": 77,
   "metadata": {},
   "outputs": [
    {
     "data": {
      "text/plain": [
       "total_votes    3.212606e+10\n",
       "dem_votes      1.132370e+10\n",
       "rep_votes      5.532844e+09\n",
       "dem_share      1.496768e+02\n",
       "dtype: float64"
      ]
     },
     "execution_count": 77,
     "metadata": {},
     "output_type": "execute_result"
    }
   ],
   "source": [
    "c.var()"
   ]
  },
  {
   "cell_type": "code",
   "execution_count": 78,
   "metadata": {},
   "outputs": [
    {
     "data": {
      "text/plain": [
       "total_votes    3.081416\n",
       "dem_votes      4.118828\n",
       "rep_votes      2.524580\n",
       "dem_share      0.833819\n",
       "dtype: float64"
      ]
     },
     "execution_count": 78,
     "metadata": {},
     "output_type": "execute_result"
    }
   ],
   "source": [
    "a.skew()"
   ]
  },
  {
   "cell_type": "code",
   "execution_count": 79,
   "metadata": {},
   "outputs": [
    {
     "data": {
      "text/plain": [
       "total_votes    3.782244\n",
       "dem_votes      4.390079\n",
       "rep_votes      3.027431\n",
       "dem_share     -0.114473\n",
       "dtype: float64"
      ]
     },
     "execution_count": 79,
     "metadata": {},
     "output_type": "execute_result"
    }
   ],
   "source": [
    "b.skew()"
   ]
  },
  {
   "cell_type": "code",
   "execution_count": 80,
   "metadata": {},
   "outputs": [
    {
     "data": {
      "text/plain": [
       "total_votes    2.319167\n",
       "dem_votes      2.709455\n",
       "rep_votes      1.866751\n",
       "dem_share      0.182980\n",
       "dtype: float64"
      ]
     },
     "execution_count": 80,
     "metadata": {},
     "output_type": "execute_result"
    }
   ],
   "source": [
    "c.skew()"
   ]
  },
  {
   "cell_type": "markdown",
   "metadata": {},
   "source": [
    "# Inference:"
   ]
  },
  {
   "cell_type": "markdown",
   "metadata": {},
   "source": [
    "**The variability and skewness of total votes for state PA is $1.18 * 10^{10}$ and 3.08.<br>\n",
    "The variability and skewness of total votes for state OH is  $1.16 * 10^{10}$ and 3.78.<br>\n",
    "The variability and skewness of total votes for state FL is $3.21 * 10^{10}$ and 2.31.**"
   ]
  },
  {
   "cell_type": "markdown",
   "metadata": {},
   "source": [
    "# 4. "
   ]
  },
  {
   "cell_type": "code",
   "execution_count": 81,
   "metadata": {},
   "outputs": [],
   "source": [
    "from scipy import stats"
   ]
  },
  {
   "cell_type": "code",
   "execution_count": 82,
   "metadata": {},
   "outputs": [
    {
     "data": {
      "text/plain": [
       "array([ 0.28580965, -0.4764024 , -0.53476655, -0.55000272, -0.61313144,\n",
       "       -0.49848249, -0.52502797, -0.53077987, -0.38405046, -0.57101321,\n",
       "        0.13759925, -0.5625387 , -0.6510012 , -0.49495207, -0.65248966,\n",
       "       -0.4876444 , -0.30100327, -0.64594491, -0.2667163 , -0.55864926,\n",
       "       -0.53639713,  0.34178777, -0.52864815, -0.45937859, -0.41637027,\n",
       "       -0.10259657, -0.15734803, -0.41542783, -0.60927191,  0.00707089,\n",
       "       -0.44428454, -0.5391347 , -0.46790545, -0.3543635 ,  0.34486941,\n",
       "       -0.19763373, -0.39027358, -0.55350322, -0.03733613, -0.54585148,\n",
       "        0.47117174, -0.5299197 , -0.27209421, -0.17808925, -0.59664617,\n",
       "        0.65367659,  0.67706563,  4.2032687 ,  0.29955735, -0.52159479,\n",
       "        1.82089232, -0.23323713,  0.06408122,  2.49028868,  0.1781991 ,\n",
       "       -0.50141454,  1.03711628, -0.19326558, -0.40623527,  1.23321175,\n",
       "        0.78335226, -0.62211457, -0.27614821,  4.69612902, -0.33650196,\n",
       "        1.55222125, -0.5497858 ])"
      ]
     },
     "execution_count": 82,
     "metadata": {},
     "output_type": "execute_result"
    }
   ],
   "source": [
    "stats.zscore(a['total_votes'])"
   ]
  },
  {
   "cell_type": "code",
   "execution_count": 83,
   "metadata": {},
   "outputs": [
    {
     "data": {
      "text/plain": [
       "array([-1.83913650e-01,  5.27504447e-01,  1.44393407e+00, -3.96992027e-01,\n",
       "       -1.25966305e-01, -4.30264298e-01, -2.17827919e-01,  3.54991769e-03,\n",
       "        7.64988073e-01,  3.93298844e-01, -4.63359787e-01, -4.22839446e-01,\n",
       "        1.26218156e-01, -3.63412713e-01,  2.40149632e-01, -3.46041536e-01,\n",
       "       -5.10542026e-01, -2.57352697e-01, -4.27631174e-01,  5.80511194e-01,\n",
       "       -3.67264705e-01, -4.04435488e-01, -3.27369551e-02, -4.99302400e-01,\n",
       "       -1.16289806e-01, -4.65109000e-01,  1.14354389e+00, -1.50297118e-01,\n",
       "       -1.33772635e-01, -4.79419054e-01, -4.71612725e-01, -4.03523664e-01,\n",
       "       -4.46584087e-01, -3.31452352e-01, -3.82914581e-01, -4.98037011e-01,\n",
       "       -2.01815173e-01, -2.67047805e-01, -3.38765553e-01, -3.94721772e-01,\n",
       "       -3.69497743e-01, -3.81221194e-01, -4.44537135e-01,  2.58432634e-01,\n",
       "       -5.28983201e-01, -3.61449501e-01, -4.25705178e-01, -4.40238536e-01,\n",
       "       -1.10102429e-01, -2.99873469e-01, -2.37906655e-01,  1.98138801e-02,\n",
       "       -5.44009688e-01,  6.79637690e-02, -4.58112147e-01,  1.98992125e+00,\n",
       "       -4.06026528e-01, -5.36473183e-01,  1.76303345e-01, -3.80681543e-01,\n",
       "       -5.39953002e-01, -4.92631198e-01, -4.26496046e-01,  3.86832337e-01,\n",
       "       -3.05186239e-01, -5.48903763e-01,  2.86941090e-01, -4.14298074e-01,\n",
       "       -4.71240551e-01, -5.05098995e-01, -4.85076085e-01, -4.95478322e-01,\n",
       "       -4.77520972e-01, -2.98384777e-01, -3.48414139e-01, -3.86794486e-01,\n",
       "       -3.18835686e-01,  1.90197675e+00, -3.12090049e-01,  1.01544193e+00,\n",
       "       -4.21815970e-01,  5.58921615e+00,  4.61201067e+00,  3.35370288e+00,\n",
       "       -4.22923185e-01, -4.80842616e-01,  1.64831111e-01, -4.39038278e-01])"
      ]
     },
     "execution_count": 83,
     "metadata": {},
     "output_type": "execute_result"
    }
   ],
   "source": [
    "stats.zscore(b['total_votes'])"
   ]
  },
  {
   "cell_type": "code",
   "execution_count": 84,
   "metadata": {},
   "outputs": [
    {
     "data": {
      "text/plain": [
       "array([-5.82760001e-01,  1.64209475e-01, -2.75724641e-01, -1.66986229e-01,\n",
       "       -6.55701979e-01, -5.51949661e-01, -6.41412637e-01, -4.88665074e-01,\n",
       "       -5.77447874e-01,  1.31386709e-01, -6.59254640e-01, -6.53914406e-01,\n",
       "       -6.72577119e-01, -6.68883926e-01, -6.85556699e-01, -5.45867415e-01,\n",
       "        1.63313365e+00, -6.41817370e-01, -2.47944180e-01, -6.04699932e-01,\n",
       "       -6.51334230e-01, -6.23171521e-01, -6.85101374e-01, -1.09002528e-01,\n",
       "       -6.63481857e-01, -1.72337706e-01, -6.38349029e-01, -6.74229781e-01,\n",
       "       -6.70092505e-01,  1.59653286e-03, -6.60030380e-01, -5.17519203e-01,\n",
       "       -6.63150201e-01, -4.28365398e-01, -5.98724491e-01,  2.06790817e-01,\n",
       "        6.66624331e-01,  1.21931684e-01, -2.75876416e-01, -4.29281670e-01,\n",
       "        4.53414075e-01,  9.14158241e-01,  1.89705364e+00, -2.09865499e-01,\n",
       "        5.03842750e-01,  6.72296222e-01, -1.38087130e-01,  1.90026341e+00,\n",
       "        2.18149700e+00, -3.07170188e-01, -4.52244677e-01, -6.62318248e-01,\n",
       "        1.50420428e-01, -6.32109387e-01, -2.61726850e-02,  4.61609929e-01,\n",
       "       -6.47033936e-01, -2.63869321e-01, -6.85106995e-01, -2.25284723e-01,\n",
       "        2.61539384e+00, -6.42829204e-01,  8.09697638e-01,  9.41737089e-02,\n",
       "        3.42148252e+00,  4.14992982e+00, -4.77602358e-01])"
      ]
     },
     "execution_count": 84,
     "metadata": {},
     "output_type": "execute_result"
    }
   ],
   "source": [
    "stats.zscore(c['total_votes'])"
   ]
  },
  {
   "cell_type": "markdown",
   "metadata": {},
   "source": [
    "# 5."
   ]
  },
  {
   "cell_type": "code",
   "execution_count": 85,
   "metadata": {},
   "outputs": [],
   "source": [
    "from scipy.stats import iqr"
   ]
  },
  {
   "cell_type": "code",
   "execution_count": 88,
   "metadata": {},
   "outputs": [
    {
     "data": {
      "text/plain": [
       "84711.0"
      ]
     },
     "execution_count": 88,
     "metadata": {},
     "output_type": "execute_result"
    }
   ],
   "source": [
    "# Interquartile range\n",
    "iqr(a.total_votes)"
   ]
  },
  {
   "cell_type": "markdown",
   "metadata": {},
   "source": [
    "# Inference:"
   ]
  },
  {
   "cell_type": "markdown",
   "metadata": {},
   "source": [
    "**Interquartile range of total_votes of state PA is 84711.**"
   ]
  }
 ],
 "metadata": {
  "kernelspec": {
   "display_name": "Python 3",
   "language": "python",
   "name": "python3"
  },
  "language_info": {
   "codemirror_mode": {
    "name": "ipython",
    "version": 3
   },
   "file_extension": ".py",
   "mimetype": "text/x-python",
   "name": "python",
   "nbconvert_exporter": "python",
   "pygments_lexer": "ipython3",
   "version": "3.7.3"
  }
 },
 "nbformat": 4,
 "nbformat_minor": 2
}
