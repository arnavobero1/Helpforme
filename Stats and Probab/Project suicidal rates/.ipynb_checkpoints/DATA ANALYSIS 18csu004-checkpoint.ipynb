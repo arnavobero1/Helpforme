{
 "cells": [
  {
   "cell_type": "markdown",
   "metadata": {},
   "source": [
    "# EXPLORATORY DATA ANALYSIS (EDA) - PROJECT"
   ]
  },
  {
   "cell_type": "code",
   "execution_count": null,
   "metadata": {},
   "outputs": [],
   "source": [
    "df=pd.read_csv()"
   ]
  },
  {
   "cell_type": "markdown",
   "metadata": {},
   "source": [
    "## Dataset Description"
   ]
  },
  {
   "cell_type": "markdown",
   "metadata": {},
   "source": [
    "###  Suicide Rates Overview 1985 to 2016 Dataset"
   ]
  },
  {
   "cell_type": "markdown",
   "metadata": {},
   "source": [
    "Suicide Rates Overview 1985 to 2016 dataset (Available on Kaggle). \n",
    "\n",
    "This compiled dataset pulled from four other datasets linked by time and place, and was built to find signals correlated to increased suicide rates among different cohorts globally, across the socio-economic spectrum.\n",
    "\n",
    "Our aim is to make general analysis of suicide rates and we will explain these rates in detail.\n",
    "\n",
    "Dataset Feature List - \n",
    "\n",
    ". country <br>\n",
    ". year<br>\n",
    ". sex<br>\n",
    ". age<br>\n",
    ". suicides_no<br>\n",
    ". population<br>\n",
    ". suicides/100k pop<br>\n",
    ". country-year<br>\n",
    ". HDI for year<br>\n",
    ". gdp_for_year<br>\n",
    ". gdp_per_capita<br>\n",
    ". generation<br>"
   ]
  },
  {
   "cell_type": "markdown",
   "metadata": {},
   "source": [
    "# Problem"
   ]
  },
  {
   "cell_type": "markdown",
   "metadata": {},
   "source": [
    "**Given the data, after removing null values, analyse and perform the EDA.**\n",
    "\n",
    "1. How many males and females are there in dataset? Also find out how many males and females are there based on minimum and maximum gdp per capita?\n",
    "\n",
    "\n",
    "2. How many males and females are there in the data categorise by age parameter?\n",
    "\n",
    "\n",
    "3. Count the number of people based on Age values and plot. *(Hint: Use groupby on age)*\n",
    "\n",
    "\n",
    "4. How many generations are there in the data? Also based on sex parameter?\n",
    "\n",
    "\n",
    "5. plot a **five number summary** for three parameters - population, gdp per capita and year.\n",
    "\n",
    "\n",
    "6. Plot a **line graph** for the statistics of data. *(Hint: plot on data.describe() where kind = area)*\n",
    "\n",
    "\n",
    "7. Draw two graphs on same canvas for generation parameter. First graph should be **Pie Chart** and Second graph should be **Count plot.**\n",
    "\n",
    "\n",
    "8. Plot a **joint plot** between - <br>\n",
    "   i) year on x-axis and suicides\\100 k pop on y-axis (scatter plot). <br>\n",
    "   ii)year on x-axis and gdp per capita on y-axis (reg plot) .<br>\n",
    "   iii) year on x-axis and gdp per capita on y-axis (kde plot).<br>\n",
    "   iv) year on x-axis and gdp per capita on y-axis (hex plot).<br>\n",
    "\n",
    "\n",
    "9. Draw **FacetGrid** based on year between gdp per capita and population. *(Hint: use map with scatter plot)*\n",
    "\n",
    "\n",
    "10. Visualise the graph between year and suicides\\100 k pop using **stripplot**.\n",
    "\n",
    "\n",
    "11. Plot graph between each unique values of generation parameter. Also use **violinplot** between generation and population.\n",
    "\n",
    "\n",
    "12. Visualize the correlation between data.\n",
    "\n",
    "13. Find mean, median and skewness of population and give your interpretation."
   ]
  },
  {
   "cell_type": "markdown",
   "metadata": {},
   "source": [
    "# Solution"
   ]
  },
  {
   "cell_type": "markdown",
   "metadata": {},
   "source": [
    "# 1."
   ]
  },
  {
   "cell_type": "code",
   "execution_count": null,
   "metadata": {},
   "outputs": [],
   "source": []
  },
  {
   "cell_type": "markdown",
   "metadata": {},
   "source": [
    "# 2."
   ]
  },
  {
   "cell_type": "code",
   "execution_count": null,
   "metadata": {},
   "outputs": [],
   "source": []
  },
  {
   "cell_type": "markdown",
   "metadata": {},
   "source": [
    "# 3."
   ]
  },
  {
   "cell_type": "code",
   "execution_count": null,
   "metadata": {},
   "outputs": [],
   "source": []
  },
  {
   "cell_type": "markdown",
   "metadata": {},
   "source": [
    "# 4."
   ]
  },
  {
   "cell_type": "code",
   "execution_count": null,
   "metadata": {},
   "outputs": [],
   "source": []
  },
  {
   "cell_type": "markdown",
   "metadata": {},
   "source": [
    "# 5."
   ]
  },
  {
   "cell_type": "code",
   "execution_count": null,
   "metadata": {},
   "outputs": [],
   "source": []
  },
  {
   "cell_type": "markdown",
   "metadata": {},
   "source": [
    "# 6."
   ]
  },
  {
   "cell_type": "code",
   "execution_count": null,
   "metadata": {},
   "outputs": [],
   "source": []
  },
  {
   "cell_type": "markdown",
   "metadata": {},
   "source": [
    "# 7."
   ]
  },
  {
   "cell_type": "code",
   "execution_count": null,
   "metadata": {},
   "outputs": [],
   "source": []
  },
  {
   "cell_type": "markdown",
   "metadata": {},
   "source": [
    "# 8."
   ]
  },
  {
   "cell_type": "code",
   "execution_count": null,
   "metadata": {},
   "outputs": [],
   "source": []
  },
  {
   "cell_type": "markdown",
   "metadata": {},
   "source": [
    "# 9."
   ]
  },
  {
   "cell_type": "code",
   "execution_count": null,
   "metadata": {},
   "outputs": [],
   "source": []
  },
  {
   "cell_type": "markdown",
   "metadata": {},
   "source": [
    "# 10."
   ]
  },
  {
   "cell_type": "code",
   "execution_count": null,
   "metadata": {},
   "outputs": [],
   "source": []
  },
  {
   "cell_type": "markdown",
   "metadata": {},
   "source": [
    "# 11."
   ]
  },
  {
   "cell_type": "code",
   "execution_count": null,
   "metadata": {},
   "outputs": [],
   "source": []
  },
  {
   "cell_type": "markdown",
   "metadata": {},
   "source": [
    "# 12."
   ]
  },
  {
   "cell_type": "code",
   "execution_count": null,
   "metadata": {},
   "outputs": [],
   "source": []
  }
 ],
 "metadata": {
  "kernelspec": {
   "display_name": "Python 3",
   "language": "python",
   "name": "python3"
  },
  "language_info": {
   "codemirror_mode": {
    "name": "ipython",
    "version": 3
   },
   "file_extension": ".py",
   "mimetype": "text/x-python",
   "name": "python",
   "nbconvert_exporter": "python",
   "pygments_lexer": "ipython3",
   "version": "3.7.3"
  }
 },
 "nbformat": 4,
 "nbformat_minor": 2
}
