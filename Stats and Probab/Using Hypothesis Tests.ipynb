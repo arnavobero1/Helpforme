{
 "cells": [
  {
   "cell_type": "markdown",
   "metadata": {},
   "source": [
    "Not everything you’re told is absolutely certain. The trouble is, how do you know when what you’re being told isn’t right? Hypothesis\n",
    "tests give you a way of using samples to test whether or not statistical claims are likely\n",
    "to be true. They give you a way of weighing the evidence and testing whether extreme\n",
    "results can be explained by mere coincidence, or whether there are darker forces at\n",
    "work. Come with us on a ride through this chapter, and we’ll show you how you can use\n",
    "hypothesis tests to confirm or allay your deepest suspicions."
   ]
  },
  {
   "cell_type": "markdown",
   "metadata": {},
   "source": [
    "> I’m not sure these claims are\n",
    "true. If they were, more of\n",
    "my patients would be cured.\n",
    "\n",
    "The doctor at the Statsville Surgery has been prescribing SnoreCull\n",
    "to her patients, but she’s disappointed by the results. She decides to\n",
    "conduct her own trial of the drug.\n",
    "\n",
    "She takes a random sample of 15 snorers and puts them on a course\n",
    "of SnoreCull for two weeks. After two weeks, she calls them back in\n",
    "to see whether their snoring has stopped.\n",
    "\n",
    "Here are the results:\n",
    "\n",
    "| Cured? | Yes | No |\n",
    "|------|------|------|\n",
    "| Frequency | 11 | 4 |\n",
    "\n",
    "All the doctor records is\n",
    "whether or not the patients\n",
    "snoring has been cured.\n",
    "\n",
    "If the drug cures 90% of people, how many people in the sample\n",
    "of 15 snorers would you expect to have been cured? What sort of\n",
    "distribution do you think this follows?\n",
    "\n",
    "90% of 15 is 13.5, so you’d expect 14 people to be cured. Only 11 people in the doctors sample were cured, which is\n",
    "much lower than the result you’d expect\n",
    "There are a specific number of trials and the doctor is interested in the number of successes, so the number of\n",
    "successes follows a binomial distribution. If X is the number of successes then X ~ B(15, 0.9)."
   ]
  },
  {
   "cell_type": "markdown",
   "metadata": {},
   "source": [
    "## So what’s the problem?\n",
    "\n",
    "Here’s the probability distribution for how many people the drug\n",
    "company says should have been cured by the snoring remedy.\n",
    "\n",
    "![1](001.png)\n",
    "\n",
    "The number of people cured by SnoreCull in the doctor’s sample\n",
    "is actually much lower than you’d expect it to be. Given the claims\n",
    "made by the drug company, you’d expect 14 people to be cured,\n",
    "but instead, only 11 people have been.\n",
    "\n",
    "So why the discrepancy?\n",
    "\n",
    ">Does that mean that the drug\n",
    "company is telling lies about their\n",
    "product? Shouldn’t the drug have\n",
    "cured more of the doctor’s patients?\n",
    "\n",
    "The drug company might not be deliberately telling lies,\n",
    "but their claims might be misleading.\n",
    "\n",
    "It’s possible that the tests of the drug company were flawed, and this might\n",
    "have resulted in misleading claims being made about SnoreCull. They may\n",
    "have inadvertent conducted flawed or biased tests on SnoreCull, which\n",
    "resulted in them making inaccurate predictions about the population.\n",
    "If the success rate of SnoreCull is actually lower than 90%, this would explain\n",
    "why only 11 people in the sample were cured.\n",
    "\n",
    ">But can we really be certain\n",
    "that the drug company is at fault?\n",
    "Maybe the doctor was unlucky.\n",
    "\n",
    "The drug company’s claims might actually be accurate.\n",
    "\n",
    "Rather than the drug company being at fault, it’s always possible that the\n",
    "patients in the doctor’s sample may not have been representative of the\n",
    "snoring population as a whole. It’s always possible that the snoring remedy does\n",
    "cure 90% of snorers, but the doctor just happens to have a higher proportion\n",
    "of people in her sample whom it doesn’t cure. In other words, her sample might\n",
    "be biased in some way, or it could just come down to there being a small\n",
    "number of patients in the sample.\n",
    "\n",
    "How do you think we can resolve this? How can we\n",
    "determine whether to trust the claims of the drug\n",
    "company, or accept the doctor’s doubts instead?"
   ]
  },
  {
   "cell_type": "markdown",
   "metadata": {},
   "source": [
    "## Resolving the conflict from 50,000 feet\n",
    "\n",
    "So how do we resolve the conflict between the doctor and the drug\n",
    "company? Let’s take a very high level view of what we need to do.\n",
    "\n",
    "We can resolve the conflict between the drug company and the doctor by\n",
    "putting the claims of the drug company on trial. In other words, we’ll accept\n",
    "the word of the drug company by default, but if there’s strong evidence\n",
    "against it, we’ll side with the doctor instead.\n",
    "\n",
    "Here’s what we’ll do:\n",
    "\n",
    "* Examine the claim<br>\n",
    "Take the claim of\n",
    "the drug company.\n",
    "\n",
    "* Examine the evidence<br>\n",
    "See how much evidence we need to\n",
    "reject the drug company’s claim, and\n",
    "check this against the evidence we\n",
    "have. We do this by looking at how\n",
    "rare the doctors results would be if\n",
    "the drug company is correct.\n",
    "\n",
    "* Make a decision<br>\n",
    "Depending on the evidence,\n",
    "accept or reject the claims of\n",
    "the drug company.\n",
    "\n",
    "In general, this process is called **hypothesis testing**, as you take a\n",
    "hypothesis or claim and then test it against the evidence. Let’s look at\n",
    "the general process for this."
   ]
  },
  {
   "cell_type": "markdown",
   "metadata": {},
   "source": [
    "## The 6 steps for hypothesis testing\n",
    "\n",
    "Here are the broad steps that are involved in hypothesis testing. We’ll go\n",
    "through each one in detail in the following pages.\n",
    "\n",
    "1. Determine the critical region for your decision (We need a certain level of certainty)\n",
    "2. Decide on the hypothesis you’re going to test (This is the claim that we’re putting on trial)\n",
    "3. Choose your test statistic (We need to pick the statistic that best tests the claim.)\n",
    "4. Find the p-value of the test statistic (We need to see how rare our results are, assuming the claims are true.)\n",
    "5. See whether the sample result is within the critical region (We then see if it’s within our bounds of certainty.)\n",
    "6. Make your decision\n",
    "\n",
    "> Why all the\n",
    "formality? It’s\n",
    "obvious there’s\n",
    "something going on.\n",
    "\n",
    "We need to make sure we properly test the drug\n",
    "claim before we reject it.\n",
    "\n",
    "That way we’ll know we’re making an impartial decision either way,\n",
    "and we’ll be giving the claim a fair trial. What we don’t want to to do\n",
    "is reject the claim if there’s insufficient evidence against it, and this\n",
    "means that we need some way of deciding what constitutes sufficient\n",
    "evidence."
   ]
  },
  {
   "cell_type": "markdown",
   "metadata": {},
   "source": [
    "## Step 1: Decide on the hypothesis\n",
    "\n",
    "Let’s start with step one of the hypothesis test, and look at the key claim we\n",
    "want to test. This claim is called a hypothesis.\n",
    "\n",
    "### The drug company’s claim\n",
    "\n",
    "According to the drug company, SnoreCull cures 90% of patients within\n",
    "2 weeks. We need to accept this position unless there is sufficiently strong\n",
    "evidence to the contrary.\n",
    "\n",
    "The claim that we’re testing is called the **null hypothesis**. It’s represented\n",
    "by $H_0$, and it’s the claim that we’ll accept unless there is strong evidence\n",
    "against it.\n",
    "\n",
    "The null hypothesis is the claim you’re\n",
    "going to test. It’s the claim you’ll accept\n",
    "unless there’s strong evidence against it.\n",
    "\n",
    "### So what’s the null hypothesis for SnoreCull?\n",
    "The null hypothesis for SnoreCull is the claim of the drug company: that it\n",
    "cures 90% of patients. This is the claim that we’re going to go along with,\n",
    "unless we find strong evidence against it.\n",
    "\n",
    "We need to test whether at least 90% of patients are cured by the drug, so this\n",
    "means that the null hypothesis is that p = 90%.\n",
    "\n",
    "This is the null hypothesis\n",
    "for the SnoreCull trial.\n",
    "\n",
    "$H_0$: p = 0.9\n",
    "\n",
    ">You have to assume I cure\n",
    "90% of people unless you\n",
    "can come up with good\n",
    "evidence that I don’t.\n",
    "\n",
    "### So what’s the alternative?\n",
    "We’ve looked at what the claim is we’re going to test, the null hypothesis, but\n",
    "what if it’s not true? What’s the alternative?\n",
    "\n",
    "### The doctor’s perspective\n",
    "The doctor’s view is that the claims of the drug company are too good to be\n",
    "true. She doesn’t think that as many as 90% of patients are cured. She thinks\n",
    "it’s far more likely that the cure rate is actually less than 90%.\n",
    "\n",
    "The counterclaim to the null hypothesis is called the **alternate hypothesis**.\n",
    "It’s represented by $H_1$, and it’s the claim that we’ll accept if there’s strong\n",
    "enough evidence to reject $H_0$.\n",
    "\n",
    "The alternate hypothesis is the\n",
    "claim you’ll accept if you reject $H_0$.\n",
    "\n",
    "### The alternate hypothesis for SnoreCull\n",
    "The alternate hypothesis for SnoreCull is the claim you’ll accept if the drug\n",
    "company’s claim turns out to be false. If there’s sufficiently strong evidence\n",
    "against the drug company, then it’s likely that the doctor is right.\n",
    "\n",
    "The doctor believes that SnoreCull cures less than 90% of people, so this\n",
    "means that the alternate hypothesis is that p < 90%.\n",
    "\n",
    "This is the alternate\n",
    "hypothesis for the\n",
    "SnoreCull trial\n",
    "\n",
    "$H_1$: p < 0.9\n",
    "\n",
    "Now that we have the null and alternate hypotheses for the SnoreCull\n",
    "hypothesis test, we can move onto step 2."
   ]
  },
  {
   "cell_type": "markdown",
   "metadata": {},
   "source": [
    "**Q: Why are we assuming the null hypothesis is\n",
    "true and then looking for evidence that it’s false?**\n",
    "\n",
    "A: When you conduct a hypothesis test, you, in effect,\n",
    "put the claims of the null hypothesis on trial. You give\n",
    "the null hypothesis the benefit of the doubt, but then you\n",
    "reject it if there is sufficient evidence against it. It’s a bit\n",
    "like putting a prisoner on trial in front of a jury. You only\n",
    "sentence the prisoner if there is strong enough evidence\n",
    "against him.\n",
    "\n",
    "**Q: Do the null hypothesis and alternate\n",
    "hypothesis have to be exhaustive? Should they\n",
    "cover all possible outcomes?**\n",
    "\n",
    "A: No, they don’t. As an example, our null hypothesis\n",
    "is that p = 0.9, and our alternate hypothesis is that\n",
    "p < 0.9. Neither hypothesis allows for p being greater\n",
    "than 0.9.\n",
    "\n",
    "**Q: Isn’t the sample size too small to do this\n",
    "hypothesis test?**\n",
    "\n",
    "A: Even though the sample size is small, we can still\n",
    "perform hypothesis tests. It all comes down to what test\n",
    "statistic you use — and we’ll come to that.\n",
    "\n",
    "**Q: So are hypothesis tests used to prove whether\n",
    "or not claims are true?**\n",
    "\n",
    "A: Hypothesis tests don’t give absolute proof. They\n",
    "allow you to see how rare your observed results actually\n",
    "are, under the assumption that your null hypothesis\n",
    "is true. If your results are extremely unlikely to have\n",
    "happened, then that counts as evidence that the null\n",
    "hypothesis is false.\n",
    "\n",
    "When hypothesis testing, you assume the null hypothesis\n",
    "is true. If there’s sufficient evidence against it, you reject\n",
    "it and accept the alternate hypothesis."
   ]
  },
  {
   "cell_type": "markdown",
   "metadata": {},
   "source": [
    "## Step 2: Choose your test statistic\n",
    "\n",
    "Now that you’ve determined exactly what it is you’re going to test, you\n",
    "need some means of testing it. You can do this with a test statistic.\n",
    "\n",
    "The test statistic is the statistic that you use to test your hypothesis. It’s\n",
    "the statistic that’s most relevant to the test.\n",
    "\n",
    "### What’s the test statistic for SnoreCull?\n",
    "\n",
    "In our hypothesis test, we want to test whether SnoreCull cures 90% of\n",
    "people or more. To test this, we can look at the probability distribution\n",
    "according to the drug company, and see whether the number of\n",
    "successes in the sample is significant.\n",
    "\n",
    "If we use X to represent the number of people cured in the sample, this\n",
    "means that we can use X as our test statistic. There are 15 people in the\n",
    "sample, and the probability of success according to the drug company\n",
    "is 0.9. As X follows a binomial distribution, this means that the test\n",
    "statistic is actually:\n",
    "\n",
    "X ~ B(15, 0.9)\n",
    "\n",
    "This is the test statistic\n",
    "for our hypothesis test.\n",
    "\n",
    "> I’m confused. Why are\n",
    "we saying the probability\n",
    "of success is 0.9? Surely\n",
    "we don’t know that yet.\n",
    "\n",
    "We choose the test statistic according to H0, the null\n",
    "hypothesis.\n",
    "\n",
    "We need to test whether there is sufficient evidence against the null\n",
    "hypothesis, and we do this by first assuming that $H_0$ is true. We then look\n",
    "for evidence that contradicts $H_0$. For the SnoreCull hypothesis test, we\n",
    "assume that the probability of success is 0.9 unless there is strong evidence\n",
    "against this being true.\n",
    "\n",
    "To do this, we look at how likely it is for us to get the results we did,\n",
    "assuming the probability of success is 0.9. In other words, we take the\n",
    "results of the sample and examine the probability of getting that result.\n",
    "We do this by finding a critical region."
   ]
  },
  {
   "cell_type": "markdown",
   "metadata": {},
   "source": [
    "## Step 3: Determine the critical region\n",
    "\n",
    "The **critical region** of a hypothesis test is the set of values that present the\n",
    "most extreme evidence against the null hypothesis.\n",
    "\n",
    "Let’s see how this works by taking another look at the doctor’s sample. If 90%\n",
    "or more people had been cured, this would have been in line with the claims\n",
    "made by the drug company. As the number of people cured decreases, the\n",
    "more unlikely it becomes that the claims of the drug company are true.\n",
    "\n",
    "Here’s the probability distribution:\n",
    "\n",
    "![2](002.png)\n",
    "\n",
    "At what point can we reject the drug company claims?\n",
    "\n",
    "The fewer people there are in the sample who are successfully cured by\n",
    "SnoreCull, the stronger the evidence there is against the claims of the drug\n",
    "company. The question is, at what point does the evidence become so strong\n",
    "that we confidently reject the null hypothesis? At what point can we reject the\n",
    "claim that SnoreCull cures 90% of snorers?\n",
    "\n",
    "What we need is some way of indicating at what point we can reasonably\n",
    "reject the null hypothesis, and we can do this by specifying a critical region.\n",
    "If the number of snorers cured falls within the critical region, then we’ll say\n",
    "there is sufficient evidence to reject the null hypothesis. If the number of\n",
    "snorers cured falls outside the critical region, then we’ll accept that there isn’t\n",
    "sufficient evidence to reject the null hypothesis, and we’ll accept the claims\n",
    "of the drug company. We’ll call the cut off point for the critical region c, the\n",
    "**critical value**.\n",
    "\n",
    "So how do we choose the critical region?\n",
    "\n",
    "![3](003.png)"
   ]
  },
  {
   "cell_type": "markdown",
   "metadata": {},
   "source": [
    "## To find the critical region, first decide on the significance level\n",
    "\n",
    "Before we can find the critical region of the hypothesis test, we first\n",
    "need to decide on the significance level. The significance level of\n",
    "a test is a measure of how unlikely you want the results of the sample\n",
    "to be before you reject the null hypothesis $H_0$. Just like the confidence\n",
    "level for a confidence interval, the significance level is given as a\n",
    "percentage.\n",
    "\n",
    "As an example, suppose we want to test the claims of the drug\n",
    "company at a 5% level of significance. This means that we choose\n",
    "the critical region so that the probability of fewer than c snorers\n",
    "being cured is less than 0.05. It’s the lowest 5% of the probability\n",
    "distribution.\n",
    "\n",
    "![4](004.png)\n",
    "\n",
    "The significance level is normally represented by the Greek letter α. The\n",
    "lower α is, the more unlikely the results in your sample need to be before\n",
    "we reject $H_0$.\n",
    "\n",
    "So what significance level should we use?\n",
    "\n",
    "Let’s use a significance level of 5% in our hypothesis test. This\n",
    "means that if the number of snorers cured in the sample\n",
    "is in the lowest 5% of the probability distribution, then we\n",
    "will reject the claims of the drug company. If the number of\n",
    "snorers cured lies in the top 95% of the probability distribution,\n",
    "then we’ll decide there isn’t enough evidence to reject the null\n",
    "hypothesis, and accept the claims of the drug company.\n",
    "\n",
    "If we use X to represent the number of snorers cured, then we\n",
    "define the critical region as being values such that\n",
    "\n",
    "P(X < c) < α\n",
    "\n",
    "where\n",
    "\n",
    "α = 5%\n",
    "\n",
    "Significance level\n",
    "\n",
    "The significance level is\n",
    "represented by α. It’s a\n",
    "way of saying how unlikely\n",
    "you want your results to be\n",
    "before you’ll reject $H_0$."
   ]
  },
  {
   "cell_type": "markdown",
   "metadata": {},
   "source": [
    "## Critical Regions Up Close\n",
    "\n",
    "When you’re constructing a critical region for your test, another thing you need to\n",
    "be aware of is whether you’re conducting a **one-tailed** or **two-tailed** test. Let’s\n",
    "look at the difference between the two, and what impact this has on the critical\n",
    "region?\n",
    "\n",
    "### One-tailed tests\n",
    "A one-tailed test is where the critical region falls at one end\n",
    "of the possible set of values in your test. You choose the level\n",
    "of the test—represented by α—and then make sure that the\n",
    "critical region reflects this as a corresponding probability.\n",
    "\n",
    "The tail can be at either end of the set of possible values, and\n",
    "the end you use depends on your alternate hypothesis $H_1$.\n",
    "\n",
    "If your alternate hypothesis includes a < sign, then use the\n",
    "**lower tail**, where the critical region is at the lower end of the\n",
    "data.\n",
    "\n",
    "If your alternate hypothesis includes a > sign, then use the\n",
    "**upper tail**, where the critical region is at the upper end of\n",
    "the data.\n",
    "\n",
    "We’re using a one-tailed test for the SnoreCull hypothesis\n",
    "test with the critical region in the lower tail, as our alternate\n",
    "hypothesis is that p < 0.9.\n",
    "\n",
    "![5](005.png)\n",
    "\n",
    "### Two-tailed tests\n",
    "A two-tailed test is where the critical region is split over both\n",
    "ends of the set of values. You choose the level of the test α,\n",
    "and then make sure that the overall critical region reflects this\n",
    "as a corresponding probability by splitting it into two. Both\n",
    "ends contain α/2, so that the total is α.\n",
    "\n",
    "You can tell if you need to use a two-tailed test by looking\n",
    "at the alternate hypothesis $H_1$. If $H_1$ contains a ≠ sign, then\n",
    "you need to use a two-tailed test as you are looking for some\n",
    "change in the parameter, rather than an increase or decrease.\n",
    "We would have used a two-tailed test for our SnoreCull if our\n",
    "alternate hypothesis had been p ≠ 0.9. We would have had to\n",
    "check whether significantly more or significantly fewer than\n",
    "90% of patients had been cured.\n",
    "\n",
    "![6](006.png)"
   ]
  },
  {
   "cell_type": "markdown",
   "metadata": {},
   "source": [
    "## Step 4: Find the p-value\n",
    "\n",
    "Now that we’ve looked at critical regions, we can move on to step 4, finding\n",
    "the p-value.\n",
    "\n",
    "A p-value is the probability of getting a value up to and including the one\n",
    "in your sample in the direction of your critical region. It’s a way of taking\n",
    "your sample and working out whether the result falls within the critical\n",
    "region for your hypothesis test. In other words, we use the p-value to say\n",
    "whether or not we can reject the null hypothesis.\n",
    "\n",
    "### How do we find the p-value?\n",
    "How we find the p-value depends on our critical region and our test statistic.\n",
    "For the SnoreCull test, 11 people were cured, and our critical region is\n",
    "the lower tail of the distribution. This means that our p-value is P(X 11),\n",
    "where X is the distribution for the number of people cured in the sample.\n",
    "As the significance level of our test is 5%, this means that if P(X 11) is\n",
    "less than 0.05, then the value 11 falls within the critical region, and we can\n",
    "reject the null hypothesis.\n",
    "\n",
    "![7](007.png)\n",
    "\n",
    "We know from step 2 that X ~ B(15, 0.9). What’s P(X ≤ 11)?"
   ]
  },
  {
   "cell_type": "code",
   "execution_count": 271,
   "metadata": {},
   "outputs": [],
   "source": [
    "import numpy as np\n",
    "import thinkplot\n",
    "import thinkstats2"
   ]
  },
  {
   "cell_type": "markdown",
   "metadata": {},
   "source": [
    "## Method 01 Discreet Sampling"
   ]
  },
  {
   "cell_type": "code",
   "execution_count": 272,
   "metadata": {},
   "outputs": [],
   "source": [
    "n, p = 15, .9  # number of trials, probability of each trial\n",
    "sample_binomial = np.random.binomial(n, p, 1000)"
   ]
  },
  {
   "cell_type": "code",
   "execution_count": 273,
   "metadata": {},
   "outputs": [],
   "source": [
    "binomial_cdf = thinkstats2.Cdf(sample_binomial)"
   ]
  },
  {
   "cell_type": "code",
   "execution_count": 274,
   "metadata": {},
   "outputs": [
    {
     "data": {
      "image/png": "[encoded data removed]",
      "text/plain": [
       "<Figure size 432x288 with 1 Axes>"
      ]
     },
     "metadata": {
      "needs_background": "light"
     },
     "output_type": "display_data"
    }
   ],
   "source": [
    "thinkplot.Cdf(binomial_cdf)\n",
    "thinkplot.axvline(11)"
   ]
  },
  {
   "cell_type": "code",
   "execution_count": 275,
   "metadata": {},
   "outputs": [
    {
     "data": {
      "text/plain": [
       "0.057"
      ]
     },
     "execution_count": 275,
     "metadata": {},
     "output_type": "execute_result"
    }
   ],
   "source": [
    "binomial_cdf.Prob(11)"
   ]
  },
  {
   "cell_type": "markdown",
   "metadata": {},
   "source": [
    "## Method 02 Analytic"
   ]
  },
  {
   "cell_type": "code",
   "execution_count": 276,
   "metadata": {},
   "outputs": [
    {
     "data": {
      "text/plain": [
       "0.055555630007535994"
      ]
     },
     "execution_count": 276,
     "metadata": {},
     "output_type": "execute_result"
    }
   ],
   "source": [
    "# Analytic method\n",
    "from scipy.stats import binom\n",
    "binom.cdf(11, n, p, loc=0)"
   ]
  },
  {
   "cell_type": "markdown",
   "metadata": {},
   "source": [
    "## Method 03 Binomial"
   ]
  },
  {
   "cell_type": "code",
   "execution_count": 277,
   "metadata": {},
   "outputs": [],
   "source": [
    "from scipy.stats import bernoulli\n",
    "\n",
    "\n",
    "class BinomialTest(thinkstats2.HypothesisTest):\n",
    "\n",
    "    def TestStatistic(self, data):\n",
    "        success, failure = data\n",
    "        total = success + failure\n",
    "        \n",
    "        test_stat = success / total\n",
    "        \n",
    "        return test_stat\n",
    "    \n",
    "    # generate samples under null model\n",
    "    def RunModel(self): \n",
    "        success, failure = self.data\n",
    "        total = success + failure\n",
    "        \n",
    "        sample_bernoulli = bernoulli.rvs(0.9, size=total)\n",
    "        \n",
    "        sample_success = sum(sample_bernoulli)\n",
    "        sample_failure = total - sample_success\n",
    "        \n",
    "        data = sample_success, sample_failure\n",
    "        \n",
    "        return data\n",
    "\n",
    "    def PValue(self, iters=1000):\n",
    "        \"\"\"Computes the distribution of the test statistic and p-value.\n",
    "\n",
    "        iters: number of iterations\n",
    "\n",
    "        returns: float p-value\n",
    "        \"\"\"\n",
    "        self.test_stats = [self.TestStatistic(self.RunModel()) \n",
    "                           for _ in range(iters)]\n",
    "        self.test_cdf = thinkstats2.Cdf(self.test_stats)\n",
    "\n",
    "        # note >= replaced by <= since any patiends cured less than the rate in the original sample\n",
    "        # counts as evidence against the null hypothesis. if 11 / 15 cured is undesirable\n",
    "        # then 10 / 15 cured is worse and is a stonger evidence against the null hypothesis\n",
    "        count = sum(1 for x in self.test_stats if x <= self.actual) \n",
    "        return count / iters"
   ]
  },
  {
   "cell_type": "code",
   "execution_count": 289,
   "metadata": {},
   "outputs": [
    {
     "data": {
      "text/plain": [
       "0.055"
      ]
     },
     "execution_count": 289,
     "metadata": {},
     "output_type": "execute_result"
    }
   ],
   "source": [
    "data = 11, 4\n",
    "ct = BinomialTest(data)\n",
    "pvalue = ct.PValue()\n",
    "pvalue"
   ]
  },
  {
   "cell_type": "code",
   "execution_count": 290,
   "metadata": {},
   "outputs": [
    {
     "data": {
      "image/png": "[encoded data removed]",
      "text/plain": [
       "<Figure size 432x288 with 1 Axes>"
      ]
     },
     "metadata": {
      "needs_background": "light"
     },
     "output_type": "display_data"
    }
   ],
   "source": [
    "ct.PlotCdf()\n",
    "thinkplot.Config(xlabel='test statistic',\n",
    "                   ylabel='CDF')"
   ]
  },
  {
   "cell_type": "markdown",
   "metadata": {},
   "source": [
    "## Method 04 Chi Squared test for proportion"
   ]
  },
  {
   "cell_type": "code",
   "execution_count": 280,
   "metadata": {},
   "outputs": [],
   "source": [
    "class PropChiTest(thinkstats2.HypothesisTest):\n",
    "\n",
    "    def TestStatistic(self, data):    \n",
    "        observed = data\n",
    "        n = sum(observed)\n",
    "        \n",
    "        expected = [0.9 * n, (1-0.9)*n]\n",
    "        \n",
    "        test_stat = sum((observed - np.array(expected))**2 / expected) # chi squared statistic\n",
    "        return test_stat\n",
    "\n",
    "    # generate samples under null model\n",
    "    def RunModel(self): \n",
    "        observed = self.data\n",
    "        n = sum(observed)\n",
    "        \n",
    "        sample_bernoulli = bernoulli.rvs(0.9, size=n)\n",
    "        \n",
    "        sample_success = sum(sample_bernoulli)\n",
    "        sample_failure = n - sample_success\n",
    "        \n",
    "        data = sample_success, sample_failure\n",
    "        \n",
    "        return data"
   ]
  },
  {
   "cell_type": "code",
   "execution_count": 281,
   "metadata": {},
   "outputs": [
    {
     "data": {
      "text/plain": [
       "0.055"
      ]
     },
     "execution_count": 281,
     "metadata": {},
     "output_type": "execute_result"
    }
   ],
   "source": [
    "data = 11, 4\n",
    "ct = PropChiTest(data)\n",
    "pvalue = ct.PValue()\n",
    "pvalue"
   ]
  },
  {
   "cell_type": "code",
   "execution_count": 282,
   "metadata": {},
   "outputs": [
    {
     "data": {
      "image/png": "[encoded data removed]",
      "text/plain": [
       "<Figure size 432x288 with 1 Axes>"
      ]
     },
     "metadata": {
      "needs_background": "light"
     },
     "output_type": "display_data"
    }
   ],
   "source": [
    "ct.PlotCdf()\n",
    "thinkplot.Config(xlabel='test statistic',\n",
    "                   ylabel='CDF')"
   ]
  },
  {
   "cell_type": "markdown",
   "metadata": {},
   "source": [
    "## We’ve found the p-value\n",
    "\n",
    "To find the p-value of our hypothesis test, we had to find P(X ≤ 11). This\n",
    "means that the p-value is 0.05.\n",
    "\n",
    "> Do I always calculate\n",
    "p-values in the same way?\n",
    "What if my critical region\n",
    "had been the upper tail?\n",
    "\n",
    "A p-value is the probability of getting the results in the\n",
    "sample, or something more extreme, in the direction of\n",
    "the critical region.\n",
    "\n",
    "In our hypothesis test for SnoreCull, the critical region is the lower tail of\n",
    "the probability distribution. In order to see whether 11 people being cured\n",
    "of snoring is in the critical region, we calculated P(X ≤ 11), as this is the\n",
    "probability of getting a result at least as extreme as the results of our sample\n",
    "in the direction of the lower tail.\n",
    "\n",
    "![8](008.png)\n",
    "\n",
    "Had our critical region been the upper tail of the probability distribution\n",
    "instead, we would have needed to find $P(X \\geq 11)$. We would have counted\n",
    "more extreme results as being greater than 11, as these would have been\n",
    "closer to the critical region."
   ]
  },
  {
   "cell_type": "markdown",
   "metadata": {},
   "source": [
    "## Step 5: Is the sample result in the critical region?\n",
    "\n",
    "Now that we’ve found the p-value, we can use it to see whether the result\n",
    "from our sample falls within the critical region. If it does, then we’ll have\n",
    "sufficient evidence to reject the claims of the drug company.\n",
    "\n",
    "Our critical region is the lower tail of the probability distribution, and\n",
    "we’re using a significance level of 5%. This means that we can reject the\n",
    "null hypothesis if our p-value is less that 0.05. As our p-value is 0.0555, this\n",
    "means that the number of people cured by SnoreCull in the sample doesn’t\n",
    "fall within the critical region.\n",
    "\n",
    "![9](009.png)\n",
    "\n",
    "## Step 6: Make your decision\n",
    "\n",
    "We’ve now reached the final step of the hypothesis test. We can decide\n",
    "whether to accept the null hypothesis, or reject it in favor of the alternative.\n",
    "\n",
    "The p-value of the hypothesis test falls just outside the critical region of\n",
    "the test. This means that there isn’t sufficient evidence to reject the null\n",
    "hypothesis. In other words:\n",
    "\n",
    "We accept the claims of the drug company"
   ]
  },
  {
   "cell_type": "markdown",
   "metadata": {},
   "source": [
    "## So what did we just do?\n",
    "\n",
    "Let’s summarize what we just did.\n",
    "\n",
    "First of all, we took the claims of the drug company, which the doctor had\n",
    "misgivings about. We used these claims as the basis of a hypothesis test. We\n",
    "formed a null hypothesis that the probability of curing a patient is 0.9, and\n",
    "then we applied this to the number of people in the doctors sample.\n",
    "\n",
    "We then decided to conduct a test at the 5% level, using the success rate in\n",
    "the doctor’s sample. We looked at the probability of 11 people or fewer being\n",
    "cured, and checked to see whether the probability of this was less than 5%,\n",
    "or 0.05. In other words, we looked at the probability of getting a result this\n",
    "extreme, or even more so.\n",
    "\n",
    "Finally, we found that at the 5% level, there wasn’t strong enough evidence to\n",
    "reject the claims of the drug company.\n",
    "\n",
    "> But those results\n",
    "aren’t what the doctor\n",
    "wants. Can’t we test at a\n",
    "different level?\n",
    "\n",
    "Once you’ve fixed the significance level of the test,\n",
    "you can’t change it.\n",
    "\n",
    "The test needs to be completely impartial. This means that you decide\n",
    "what level you need the test to be at, based on what level of evidence\n",
    "you require, before you look at what evidence you actually have.\n",
    "\n",
    "If you were to look at the amount of evidence you have before deciding\n",
    "on the level of the test, this could influence any decisions you made.\n",
    "You might be tempted to decide on a specific level of test just to get the\n",
    "result you want. This would make the outcome of the test biased, and\n",
    "you might make the wrong decision."
   ]
  },
  {
   "cell_type": "markdown",
   "metadata": {},
   "source": [
    "## Summary\n",
    "\n",
    "* In a hypothesis test, you take a claim and test it against statistical evidence.\n",
    "* The claim that you’re testing is called the null hypothesis test. It’s represented as $H_0$, and it’s the claim that’s accepted unless there’s strong statistical evidence against it.\n",
    "* The alternate hypothesis is the claim we’ll accept if there’s strong enough evidence against $H_0$. It’s represented by $H_1$.\n",
    "* The test statistic is the statistic you use to test your hypothesis. It’s the statistic that’s most relevant to the test. You choose the test statistic by assuming that $H_0$ is true.\n",
    "* The significance level is represented by α. It’s a way of saying how unlikely you want your results to be before you’ll reject H0.\n",
    "* The critical region is the set of values that presents the most extreme evidence against the null hypothesis test. You choose your critical region by considering the significance level and how many tails you need to use.\n",
    "* A one-tailed test is when your critical region lies in either the upper or the lower tail of the data. A two-tailed test is when it’s split over both ends. You choose your tail by looking at your alternate hypothesis.\n",
    "* A p-value is the probability of getting the result of your sample, or a result more extreme in the direction of your critical region. If the p-value lies in the critical region, you have sufficient reason to reject your null hypothesis. If your p-value lies outside your critical region, you have insufficient evidence."
   ]
  },
  {
   "cell_type": "markdown",
   "metadata": {},
   "source": [
    "**Q: What significance level should I normally test at?**\n",
    "\n",
    "A: It all depends how strong you want the evidence to be before\n",
    "you reject the null hypothesis. The stronger you want the evidence to\n",
    "be, the lower your significance level needs to be.\n",
    "The most common significance level is 5%, although you sometimes\n",
    "see tests at the 1% level. Testing at the 1% means that you require\n",
    "stronger evidence than if you test at the 5% level.\n",
    "\n",
    "**Q: Does the significance level have anything in common with\n",
    "the level of confidence for confidence intervals?**\n",
    "\n",
    "A: Yes, they have0 a lot in common. When you construct a\n",
    "confidence interval for a population parameter, you want to have\n",
    "a certain degree of confidence that the population parameter lies\n",
    "between two limits. As an example, if you have a 95% level of\n",
    "confidence, this means that the probability that the population\n",
    "p arameter lies between the two limits is 0.95.\n",
    "\n",
    "The level of significance reflects the probability that values will lie\n",
    "outside a certain limit. As an example, a significance level of 5% means that your critical region must have a probability of 0.05.\n",
    "\n",
    "I still have doubts. means that your critical region must have a probability of 0.05.\n",
    "I wonder what would\n",
    "happen if I took a\n",
    "larger sample..."
   ]
  },
  {
   "cell_type": "markdown",
   "metadata": {},
   "source": [
    "## What if the sample size is larger?\n",
    "\n",
    "So far the doctor has conducted her trial using a sample of just 15 people,\n",
    "and on the basis of this, there was insufficient evidence to reject the\n",
    "claims of the drug company.\n",
    "\n",
    "It’s possible that the size of the sample wasn’t large enough to get an\n",
    "accurate result. The doctor might get more reliable results by using a\n",
    "larger sample.\n",
    "\n",
    "Here are the results from the doctor’s new trial:\n",
    "\n",
    "| Cured? | Yes | No |\n",
    "|------|------|------|\n",
    "| Frequency | 80 | 20 |\n",
    "\n",
    "> I want to conduct a new\n",
    "hypothesis test using\n",
    "these new results.\n",
    "\n",
    "We want to determine whether the new data will\n",
    "make a difference in the outcome of the test.\n",
    "\n",
    "Let’s run through another hypothesis test, this time with the larger\n",
    "sample.\n",
    "\n",
    "What’s the null hypothesis of this new problem?\n",
    "What’s the alternate hypothesis?\n",
    "\n",
    "## Let’s conduct another hypothesis test\n",
    "The doctor still has misgivings about the claims made by the drug company.\n",
    "Let’s conduct a hypothesis test based on the new data.\n",
    "\n",
    "### Step 1: Decide on the hypotheses\n",
    "We need to start off by finding the null hypothesis and alternate\n",
    "hypothesis of the SnoreCull trial. As a reminder, the null hypothesis is the\n",
    "claim that we’re testing, and the alternate hypothesis is what we’ll accept if\n",
    "there’s sufficient evidence against the null hypothesis.\n",
    "\n",
    "So what are the null and alternate hypotheses?\n",
    "\n",
    "### It’s still the same problem\n",
    "For the last test, we took the claims made by the drug company and used\n",
    "these as the basis for the null hypothesis. We’re testing the same claims, so the\n",
    "null hypothesis is still the same. We have\n",
    "\n",
    "$H_0$: p = 0.9\n",
    "\n",
    "The alternate hypothesis is the same too. If there is strong evidence\n",
    "against the claims made by the drug company, then we’ll accept that the\n",
    "drug cures fewer than 90% of the patients. This gives us an alternate\n",
    "hypothesis of:\n",
    "\n",
    "$H_1: p \\lt 0.9$\n",
    "\n",
    "## Step 2: Choose the test statistic\n",
    "\n",
    "As before, the next step is to choose the test statistic. In other words, we\n",
    "need some statistic that we can use to test the hypothesis.\n",
    "\n",
    "For the previous hypothesis test, we conducted the test by looking at the\n",
    "number of successes in the sample and seeing how significant the result\n",
    "was. We used the binomial distribution to find the probability of getting a\n",
    "result at least as extreme as the value we got in the sample. In other words,\n",
    "we used a test statistic of X ~ B(15, 0.9) to test whether $P(X \\leq 11)$ was less\n",
    "than 0.05, the level of significance.\n",
    "\n",
    "This time the number of people in the sample is 100, and we’re testing\n",
    "the same claim, that probability of successfully curing someone is 0.9.\n",
    "This means that our new test statistic is X ~ B(100, 0.9)."
   ]
  },
  {
   "cell_type": "markdown",
   "metadata": {},
   "source": [
    "## Method 02 Analytic"
   ]
  },
  {
   "cell_type": "code",
   "execution_count": 291,
   "metadata": {},
   "outputs": [
    {
     "data": {
      "text/plain": [
       "0.0019785608657712276"
      ]
     },
     "execution_count": 291,
     "metadata": {},
     "output_type": "execute_result"
    }
   ],
   "source": [
    "# Analytic method\n",
    "binom.cdf(80, 100, 0.9, loc=0)"
   ]
  },
  {
   "cell_type": "markdown",
   "metadata": {},
   "source": [
    "## Method 03 Binomial"
   ]
  },
  {
   "cell_type": "code",
   "execution_count": 298,
   "metadata": {},
   "outputs": [
    {
     "data": {
      "text/plain": [
       "0.002"
      ]
     },
     "execution_count": 298,
     "metadata": {},
     "output_type": "execute_result"
    }
   ],
   "source": [
    "data = 80, 20\n",
    "ct = BinomialTest(np.array(data))\n",
    "pvalue = ct.PValue()\n",
    "pvalue"
   ]
  },
  {
   "cell_type": "code",
   "execution_count": 299,
   "metadata": {},
   "outputs": [
    {
     "data": {
      "image/png": "[encoded data removed]",
      "text/plain": [
       "<Figure size 432x288 with 1 Axes>"
      ]
     },
     "metadata": {
      "needs_background": "light"
     },
     "output_type": "display_data"
    }
   ],
   "source": [
    "ct.PlotCdf()\n",
    "thinkplot.Config(xlabel='test statistic',\n",
    "                   ylabel='CDF')"
   ]
  },
  {
   "cell_type": "markdown",
   "metadata": {},
   "source": [
    "Assuming a null hupothesis that the success rate is 90%, we generate 1000 samples from this model.\n",
    "\n",
    "In those 1000 samples, we see that only 0.2% have a success rate of 80% or lower as observed in the data. This means by chance alone, the 90% sucess null model cannot produce more than 0.2% samples with success rate of 80% or lower. \n",
    "\n",
    "This means, the null model is a poor choice to explain a 80% success sample. So we reject the null model at 5% significance level stating that the sample must have come from some other distribution, but not the 90% success model. \n",
    "\n",
    "If we see the CDF above, the null model produced values between 0.8 and 1 most of the time. Anything close to our observed test statistic and lower was only produced rarely. So the null model is incapable of producing the observed test statistics of 80% success rate most of the time."
   ]
  },
  {
   "cell_type": "markdown",
   "metadata": {},
   "source": [
    "## Method 04 Chi Squared test for proportion"
   ]
  },
  {
   "cell_type": "code",
   "execution_count": 301,
   "metadata": {},
   "outputs": [
    {
     "data": {
      "text/plain": [
       "0.002"
      ]
     },
     "execution_count": 301,
     "metadata": {},
     "output_type": "execute_result"
    }
   ],
   "source": [
    "data = 80, 20\n",
    "ct = PropChiTest(data)\n",
    "pvalue = ct.PValue()\n",
    "pvalue"
   ]
  },
  {
   "cell_type": "code",
   "execution_count": 302,
   "metadata": {},
   "outputs": [
    {
     "data": {
      "image/png": "[encoded data removed]",
      "text/plain": [
       "<Figure size 432x288 with 1 Axes>"
      ]
     },
     "metadata": {
      "needs_background": "light"
     },
     "output_type": "display_data"
    }
   ],
   "source": [
    "ct.PlotCdf()\n",
    "thinkplot.Config(xlabel='test statistic',\n",
    "                   ylabel='CDF')"
   ]
  },
  {
   "cell_type": "markdown",
   "metadata": {},
   "source": [
    "As the test statistic is within the critical region for the hypothesis test, this means that we have\n",
    "sufficient evidence to reject the null hypothesis at the 5% significance level.\n",
    "\n",
    ">p is low, null must go, if p is high, null must fly\n",
    "\n",
    "## SnoreCull failed the test\n",
    "This time when we performed a hypothesis test on SnoreCull,\n",
    "there was sufficient evidence to reject the null hypothesis.\n",
    "In other words, we can reject the claims made by the drug\n",
    "company.\n",
    "\n",
    "> Shouldn’t we have\n",
    "just accepted the doctor’s\n",
    "opinion in the first place?\n",
    "\n",
    "Hypothesis tests require evidence.\n",
    "\n",
    "With a hypothesis test, you accept a claim and then put it on trial. You\n",
    "only reject it if there’s enough evidence against it. This means that the\n",
    "tests are impartial, as you only make a decision based on whether or\n",
    "not there’s sufficient evidence.\n",
    "\n",
    "If we had just accepted the doctor’s opinion in the first place, we\n",
    "wouldn’t have properly considered the evidence. We would have\n",
    "made a decision without considering whether the results could have\n",
    "been explained away by mere coincidence. As it is, we have enough\n",
    "evidence to show that the results of the sample are extreme enough\n",
    "to justify rejecting the null hypothesis. The results are statistically\n",
    "significant, as they’re unlikely to have happened by chance.\n",
    "So does this guarantee that the claims of the drug company\n",
    "are wrong?"
   ]
  },
  {
   "cell_type": "markdown",
   "metadata": {},
   "source": [
    "## Mistakes can happen\n",
    "\n",
    "So far we’ve looked at how we can use the results of a sample as evidence in\n",
    "a hypothesis test. If the evidence is sufficiently strong, then we can use it to\n",
    "justify rejecting the null hypothesis.\n",
    "\n",
    "We’ve found that there is strong evidence that the claims of the drug\n",
    "company are wrong, but is this guaranteed?\n",
    "\n",
    "> Of course it is. We’ve\n",
    "done a hypothesis test, and\n",
    "we’ve used it to prove that\n",
    "the drug company is lying.\n",
    "\n",
    "Even though the evidence is strong, we can’t absolutely\n",
    "guarantee that the drug company claims are wrong.\n",
    "\n",
    "Even though it’s unlikely, we could still have made the wrong decision. We can\n",
    "examine evidence with a hypothesis, and we can specify how certain we want\n",
    "to be before rejecting the null hypothesis, but it doesn’t prove with absolute\n",
    "certainty that our decision is right.\n",
    "\n",
    "The question is, how do we know?\n",
    "\n",
    "Conducting a hypothesis test is a bit like putting a prisoner on trial in front\n",
    "of a jury. The jury assumes that the prisoner is innocent unless there is strong\n",
    "evidence against him, but even considering the evidence, it’s still possible for\n",
    "the jury to make wrong decisions."
   ]
  },
  {
   "cell_type": "markdown",
   "metadata": {},
   "source": [
    "**Q: How can we make the wrong decision if we’re conducting\n",
    "a hypothesis test? Don’t we do a hypothesis test to make sure\n",
    "we don’t?**\n",
    "\n",
    "A: When you conduct a hypothesis test, you can only make a\n",
    "decision based on the evidence that you have. Your evidence is\n",
    "based on sample data, so if the sample is biased, you may make the\n",
    "wrong decision based on biased data.\n",
    "\n",
    "**Q: I’ve heard of something called significance tests. What are\n",
    "they?**\n",
    "\n",
    "A: Some people call hypothesis tests significance tests. This is\n",
    "because you test at a certain level of significance."
   ]
  },
  {
   "cell_type": "markdown",
   "metadata": {},
   "source": [
    "> So what does\n",
    "putting prisoners on\n",
    "trial have to do with\n",
    "hypothesis testing?\n",
    "\n",
    "The errors we can make when conducting a hypothesis\n",
    "test are the same sort of errors we could make when\n",
    "putting a prisoner on trial.\n",
    "\n",
    "Hypothesis tests are basically tests where you take a claim and put it on trial\n",
    "by assessing the evidence against it. If there’s sufficient evidence against it,\n",
    "you reject it, but if there’s insufficient evidence against it, you accept it.\n",
    "\n",
    "You may correctly accept or reject the null hypothesis, but even considering\n",
    "the evidence, it’s also possible to make an error. You may reject a valid null\n",
    "hypothesis, or you might accept it when it’s actually false.\n",
    "\n",
    "Statisticians have special names for these types of errors. A **Type I error** is\n",
    "when you wrongly reject a true null hypothesis, and a **Type II error** is when\n",
    "you wrongly accept a false null hypothesis.\n",
    "\n",
    "The **power** of a hypothesis test is the probability that that you will correctly\n",
    "reject a false null hypothesis.\n",
    "\n",
    "![10](010.png)\n",
    "\n",
    "How do you think we can find the probability of making a Type I error? How do\n",
    "you think we can find the probability of making a Type II error?"
   ]
  },
  {
   "cell_type": "markdown",
   "metadata": {},
   "source": [
    "## Let’s start with Type I errors\n",
    "\n",
    "A Type I error is what you get when you reject the null hypothesis when\n",
    "the null hypothesis is actually correct. It’s like putting a prisoner on trial\n",
    "and finding him guilty when he’s actually innocent.\n",
    "\n",
    "A Type I error is when you reject\n",
    "$H_0$ when actually it’s correct.\n",
    "\n",
    "# So what’s the probability of getting a Type I error?\n",
    "If you get a Type I error, then this means that\n",
    "the null hypothesis must have been rejected.\n",
    "In order for the null hypothesis to have been\n",
    "rejected, the results of your sample must be in\n",
    "the critical region.\n",
    "\n",
    "![11](011.png)\n",
    "\n",
    "The probability of getting a Type I error is the probability of your\n",
    "results being in the critical region. As the critical region is defined by the\n",
    "significance level of the test, this means that if the significance level of\n",
    "your test is α, the probability of getting a Type I error must be also be α.\n",
    "\n",
    "In other words,\n",
    "\n",
    "P(Type I error) = α\n",
    "\n",
    "where α is the significance level of the test.\n",
    "\n",
    "## What about Type II errors?\n",
    "\n",
    "A Type II error is what you get when you accept the null hypothesis,\n",
    "and the null hypothesis is actually wrong. It’s like putting a prisoner on\n",
    "trial and finding him innocent when he’s actually guilty.\n",
    "\n",
    "A Type II error is when you accept\n",
    "$H_0$ when actually it’s wrong.\n",
    "\n",
    "The probability of getting a Type II error is normally represented by\n",
    "the Greek letter β.\n",
    "\n",
    "P(Type II error) = β\n",
    "\n",
    "### So how do we find β?\n",
    "\n",
    "Finding the probability of a Type II error is more difficult than finding\n",
    "the probability of getting a Type I error. Here are the steps that are\n",
    "involved\n",
    "\n",
    "1. **Check that you have a specific value for H1.**<br>\n",
    "Without this, you can’t calculate the probability of getting a Type II error.\n",
    "\n",
    "2. **Find the range of values outside the critical region of your test.**<br>\n",
    "If your test statistic has been standardized, the range of values must be de-standardized.\n",
    "\n",
    "3. **Find the probability of getting this range of values, assuming H1 is true.**<br>\n",
    "In other words, we find the probability of getting the range of values outside the critical\n",
    "region, but this time, using the test statistic described by $H_1$ rather than $H_0$."
   ]
  },
  {
   "cell_type": "markdown",
   "metadata": {},
   "source": [
    "## Finding errors for SnoreCull\n",
    "\n",
    "Let’s see if we can find the probability of getting Type I and Type II errors for\n",
    "\n",
    "the SnoreCull hypothesis test. As a reminder, our standardized test statistic\n",
    "\n",
    "$Z = \\frac{X - 90}{3}$\n",
    "\n",
    "where X is the number of people cured in the sample. The significance level of the test is 5%.\n",
    "\n",
    "### Let’s start with the Type I error\n",
    "\n",
    "A Type I error is what you get when you reject the null hypothesis when\n",
    "actually it’s true. The probability of getting this sort of error is the same as the\n",
    "significance level of the test, so this means that\n",
    "\n",
    "P(Type I error) = 0.05\n",
    "\n",
    "This gives you the probability of rejecting\n",
    "the null hypothesis that 90% of people are\n",
    "cured when it’s true.\n",
    "\n",
    "So what about the Type II error?\n",
    "\n",
    "A Type II error is what you get when you accept the null hypothesis when the\n",
    "alternate hypothesis is true. We can only calculate this if $H_1$ specifies a single\n",
    "specific value, so let’s use an alternate hypothesis of p = 0.8, as this is the\n",
    "proportion of successes in the doctor’s sample. This means that our hypotheses\n",
    "become\n",
    "\n",
    "$H_0: p = 0.9$\n",
    "\n",
    "$H_1: p = 0.8$\n",
    "\n",
    "This time we’ll use H1: p = 0.8 instead of $H_1$: p < 0.8. We can only\n",
    "calculate the probability of getting a Type II error if we have a\n",
    "single specific value for the alternate hypothesis.\n",
    "\n",
    "To look up probabilities using the\n",
    "alternate hypothesis probability\n",
    "distribution, we need an exact\n",
    "value for p.\n",
    "\n",
    "The reason why $H_1$ must specify an exact value for p is so that we can calculate\n",
    "probabilities using it. If we used an alternate hypothesis of p < 0.9, we wouldn’t\n",
    "be able to use it to calculate the probability of getting a Type II error.\n",
    "\n",
    "## We need to find the range of values\n",
    "\n",
    "Now that the alternate hypothesis $H_1$ gives a specific value for p, we can move\n",
    "on to the next step. We need to find the values of X that lie outside the critical\n",
    "region of the hypothesis test.\n",
    "\n",
    "The critical region for the test is given by Z\n",
    "< -1.64—in other words, P(Z < -1.64) = 0.05. This means that values that fall\n",
    "outside the critical region are given by Z ≥ -1.64.\n",
    "\n",
    "![12](012.png)\n",
    "\n",
    "If we de-standardize this, we get\n",
    "\n",
    "$\\frac{X-90}{3} \\geq -1.64$\n",
    "\n",
    "$X \\geq 85.08$\n",
    "\n",
    "In other words, we would have accepted the null hypothesis if 85.08 people\n",
    "or more had been cured by SnoreCull.\n",
    "\n",
    "The final thing we need to do is work out P(X ≥ 85.08), assuming that $H_1$\n",
    "is true. That way, we’ll be able to work out the probability of accepting the\n",
    "null hypothesis when actually $H_1 is true instead. As we’re using the normal\n",
    "distribution to approximate X, we need to use a probability distribution\n",
    "X ~ N(np, npq), where n = 100 and p = 0.8. This gives us\n",
    "\n",
    "X ~ N(80, 16)\n",
    "\n",
    "This means that if we can calculate P(X ≥ 85.08) where X ~ N(80, 16), we’ll\n",
    "have found the probability of getting a Type II error.\n",
    "\n",
    "We calculate this in the same way we calculate other normal distribution\n",
    "probabilities, by finding the standard score and then looking up the value in\n",
    "standard normal probability tables."
   ]
  },
  {
   "cell_type": "markdown",
   "metadata": {},
   "source": [
    "## Find P(Type II error)\n",
    "\n",
    "We can find the probability of getting a Type II error by calculating\n",
    "P(X ≥ 85.08) where X ~ N(80, 16). Let’s start off by finding the standard\n",
    "score of 85.08.\n",
    "\n",
    "This is the usual way of calculating the\n",
    "standard score; just subtract the expectation,\n",
    "and divide by the standard deviation.\n",
    "\n",
    "$z = \\frac{85.08 - 80}{\\sqrt {16}} = 1.27$\n",
    "\n",
    "This means that in order to find P(X ≥ 85.08), we need to use standard\n",
    "probability tables to find P(Z 1.27).\n",
    "\n",
    "P(Z ≥ 1.27) = 1 - P(Z < 1.27)\n",
    "\n",
    "= 1 - 0.8980\n",
    "\n",
    "= 0.102\n",
    "\n",
    "In other words,\n",
    "\n",
    "P(Type II error) = 0.102\n",
    "\n",
    "This gives you the probability of accepting\n",
    "the null hypothesis that 90% of people are\n",
    "cured when actually 80% of people are."
   ]
  },
  {
   "cell_type": "markdown",
   "metadata": {},
   "source": [
    "**Q: Why is it so much harder to find P(Type II error) than\n",
    "P(Type I error)?**\n",
    "\n",
    "A: It’s because of the way they’re defined. A Type I error is what\n",
    "you get when you wrongly reject the null hypothesis. The probability\n",
    "of getting this sort of error is the same as α, the significance level of\n",
    "the test.\n",
    "\n",
    "A Type II error is the error you get when you accept the null\n",
    "hypothesis when actually the alternate hypothesis is true. To find the\n",
    "probability of getting this sort of error, you need to start by finding\n",
    "the range of values in your sample that would mean you accept the\n",
    "null hypothesis. Once you’ve found these values, you then have to\n",
    "calculate the probability of getting them assuming that $H_1$ is true.\n",
    "\n",
    "**Q: Do I need to use the normal distribution every time I want\n",
    "to find the probability of getting a Type II error?**\n",
    "\n",
    "A: The probability distribution you use all depends on your test\n",
    "statistic. In this case, our test statistic followed a normal distribution,\n",
    "so that’s the distribution we used to find P(Type II error). If our test\n",
    "statistic had followed, say, a Poisson distribution, we would have\n",
    "used a Poisson distribution instead."
   ]
  },
  {
   "cell_type": "markdown",
   "metadata": {},
   "source": [
    "## Introducing power\n",
    "\n",
    "So far we’ve looked at the probability of getting different types of error in\n",
    "our hypothesis test. One thing that we haven’t looked at is power.\n",
    "\n",
    "The power of a hypothesis test is the probability that we will reject $H_0$\n",
    "when $H_0$ is false. In other words, it’s the probability that we will make the\n",
    "correct decision to reject $H_0$.\n",
    "\n",
    "Once you’ve found P(Type II error), calculating the\n",
    "power of a hypothesis test is easy.\n",
    "\n",
    "Rejecting $H_0$ when $H_0$ is false is actually the opposite of making a Type II\n",
    "error. This means that\n",
    "\n",
    "Power = 1 - β\n",
    "\n",
    "where β is the probability of making a Type II error.\n",
    "\n",
    "## So what’s the power of SnoreCull?\n",
    "\n",
    "We’ve found the probability of getting a Type II error is 0.102. This\n",
    "means that we can find the power of the SnoreCull hypothesis test by\n",
    "calculating\n",
    "\n",
    "Power = 1 - P(Type II error)\n",
    "\n",
    "= 1 - 0.102\n",
    "\n",
    "= 0.898\n",
    "\n",
    "In other words, the power of the SnoreCull hypothesis test is 0.898. This\n",
    "means that the probability that we will make the correct decision to reject\n",
    "the null hypothesis is 0.898.\n",
    "\n",
    "## Summary\n",
    "\n",
    "* A Type I error is when you reject the null hypothesis when it’s actually correct. The probability of getting a Type I error is α, the significance level of the test.\n",
    "* A Type II error is when you accept the null hypothesis when it’s wrong. The probability of getting a Type II error is represented by β. \n",
    "* To find β, your alternate hypothesis must have a specific value. You then find the range of values outside the critical region of your test, and then find the probability of getting this range of values under $H_1$."
   ]
  },
  {
   "cell_type": "code",
   "execution_count": null,
   "metadata": {},
   "outputs": [],
   "source": []
  }
 ],
 "metadata": {
  "kernelspec": {
   "display_name": "Python 3",
   "language": "python",
   "name": "python3"
  },
  "language_info": {
   "codemirror_mode": {
    "name": "ipython",
    "version": 3
   },
   "file_extension": ".py",
   "mimetype": "text/x-python",
   "name": "python",
   "nbconvert_exporter": "python",
   "pygments_lexer": "ipython3",
   "version": "3.7.3"
  }
 },
 "nbformat": 4,
 "nbformat_minor": 2
}
