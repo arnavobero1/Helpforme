{
 "cells": [
  {
   "cell_type": "code",
   "execution_count": 1,
   "metadata": {},
   "outputs": [],
   "source": [
    "import numpy as np\n",
    "import pandas as pd\n",
    "import matplotlib.pyplot as plt\n",
    "import seaborn as sns"
   ]
  },
  {
   "cell_type": "markdown",
   "metadata": {},
   "source": [
    "# \"There are three kinds of lies: lies, damned lies, and statistics.\"\n",
    "Everywhere you look you can find statistics, whether you’re browsing the Internet, playing sports, or looking through the top scores of your favorite video game. But what actually is a statistic?\n",
    "\n",
    "Statistics are numbers that summarize raw facts and figures in some meaningful way. They present key ideas that may not be immediately apparent by just looking at the raw data, and by data, we mean facts or figures from which we can draw conclusions.\n",
    "\n",
    "As an example, you don’t have to wade through lots of football scores when all you want to know is the league position of your favorite team. You need a statistic to quickly give you the information you need. The study of statistics covers where statistics come from, how to calculate them, and how you can use them effectively.\n",
    "\n",
    "Statistics help you make sense of confusing sets of data. They make the complex simple. And when you’ve found out what’s really going on, you need a way of visualizing it and telling everyone else."
   ]
  },
  {
   "cell_type": "markdown",
   "metadata": {},
   "source": [
    "### Gather data\n",
    "At the root of statistics is data. Data can be gathered by looking through existing sources, conducting experiments, or by conducting surveys.\n",
    "\n",
    "### Analyze\n",
    "Once you have data, you can analyze it and generate statistics. You can calculate probabilities to see how likely certain events are, test ideas, and indicate how confident you are about your results.\n",
    "\n",
    "### Draw conclusions \n",
    "When you’ve analyzed your data, you make decisions and predictions."
   ]
  },
  {
   "cell_type": "markdown",
   "metadata": {},
   "source": [
    "## But why learn statistics?\n",
    "Understanding what’s really going on with statistics empowers you. If you really get statistics, you’ll be able to make objective decisions, make accurate predictions that seem inspired, and convey the message you want in the most effective way possible.\n",
    "\n",
    "Statistics can be a convenient way of summarizing key truths about data, but there’s a dark side too. You can use statistics\n",
    "to help explain things about the world. You can say what you want with statistics, even lie.\n",
    "\n",
    "Statistics are based on facts, but even so, they can sometimes be misleading. They can be used to tell the truth—or to lie. The problem is how do you know when you’re being told the truth, and when you’re being told lies?\n",
    "\n",
    "Having a good understanding of statistics puts you in a strong position. You’re much better equipped to tell when statistics are inaccurate or misleading. In other words, studying statistics is a good way of making sure you don’t get fooled.\n",
    "\n",
    "As an example, take a look at the profits made by a company in the latter half of last year."
   ]
  },
  {
   "cell_type": "code",
   "execution_count": 2,
   "metadata": {},
   "outputs": [],
   "source": [
    "profits_df = pd.read_csv('Profits.csv', index_col = 'Month')"
   ]
  },
  {
   "cell_type": "code",
   "execution_count": 3,
   "metadata": {},
   "outputs": [
    {
     "data": {
      "text/html": [
       "<div>\n",
       "<style scoped>\n",
       "    .dataframe tbody tr th:only-of-type {\n",
       "        vertical-align: middle;\n",
       "    }\n",
       "\n",
       "    .dataframe tbody tr th {\n",
       "        vertical-align: top;\n",
       "    }\n",
       "\n",
       "    .dataframe thead th {\n",
       "        text-align: right;\n",
       "    }\n",
       "</style>\n",
       "<table border=\"1\" class=\"dataframe\">\n",
       "  <thead>\n",
       "    <tr style=\"text-align: right;\">\n",
       "      <th></th>\n",
       "      <th>Profit (Millions)</th>\n",
       "    </tr>\n",
       "    <tr>\n",
       "      <th>Month</th>\n",
       "      <th></th>\n",
       "    </tr>\n",
       "  </thead>\n",
       "  <tbody>\n",
       "    <tr>\n",
       "      <th>Jul</th>\n",
       "      <td>2.0</td>\n",
       "    </tr>\n",
       "    <tr>\n",
       "      <th>Aug</th>\n",
       "      <td>2.1</td>\n",
       "    </tr>\n",
       "    <tr>\n",
       "      <th>Sep</th>\n",
       "      <td>2.2</td>\n",
       "    </tr>\n",
       "    <tr>\n",
       "      <th>Oct</th>\n",
       "      <td>2.1</td>\n",
       "    </tr>\n",
       "    <tr>\n",
       "      <th>Nov</th>\n",
       "      <td>2.3</td>\n",
       "    </tr>\n",
       "    <tr>\n",
       "      <th>Dec</th>\n",
       "      <td>2.4</td>\n",
       "    </tr>\n",
       "  </tbody>\n",
       "</table>\n",
       "</div>"
      ],
      "text/plain": [
       "       Profit (Millions)\n",
       "Month                   \n",
       "Jul                  2.0\n",
       "Aug                  2.1\n",
       "Sep                  2.2\n",
       "Oct                  2.1\n",
       "Nov                  2.3\n",
       "Dec                  2.4"
      ]
     },
     "execution_count": 3,
     "metadata": {},
     "output_type": "execute_result"
    }
   ],
   "source": [
    "profits_df"
   ]
  },
  {
   "cell_type": "markdown",
   "metadata": {},
   "source": [
    "Are profit’s holding steady and nothing special.\n",
    "\n",
    "Or This stock’s so hot it’s smokin’?\n",
    "\n",
    "How can there be two interpretations of the same set of data? Let’s take a closer look."
   ]
  },
  {
   "cell_type": "markdown",
   "metadata": {},
   "source": [
    "## A tale of two charts\n",
    "\n",
    "So how can we explore these two different interpretations of the same data? What we need is some way of visualizing them. If you need to visualize information, there’s no better way than using a chart or graph. They can be a quick way of summarizing raw information and can help you get an impression of what’s going on at a glance. But you need to be careful because even the\n",
    "simplest chart can be used to subtly mislead and misdirect you.\n",
    "\n",
    "Here are two time graphs showing a companies profits for six months. They’re both based on the same information, so why do they look so different? They give drastically different versions of the same information."
   ]
  },
  {
   "cell_type": "code",
   "execution_count": 4,
   "metadata": {},
   "outputs": [
    {
     "data": {
      "text/plain": [
       "<matplotlib.axes._subplots.AxesSubplot at 0x295fb099f28>"
      ]
     },
     "execution_count": 4,
     "metadata": {},
     "output_type": "execute_result"
    },
    {
     "data": {
      "image/png": "[encoded data removed]",
      "text/plain": [
       "<Figure size 432x288 with 1 Axes>"
      ]
     },
     "metadata": {
      "needs_background": "light"
     },
     "output_type": "display_data"
    }
   ],
   "source": [
    "profits_df.plot(ylim=(0, 2.5))"
   ]
  },
  {
   "cell_type": "code",
   "execution_count": 5,
   "metadata": {},
   "outputs": [
    {
     "data": {
      "image/png": "[encoded data removed]",
      "text/plain": [
       "<Figure size 432x288 with 1 Axes>"
      ]
     },
     "metadata": {
      "needs_background": "light"
     },
     "output_type": "display_data"
    }
   ],
   "source": [
    "profits_df.plot();"
   ]
  },
  {
   "cell_type": "markdown",
   "metadata": {},
   "source": [
    "### Exercise\n",
    "Both of these charts are based on the same information, but they look wildly different. What’s going on?\n",
    "\n",
    "Take a look at the two charts on the facing page. What would you say are the key differences? How do they give such different first impressions of the data?"
   ]
  },
  {
   "cell_type": "markdown",
   "metadata": {},
   "source": [
    "Both charts are based on the same underlying data, but they each send a different message.\n",
    "\n",
    "The first chart shows that the profit is relatively steady. It achieves this by having the vertical axis start at 0, and then plotting the profit for each month against this.\n",
    "\n",
    "The second chart gives a different impression by making the vertical axis start at a different place and adjusting the scale accordingly. At a glance, the profits appear to be rising dramatically each month. It’s only when you look closer that you see what’s really going on. The axis for this chart starts at 2.0, not 0. No wonder the profit looks so awesome."
   ]
  },
  {
   "cell_type": "markdown",
   "metadata": {},
   "source": [
    "**Q: Why not just go on the data? Why chart it?**\n",
    "    \n",
    "A: Sometimes it’s difficult to see what’s really going on just by looking at the raw data. There can be patterns and trends in the data, but these can be very hard to spot if you’re just looking at a heap of numbers. Charts give you a way of literally seeing patterns in your data. They allow you to visualize your data and see what’s really going on in a quick glance.\n",
    "\n",
    "**Q: What’s the difference between information and data?**\n",
    "\n",
    "A: Data refers to raw facts and figures that have been collected. Information is data that has some sort of added meaning. As an example, take the numbers 5, 6, and 7. By themselves, these are just numbers. You don’t know what they mean or represent.\n",
    "They’re data. If you’re then told that these are the ages of three children, you have information as the numbers are now meaningful.\n",
    "\n",
    "**Q: Why should I care about charts? Chart software can handle everything for you, that’s what it’s there for.**\n",
    "\n",
    "Software can’t think for you. Chart software can save you a lot of time and produce effective charts, but you still need to understand what’s going on.\n",
    "\n",
    "At the end of the day, it’s your data, and it’s up to you to choose the right chart for the job and make sure your data is presented in the most effective way possible and conveys the message you want. Software can translate data into charts, but it’s up to you to make sure the chart is right."
   ]
  },
  {
   "cell_type": "markdown",
   "metadata": {},
   "source": [
    "## Manic Mango needs some charts\n",
    "One company that needs some charting expertise is Manic Mango, an innovative games company that is taking the world by storm. The CEO has been invited to deliver a keynote presentation at the next worldwide games expo. He needs some quick, slick ways of presenting data, and he’s asked you to come up with the goods. There’s a lot riding on this. If the keynote goes well, Manic Mango will get extra sponsorship revenue, and you’re bound to get a hefty bonus for your efforts.\n",
    "\n",
    "The first thing the CEO wants to be able to do is compare the percentage of satisfied players for each game genre. He’s started\n",
    "off by plugging the data he has through some charting software, and here are the results:"
   ]
  },
  {
   "cell_type": "code",
   "execution_count": 6,
   "metadata": {},
   "outputs": [],
   "source": [
    "game_sales_df = pd.read_csv('GameSales.csv', index_col = 'Genre')"
   ]
  },
  {
   "cell_type": "code",
   "execution_count": 7,
   "metadata": {},
   "outputs": [
    {
     "data": {
      "text/html": [
       "<div>\n",
       "<style scoped>\n",
       "    .dataframe tbody tr th:only-of-type {\n",
       "        vertical-align: middle;\n",
       "    }\n",
       "\n",
       "    .dataframe tbody tr th {\n",
       "        vertical-align: top;\n",
       "    }\n",
       "\n",
       "    .dataframe thead th {\n",
       "        text-align: right;\n",
       "    }\n",
       "</style>\n",
       "<table border=\"1\" class=\"dataframe\">\n",
       "  <thead>\n",
       "    <tr style=\"text-align: right;\">\n",
       "      <th></th>\n",
       "      <th>Sales</th>\n",
       "    </tr>\n",
       "    <tr>\n",
       "      <th>Genre</th>\n",
       "      <th></th>\n",
       "    </tr>\n",
       "  </thead>\n",
       "  <tbody>\n",
       "    <tr>\n",
       "      <th>Sports</th>\n",
       "      <td>27500</td>\n",
       "    </tr>\n",
       "    <tr>\n",
       "      <th>Strategy</th>\n",
       "      <td>11500</td>\n",
       "    </tr>\n",
       "    <tr>\n",
       "      <th>Action</th>\n",
       "      <td>6000</td>\n",
       "    </tr>\n",
       "    <tr>\n",
       "      <th>Shooter</th>\n",
       "      <td>3500</td>\n",
       "    </tr>\n",
       "    <tr>\n",
       "      <th>Other</th>\n",
       "      <td>1500</td>\n",
       "    </tr>\n",
       "  </tbody>\n",
       "</table>\n",
       "</div>"
      ],
      "text/plain": [
       "          Sales\n",
       "Genre          \n",
       "Sports    27500\n",
       "Strategy  11500\n",
       "Action     6000\n",
       "Shooter    3500\n",
       "Other      1500"
      ]
     },
     "execution_count": 7,
     "metadata": {},
     "output_type": "execute_result"
    }
   ],
   "source": [
    "game_sales_df"
   ]
  },
  {
   "cell_type": "code",
   "execution_count": 8,
   "metadata": {},
   "outputs": [
    {
     "data": {
      "text/plain": [
       "<matplotlib.axes._subplots.AxesSubplot at 0x295fc41e8d0>"
      ]
     },
     "execution_count": 8,
     "metadata": {},
     "output_type": "execute_result"
    },
    {
     "data": {
      "image/png": "[encoded data removed]",
      "text/plain": [
       "<Figure size 504x504 with 1 Axes>"
      ]
     },
     "metadata": {},
     "output_type": "display_data"
    }
   ],
   "source": [
    "game_sales_df.plot.pie(y='Sales', figsize=(7, 7))"
   ]
  },
  {
   "cell_type": "markdown",
   "metadata": {},
   "source": [
    "## Exercise\n",
    "\n",
    "Take a good look at the pie chart that the CEO has produced. What does each slice represent? What can you infer about the relative popularity of different video game genres?"
   ]
  },
  {
   "cell_type": "markdown",
   "metadata": {},
   "source": [
    "## The humble pie chart\n",
    "Pie charts work by splitting your data into distinct groups or categories. The chart consists of a circle split into wedge-shaped slices, and each slice represents a group. The size of each slice is proportional to how many are in each group compared with the others. The larger the slice, the greater the relative popularity of that group. The number in a particular group is\n",
    "called the frequency.\n",
    "\n",
    "Pie charts divide your entire data set into distinct groups. This means that if you add together the frequency of each slice, you should get 100%. Let’s take a closer look at our pie chart showing the number of units sold per genre."
   ]
  },
  {
   "cell_type": "markdown",
   "metadata": {},
   "source": [
    "**Frequency**\n",
    "\n",
    "Frequency describes how many items there are in a particular group or interval. It’s like a count of how many there are."
   ]
  },
  {
   "cell_type": "markdown",
   "metadata": {},
   "source": [
    "**So when are pie charts useful?**\n",
    "\n",
    "We’ve seen that the size of each slice represents the relative frequency of each group of data you’re showingg. Because of\n",
    "this, pie charts can be useful if you want to compare basic proportions.\n",
    "\n",
    "It’s usually easy to tell at a glance which groups have a high frequency compared with the others. Pie charts are less useful if all the slices have similar sizes, as it’s difficult to pick up on subtle differences between the slice sizes. In real life, a pie chart can and should always be replaced by a bar chart as we will see later.\n",
    "\n",
    "So what about the pie chart that the Manic Mango CEO has created?"
   ]
  },
  {
   "cell_type": "markdown",
   "metadata": {},
   "source": [
    "## Chart failure\n",
    "\n",
    "Creating a pie chart worked out so great for displaying the units sold per genre that the CEO’s decided to create another to chart consumer satisfaction with Manic Mango’s game. The CEO needs a chart that will allow him to compare the percentage of satisfied players for each game genre. He’s run the data through the charting software again, but this time he’s not as impressed."
   ]
  },
  {
   "cell_type": "code",
   "execution_count": 9,
   "metadata": {},
   "outputs": [],
   "source": [
    "customer_satisfaction_df = pd.read_csv('CustomerSatisfaction.csv', index_col = 'Genre')"
   ]
  },
  {
   "cell_type": "code",
   "execution_count": 10,
   "metadata": {},
   "outputs": [
    {
     "data": {
      "text/plain": [
       "<matplotlib.axes._subplots.AxesSubplot at 0x295fc485978>"
      ]
     },
     "execution_count": 10,
     "metadata": {},
     "output_type": "execute_result"
    },
    {
     "data": {
      "image/png": "[encoded data removed]",
      "text/plain": [
       "<Figure size 504x504 with 1 Axes>"
      ]
     },
     "metadata": {},
     "output_type": "display_data"
    }
   ],
   "source": [
    "customer_satisfaction_df.plot.pie(y='Satisfaction', figsize=(7, 7), label='Pie charts show proportions')"
   ]
  },
  {
   "cell_type": "markdown",
   "metadata": {},
   "source": [
    "Pie charts are used to compare the proportions of different groups or categories, but in this case there’s little variation between each group. It’s difficult to take in at a glance which category has the highest level of player satisfaction.\n",
    "\n",
    "It’s also generally confusing to label pie charts with percentages that don’t relate to the overall proportion of the slice. As an example, the Sports slice is labelled 99%, but it only fills about 20% of the chart. Another problem is that we don’t know whether there’s an equal number of responses for each genre, so we don’t know whether it’s fair to compare genre satisfaction in this way."
   ]
  },
  {
   "cell_type": "markdown",
   "metadata": {},
   "source": [
    "## Bar charts can allow for more accuracy\n",
    "A better way of showing this kind of data is with a bar chart. Just like pie charts, bar charts allow you to compare relative sizes, but the advantage of using a bar chart is that they allow for a greater degree of precision.\n",
    "\n",
    "They’re ideal in situations where categories are roughly the same size, as you can tell with far greater precision which category has the highest frequency. It makes it easier for you to see small differences.\n",
    "\n",
    "On a bar chart, each bar represents a particular category, and the length of the bar indicates the value. The longer the bar, the greater the value. All the bars have the same width, which makes it easier to compare them. Bar charts can be drawn either vertically or horizontally."
   ]
  },
  {
   "cell_type": "markdown",
   "metadata": {},
   "source": [
    "### Vertical bar charts\n",
    "Vertical bar charts show categories on the horizontal axis, and either frequency or percentage on the vertical axis. The height of each bar indicates the value of its category. Here’s an example showing the sales figures:"
   ]
  },
  {
   "cell_type": "code",
   "execution_count": 11,
   "metadata": {},
   "outputs": [
    {
     "data": {
      "text/plain": [
       "<matplotlib.axes._subplots.AxesSubplot at 0x295fc4d7630>"
      ]
     },
     "execution_count": 11,
     "metadata": {},
     "output_type": "execute_result"
    },
    {
     "data": {
      "image/png": "[encoded data removed]",
      "text/plain": [
       "<Figure size 432x288 with 1 Axes>"
      ]
     },
     "metadata": {
      "needs_background": "light"
     },
     "output_type": "display_data"
    }
   ],
   "source": [
    "game_sales_df.plot.bar()"
   ]
  },
  {
   "cell_type": "markdown",
   "metadata": {},
   "source": [
    "## Horizontal bar charts\n",
    "Horizontal bar charts are just like vertical bar charts except that the axes are flipped round. With horizontal bar charts, you show the categories on the vertical axis and the frequency or percentage on the horizontal axis.\n",
    "\n",
    "Here’s a horizontal bar chart for the CEO’s genre data from page. As you can see, it’s much easier to quickly gauge which category has the highest value, and which the lowest."
   ]
  },
  {
   "cell_type": "code",
   "execution_count": 12,
   "metadata": {},
   "outputs": [
    {
     "data": {
      "text/plain": [
       "<matplotlib.axes._subplots.AxesSubplot at 0x295fc539630>"
      ]
     },
     "execution_count": 12,
     "metadata": {},
     "output_type": "execute_result"
    },
    {
     "data": {
      "image/png": "[encoded data removed]",
      "text/plain": [
       "<Figure size 432x288 with 1 Axes>"
      ]
     },
     "metadata": {
      "needs_background": "light"
     },
     "output_type": "display_data"
    }
   ],
   "source": [
    "customer_satisfaction_df.plot.barh()"
   ]
  },
  {
   "cell_type": "markdown",
   "metadata": {},
   "source": [
    "Vertical bar charts tend to be more common, but horizontal bar charts are useful if the names of your categories are long. They give you lots of space for showing the name of each category without having to turn the bar labels sideways.\n",
    "\n",
    "The vertical bar chart shows frequency, and the horizontal bar chart shows percentages. When should I use frequencies and when should I use percentages?\n",
    "\n",
    "It depends on what message you want to convey. Let’s take a closer look.\n",
    "\n",
    "The vertical bar chart shows frequency, and the horizontal bar chart shows percentages. When should I use frequencies and when should I use percentages?\n",
    "\n",
    "### It’s a matter of scale\n",
    "Understanding scale allows you to create powerful bar charts that pick out the key facts you want to draw attention to. But be careful—scale can also conceal vital facts about your data. Let’s see how.\n",
    "\n",
    "### Using percentage scales\n",
    "Let’s start by taking a deeper look at the bar chart showing player satisfaction per game genre. The horizontal axis shows player satisfaction as a percentage, the number of people out of every hundred who are satisfied with this genre.\n",
    "\n",
    "The purpose of this chart is to allow us to compare different percentages and also read off percentages from the chart. There’s just one problem—it doesn’t tell us how many players there are for each genre. This may not sound important, but it means that we have no idea whether this reflects the views of all players, some of them, or even just a handful. In other words, we don’t know how representative this is of players as a whole. The golden rule for designing charts that show percentages is to try and\n",
    "indicate the frequencies, either on the chart or just next to it.\n",
    "\n",
    "Be very wary if you’re given percentages with no frequencies, or a frequency with no percentage. Sometimes this is a tactic used to hide key facts about the underlying data, as just based on a chart, you have no way of telling how representative it is of the data. You may find that a large percentage of people prefer one particular game genre, but that only 10 people were questioned. Alternatively, you might find that 10,000 players like sports games most, but by itself, you can’t tell whether this is a high or low proportion of all game players.\n",
    "\n",
    "### Using frequency scales\n",
    "You can show frequencies on your scale instead of percentages. This makes it easy for people to see exactly what the frequencies are and compare values.\n",
    "\n",
    "Normally your scale should start at 0, but watch out! Not every chart does this, and as you saw earlier on page , using a scale that doesn’t start at 0 can give a different first impression of your data. This is something to watch out for on other people’s charts, as it’s very easy to miss and can give you the wrong impression of the data.\n",
    "\n",
    "*So are you telling me that I have to choose between showing frequency or percentages? What if I want both?*\n",
    "\n",
    "There are ways of drawing bar charts that give you more flexibility.\n",
    "\n",
    "The problem with these bar charts is that they show either the number of satisfied players or the percentage, and they only show satisfied players.\n",
    "\n",
    "Let’s take a look at how we can get around this problem.\n",
    "\n",
    "## Dealing with multiple sets of data\n",
    "With bar charts, it’s actually really easy to show more than one set of data on the same chart. As an example, we can show both the percentage of satisfied players and the percentage of dissatisfied players on the same chart.\n",
    "\n",
    "### The split-category bar chart \n",
    "\n",
    "One way of tackling this is to use one bar for the frequency of satisfied players and another for those dissatisfied, for each genre. This sort of chart is useful if you want to compare frequencies, but it’s difficult to see proportions and percentages."
   ]
  },
  {
   "cell_type": "code",
   "execution_count": 13,
   "metadata": {},
   "outputs": [
    {
     "data": {
      "image/png": "[encoded data removed]",
      "text/plain": [
       "<Figure size 432x288 with 1 Axes>"
      ]
     },
     "metadata": {
      "needs_background": "light"
     },
     "output_type": "display_data"
    }
   ],
   "source": [
    "satisfied = [27000, 11000, 7000, 4000, 2000]\n",
    "dissatisfied = [1000, 2000, 1575, 1000, 500]\n",
    "index = ['Sports', 'Strategy', 'Action', 'Shooter', 'Other']\n",
    "df = pd.DataFrame({'Satisfied': satisfied, 'Dissatisfied': dissatisfied}, index=index)\n",
    "ax = df.plot.barh(rot=45)"
   ]
  },
  {
   "cell_type": "markdown",
   "metadata": {},
   "source": [
    "### The segmented bar chart\n",
    "If you want to show frequencies and percentages, you can try using a segmented bar chart. For this, you use one bar for each\n",
    "category, but you split the bar proportionally. The overall length of the bar reflects the total frequency. This sort of chart allows you to quickly see the total frequency of each category—in this case, the total number of players for each genre—and the frequency of player satisfaction. You can see proportions at a glance, too."
   ]
  },
  {
   "cell_type": "code",
   "execution_count": 14,
   "metadata": {},
   "outputs": [
    {
     "data": {
      "image/png": "[encoded data removed]",
      "text/plain": [
       "<Figure size 432x288 with 1 Axes>"
      ]
     },
     "metadata": {
      "needs_background": "light"
     },
     "output_type": "display_data"
    }
   ],
   "source": [
    "satisfied = [27000, 11000, 7000, 4000, 2000]\n",
    "dissatisfied = [1000, 2000, 1575, 1000, 500]\n",
    "index = ['Sports', 'Strategy', 'Action', 'Shooter', 'Other']\n",
    "df = pd.DataFrame({'Satisfied': satisfied, 'Dissatisfied': dissatisfied}, index=index)\n",
    "ax = df.plot.barh(stacked = True)"
   ]
  },
  {
   "cell_type": "markdown",
   "metadata": {},
   "source": [
    "**Exercise :** The CEO needs another chart for the keynote presentation. Here’s the data; see if you can sketch the bar chart."
   ]
  },
  {
   "cell_type": "code",
   "execution_count": 15,
   "metadata": {},
   "outputs": [
    {
     "data": {
      "image/png": "[encoded data removed]",
      "text/plain": [
       "<Figure size 432x288 with 1 Axes>"
      ]
     },
     "metadata": {
      "needs_background": "light"
     },
     "output_type": "display_data"
    }
   ],
   "source": [
    "# solution\n",
    "Continent_Sales_df = pd.read_csv('ContinentSales.csv', index_col = 'Continent')\n",
    "Continent_Sales_df.plot.bar();"
   ]
  },
  {
   "cell_type": "markdown",
   "metadata": {},
   "source": [
    "**Exercise :** Here’s another chart generated by the software. Which genre sold the most in 2017? How did this genre fare in 2018?"
   ]
  },
  {
   "cell_type": "code",
   "execution_count": 16,
   "metadata": {},
   "outputs": [
    {
     "data": {
      "image/png": "[encoded data removed]",
      "text/plain": [
       "<Figure size 432x288 with 1 Axes>"
      ]
     },
     "metadata": {
      "needs_background": "light"
     },
     "output_type": "display_data"
    }
   ],
   "source": [
    "sales_2017 = [27000, 11000, 7000, 4000, 2000]\n",
    "sales_2018 = [30000, 10000, 15000, 3000, 6000]\n",
    "index = ['Sports', 'Strategy', 'Action', 'Shooter', 'Other']\n",
    "df = pd.DataFrame({'2017': sales_2017, '2018': sales_2018}, index=index)\n",
    "ax = df.plot.barh()"
   ]
  },
  {
   "cell_type": "markdown",
   "metadata": {},
   "source": [
    "# Your bar charts rock\n",
    "The CEO is thrilled with the bar charts you’ve produced, but there’s more data he needs to present at the keynote.\n",
    "\n",
    "Nice work! Those charts are going to be a big hit at the expo. I’ve got another assignment for you. We’ve been testing a new game with a group of volunteers, and we need a chart to show the breakdown of scores per game. Here’s the data:"
   ]
  },
  {
   "cell_type": "code",
   "execution_count": 17,
   "metadata": {},
   "outputs": [],
   "source": [
    "scores_df = pd.read_csv('Scores.csv', index_col = 'Score')"
   ]
  },
  {
   "cell_type": "code",
   "execution_count": 18,
   "metadata": {},
   "outputs": [
    {
     "data": {
      "text/html": [
       "<div>\n",
       "<style scoped>\n",
       "    .dataframe tbody tr th:only-of-type {\n",
       "        vertical-align: middle;\n",
       "    }\n",
       "\n",
       "    .dataframe tbody tr th {\n",
       "        vertical-align: top;\n",
       "    }\n",
       "\n",
       "    .dataframe thead th {\n",
       "        text-align: right;\n",
       "    }\n",
       "</style>\n",
       "<table border=\"1\" class=\"dataframe\">\n",
       "  <thead>\n",
       "    <tr style=\"text-align: right;\">\n",
       "      <th></th>\n",
       "      <th>Frequency</th>\n",
       "    </tr>\n",
       "    <tr>\n",
       "      <th>Score</th>\n",
       "      <th></th>\n",
       "    </tr>\n",
       "  </thead>\n",
       "  <tbody>\n",
       "    <tr>\n",
       "      <th>0-199</th>\n",
       "      <td>5</td>\n",
       "    </tr>\n",
       "    <tr>\n",
       "      <th>200-399</th>\n",
       "      <td>29</td>\n",
       "    </tr>\n",
       "    <tr>\n",
       "      <th>400-599</th>\n",
       "      <td>56</td>\n",
       "    </tr>\n",
       "    <tr>\n",
       "      <th>600-799</th>\n",
       "      <td>17</td>\n",
       "    </tr>\n",
       "    <tr>\n",
       "      <th>800-999</th>\n",
       "      <td>3</td>\n",
       "    </tr>\n",
       "  </tbody>\n",
       "</table>\n",
       "</div>"
      ],
      "text/plain": [
       "         Frequency\n",
       "Score             \n",
       "0-199            5\n",
       "200-399         29\n",
       "400-599         56\n",
       "600-799         17\n",
       "800-999          3"
      ]
     },
     "execution_count": 18,
     "metadata": {},
     "output_type": "execute_result"
    }
   ],
   "source": [
    "scores_df"
   ]
  },
  {
   "cell_type": "code",
   "execution_count": 19,
   "metadata": {},
   "outputs": [],
   "source": [
    "a = np.random.randint(0,200, 5)\n",
    "b = np.random.randint(200,400, 29)\n",
    "c = np.random.randint(400,600, 56)\n",
    "d = np.random.randint(600,800, 17)\n",
    "e = np.random.randint(800,1000, 3)\n",
    "\n",
    "scores_df = np.concatenate((a, b, c, d, e), axis = 0)"
   ]
  },
  {
   "cell_type": "code",
   "execution_count": 20,
   "metadata": {},
   "outputs": [
    {
     "data": {
      "text/html": [
       "<div>\n",
       "<style scoped>\n",
       "    .dataframe tbody tr th:only-of-type {\n",
       "        vertical-align: middle;\n",
       "    }\n",
       "\n",
       "    .dataframe tbody tr th {\n",
       "        vertical-align: top;\n",
       "    }\n",
       "\n",
       "    .dataframe thead th {\n",
       "        text-align: right;\n",
       "    }\n",
       "</style>\n",
       "<table border=\"1\" class=\"dataframe\">\n",
       "  <thead>\n",
       "    <tr style=\"text-align: right;\">\n",
       "      <th></th>\n",
       "      <th>Score</th>\n",
       "    </tr>\n",
       "  </thead>\n",
       "  <tbody>\n",
       "    <tr>\n",
       "      <th>0</th>\n",
       "      <td>148</td>\n",
       "    </tr>\n",
       "    <tr>\n",
       "      <th>1</th>\n",
       "      <td>137</td>\n",
       "    </tr>\n",
       "    <tr>\n",
       "      <th>2</th>\n",
       "      <td>2</td>\n",
       "    </tr>\n",
       "    <tr>\n",
       "      <th>3</th>\n",
       "      <td>33</td>\n",
       "    </tr>\n",
       "    <tr>\n",
       "      <th>4</th>\n",
       "      <td>195</td>\n",
       "    </tr>\n",
       "  </tbody>\n",
       "</table>\n",
       "</div>"
      ],
      "text/plain": [
       "   Score\n",
       "0    148\n",
       "1    137\n",
       "2      2\n",
       "3     33\n",
       "4    195"
      ]
     },
     "execution_count": 20,
     "metadata": {},
     "output_type": "execute_result"
    }
   ],
   "source": [
    "scores_df = pd.DataFrame(scores_df, columns=['Score'])\n",
    "scores_df.head()"
   ]
  },
  {
   "cell_type": "markdown",
   "metadata": {},
   "source": [
    "People can score between 0 and 999, and the data is broken into groups. As an example, players scored between 0 and 199 on 5 occasions.\n",
    "\n",
    "The frequency is the number of times a score within each range was achieved.\n",
    "\n",
    "This data looks different from the other types of data we’ve seen so far. I wonder if that means we treat it differently?\n",
    "\n",
    "Look back through the chapter. How do you think this type of data is different? What impact do you think this could have on charts?"
   ]
  },
  {
   "cell_type": "markdown",
   "metadata": {},
   "source": [
    "## Categories vs. numbers\n",
    "When you’re working with charts, one of the key things you need to figure out is what sort of data you’re dealing with. Once you’ve figured that out, you’ll find it easier to make key decisions about what chart you need to best represent your data.\n",
    "\n",
    "### Categorical or qualitative data\n",
    "Most of the data we’ve seen so far is categorical. The data is split into categories that describe qualities or characteristics. For this reason, it’s also called qualitative data. An example of qualitative data is game genre; each genre forms a separate category.\n",
    "\n",
    "The key thing to remember with qualitative data is that the data values can’t be interpreted as numbers.\n",
    "\n",
    "### Numerical or quantitative data\n",
    "Numerical data, on the other hand, deals with numbers. It’s data where the values have meaning as numbers, and that involves measurements or counts. Numerical data is also called quantitative data because it describes quantities.\n",
    "\n",
    "So what impact does this have on the chart for Manic Mango?"
   ]
  },
  {
   "cell_type": "markdown",
   "metadata": {},
   "source": [
    "## Dealing with grouped data\n",
    "The latest set of data from the Manic Mango CEO is numeric and, what’s more, the scores are grouped into intervals. So what’s the best way of charting data like this?\n",
    "\n",
    "That’s easy, don’t we just use a bar chart like we did before? We can treat each group as a separate category.\n",
    "\n",
    "We could, but there’s a better way.\n",
    "\n",
    "Rather than treat each range of scores as a separate category, we can take advantage of the data being numeric, and present the data using a continuous numeric scale instead. This means that instead of using bars to represent a single item, we can use each bar to represent a range of scores.\n",
    "\n",
    "To do this, we can create a histogram. Histograms are like bar charts but with two key differences. \n",
    "\n",
    "The first is that the area of each bar is proportional to the frequency, and the second is that there are no gaps between the bars on the chart."
   ]
  },
  {
   "cell_type": "code",
   "execution_count": 21,
   "metadata": {},
   "outputs": [
    {
     "data": {
      "text/plain": [
       "<matplotlib.axes._subplots.AxesSubplot at 0x295fc78a780>"
      ]
     },
     "execution_count": 21,
     "metadata": {},
     "output_type": "execute_result"
    },
    {
     "data": {
      "image/png": "[encoded data removed]",
      "text/plain": [
       "<Figure size 432x288 with 1 Axes>"
      ]
     },
     "metadata": {
      "needs_background": "light"
     },
     "output_type": "display_data"
    }
   ],
   "source": [
    "scores_df.plot.hist(bins = 5)"
   ]
  },
  {
   "cell_type": "markdown",
   "metadata": {},
   "source": [
    "**Q: So is a histogram basically for grouped numeric data?**\n",
    "\n",
    "A: Yes it is. The advantage of a histogram is that because its numeric, you can use it to show the width of each interval as\n",
    "well as the frequency. \n",
    "\n",
    "**Q: What about if the intervals are different widths? Can you still use a histogram?**\n",
    "\n",
    "A: Absolutely. It’s more common for the interval widths to be equal size, but with a histogram they don’t have to be. There\n",
    "are a couple more steps you need to go through to create a histogram with unequal sized intervals, but we’ll show you that\n",
    "very soon.\n",
    "\n",
    "**Q: Why shouldn’t histograms have gaps between the bars?**\n",
    "\n",
    "A: There are at least two good reasons. The first is to show that there are no gaps in the values, and that every value is\n",
    "covered. The second is so that the width of the interval reflects the range of the values you’re covering. As an example, if we\n",
    "drew the interval 0–199 as extending from value 0 to value 199, the width on the chart would only be 199 – 0 = 199.\n",
    "\n",
    "**Q: So why do we make the bars meet midway betweenthe two?**\n",
    "\n",
    "A: The bars have to meet, and it’s usually at the midway point, but it all comes down to how you round your values. When you round values, you normally round them to the nearest whole number. This means that the range of values from -0.5 to 0.5 all round to 0, and so when we show 0 on a histogram, we show it using the range of values from -0.5 to 0.5.\n",
    "\n",
    "**Q: Are there any exceptions to this?**\n",
    "\n",
    "A: Yes, age is one exception. If you have to represent the age range 18–19 on a histogram, you would normally represent this\n",
    "using an interval that goes from 18 to 20. The reason for this is that we typically classify someone as being 19, for example, up until their 20th birthday. In effect, we round ages down."
   ]
  },
  {
   "cell_type": "markdown",
   "metadata": {},
   "source": [
    "## Summary\n",
    "\n",
    "* The frequency is a statistical way of saying how many items there are in a category.\n",
    "* Pie charts are good for nothing. Bar charts give you more flexibility and precision.\n",
    "* Numerical data deals with numbers and quantities; categorical data deals with words and qualities.\n",
    "* Horizontal bar charts are used for categorical data, particularly where the category names are long.\n",
    "* Vertical bar charts are used for numerical data, or categorical data if the category names are short.\n",
    "* You can show multiple sets of data on a bar chart, and you have a choice of how to do this. You can compare frequencies by showing related bars sideby-side on a split-category bar chart. You can show proportions and total frequencies by stacking the bars on top of each other on a segmented bar chart.\n",
    "* Bar chart scales can show either percentages or frequencies.\n",
    "* Each chart comes in a number of different varieties."
   ]
  },
  {
   "cell_type": "markdown",
   "metadata": {},
   "source": [
    "## Exercise\n",
    "\n",
    "Manic Mango needs another chart\n",
    "\n",
    "The CEO is very pleased with the histogram you’ve created for him—so much so, that he wants you to create another histogram for him. This time, he wants a chart showing for how long Manic Mango players tend to play online games over a 24-hour period. Here’s the data:\n",
    "\n",
    "| Hours | Frequency |\n",
    "|------|------|\n",
    "| 0-1 | 4300 |\n",
    "| 1- 3 | 6900 |\n",
    "| 3 - 5 | 4900 |\n",
    "| 5 - 10 | 2000 |\n",
    "| 10 - 24 | 2100 |\n",
    "\n",
    "For histograms, the frequency is proportional to the area of each bar. How would you use this to create a histogram for this data? What do you need to be aware of?"
   ]
  },
  {
   "cell_type": "markdown",
   "metadata": {},
   "source": [
    "### Solution\n",
    "\n",
    "There’s something funny about that data. It’s grouped like last time, but the intervals aren’t all the same width.\n",
    "\n",
    "If you take a look at the intervals, you can see that they’re different widths. As an example, the 10–24 range covers far more hours than the 0–1 range. If we had access to the raw data, we could look at how we could construct equal width intervals, but unfortunately this is all the data we have.\n",
    "\n",
    "A histogram’s bar area must be proportional to frequency. For histograms, the frequency is represented by bar area"
   ]
  },
  {
   "cell_type": "code",
   "execution_count": 22,
   "metadata": {},
   "outputs": [
    {
     "data": {
      "text/html": [
       "<div>\n",
       "<style scoped>\n",
       "    .dataframe tbody tr th:only-of-type {\n",
       "        vertical-align: middle;\n",
       "    }\n",
       "\n",
       "    .dataframe tbody tr th {\n",
       "        vertical-align: top;\n",
       "    }\n",
       "\n",
       "    .dataframe thead th {\n",
       "        text-align: right;\n",
       "    }\n",
       "</style>\n",
       "<table border=\"1\" class=\"dataframe\">\n",
       "  <thead>\n",
       "    <tr style=\"text-align: right;\">\n",
       "      <th></th>\n",
       "      <th>Hours</th>\n",
       "    </tr>\n",
       "  </thead>\n",
       "  <tbody>\n",
       "    <tr>\n",
       "      <th>0</th>\n",
       "      <td>0.728867</td>\n",
       "    </tr>\n",
       "    <tr>\n",
       "      <th>1</th>\n",
       "      <td>0.507849</td>\n",
       "    </tr>\n",
       "    <tr>\n",
       "      <th>2</th>\n",
       "      <td>0.079122</td>\n",
       "    </tr>\n",
       "    <tr>\n",
       "      <th>3</th>\n",
       "      <td>0.793871</td>\n",
       "    </tr>\n",
       "    <tr>\n",
       "      <th>4</th>\n",
       "      <td>0.928959</td>\n",
       "    </tr>\n",
       "  </tbody>\n",
       "</table>\n",
       "</div>"
      ],
      "text/plain": [
       "      Hours\n",
       "0  0.728867\n",
       "1  0.507849\n",
       "2  0.079122\n",
       "3  0.793871\n",
       "4  0.928959"
      ]
     },
     "execution_count": 22,
     "metadata": {},
     "output_type": "execute_result"
    }
   ],
   "source": [
    "# Solution\n",
    "a = np.random.uniform(0,1, 4300)\n",
    "b = np.random.uniform(1,3, 6900)\n",
    "c = np.random.uniform(3,5, 4900)\n",
    "d = np.random.uniform(5,10, 2000)\n",
    "e = np.random.uniform(10,24, 2100)\n",
    "\n",
    "hours_df = np.concatenate((a, b, c, d, e), axis = 0)\n",
    "hours_df = pd.DataFrame(hours_df, columns=['Hours'])\n",
    "hours_df.head()"
   ]
  },
  {
   "cell_type": "code",
   "execution_count": 23,
   "metadata": {},
   "outputs": [
    {
     "data": {
      "text/plain": [
       "<matplotlib.axes._subplots.AxesSubplot at 0x295fc7c6048>"
      ]
     },
     "execution_count": 23,
     "metadata": {},
     "output_type": "execute_result"
    },
    {
     "data": {
      "image/png": "[encoded data removed]",
      "text/plain": [
       "<Figure size 432x288 with 1 Axes>"
      ]
     },
     "metadata": {
      "needs_background": "light"
     },
     "output_type": "display_data"
    }
   ],
   "source": [
    "hours_df.plot.hist(bins = 5)"
   ]
  },
  {
   "cell_type": "markdown",
   "metadata": {},
   "source": [
    "## Frequency Density\n",
    "\n",
    "Frequency density refers to the concentration of values in data. It’s related to frequency, but it’s not the same thing. Here’s an analogy to demonstrate the relationship between the two.\n",
    "\n",
    "Imagine you have a quantity of juice that you’ve poured into a glass.\n",
    "\n",
    "Here’s all your juice in the glass. It comes up to this level. What if you then pour the same quantity of juice into a different sized glass, say one that’s wider? What happens to the level of the juice? This time the glass is wider, so the level\n",
    "the juice comes up to is lower.\n",
    "\n",
    "The level of the juice varies in line with the width of the glass; the wider the glass, the lower the level. The converse is\n",
    "true too; the narrower the glass, the higher the level of juice.\n",
    "\n",
    "The glass is wider, so the level isn’t as high.\n",
    "\n",
    "Juice = Frequency\n",
    "\n",
    "Imagine that instead of pouring juice into glasses, you’re “pouring” frequency into the bars on your chart. Just as you know the width of the glass, you know what width your bars are. And just like the space the juice occupies in the glass (width x height) tells you the quantity of juice in the glass, the area of the bar on the graph is equivalent to its frequency.\n",
    "The frequency density is then equal to the height of the bar. Keeping with our analogy, it’s equivalent to the level your juice comes to in each glass. Just as a wider glass means the juice comes to a lower level, a wider bar means a lower frequency density."
   ]
  },
  {
   "cell_type": "markdown",
   "metadata": {},
   "source": [
    "## Summary\n",
    "\n",
    "* Frequency density relates to how concentrated the frequencies are for grouped data. It’s calculated using $\\text{Frequency density} = \\frac{Frequency}{Group width}$\n",
    "\n",
    "* A histogram is a chart that specializes in grouped data. It looks like a bar chart, but the height of each bar equates to frequency density rather than frequency.\n",
    "\n",
    "* When drawing histograms, the width of each bar is proportional to the width of its group. The bars are shown on a continuous numeric scale. In a histogram, the frequency of a group is given by the area of its bar. A histogram has no gaps between its bars."
   ]
  },
  {
   "cell_type": "markdown",
   "metadata": {},
   "source": [
    "## Questions\n",
    "\n",
    "**Q: Why do we use area to represent frequency when we’re graphing histograms?**\n",
    "\n",
    "A: It’s a way of making sure the relative sizes of each group stay in proportion to the data, and stay honest. With grouped\n",
    "data, we need a visual way of expressing the width of each group and also its frequency. Changing the width of the bars is\n",
    "an intuitive way of reflecting the group range, but it has the side effect of making some of the bar sizes look disproportionate.\n",
    "\n",
    "Adjusting the bar height and using the area to represent frequency is a way around this. This way, no group is misrepresented by taking up too much or too little space.\n",
    "\n",
    "**Q: What’s frequency density again?**\n",
    "A: Frequency density is a way of indicating how concentrated values are in a particular interval. It gives you a way of comparing different intervals that may be different widths.\n",
    "\n",
    "It makes the frequency proportional to the area of a bar, rather than height. To find the frequency density, take the frequency of an interval, and divide it by the width.\n",
    "\n",
    "**Q: If I have grouped numeric data, but all the intervals are the same width, can I use a normal bar chart?**\n",
    "A: Using a histogram will better represent your data, as you’re still dealing with grouped data. You really want your frequency to be proportional to its area, not height.\n",
    "\n",
    "**Q: Do histograms have to show grouped data? Can you use them for individual numbers as well as groups of numbers?**\n",
    "A: Yes, you can. The key thing to remember is to make sure there are no gaps between the bars and that you make each bar 1 wide. Normally you do this by positioning your number in the center of the bar.\n",
    "\n",
    "As an example, if you wanted to draw a bar representing the individual number 1, then you’d draw a bar ranging from 0.5 to\n",
    "1.5, with 1 in the center."
   ]
  },
  {
   "cell_type": "markdown",
   "metadata": {},
   "source": [
    "## Histograms can’t do everything\n",
    "\n",
    "While histograms are an excellent way to display grouped numeric data, there are still some kinds of this data they’re not ideally suited for presenting—like running totals...\n",
    "\n",
    "CEO : I’d really like to be able to see at a glance how many people play for less than a certain number of hours. Like, instead of seeing how many people play for between 3 and 5 hours, could we have a graph that shows how many people play for up to 5 hours?\n",
    "\n",
    "Let’s see if we can help the CEO out. Here’s the histogram we had before."
   ]
  },
  {
   "cell_type": "code",
   "execution_count": 24,
   "metadata": {},
   "outputs": [
    {
     "data": {
      "text/plain": [
       "<matplotlib.axes._subplots.AxesSubplot at 0x295fc64f7f0>"
      ]
     },
     "execution_count": 24,
     "metadata": {},
     "output_type": "execute_result"
    },
    {
     "data": {
      "image/png": "[encoded data removed]",
      "text/plain": [
       "<Figure size 432x288 with 1 Axes>"
      ]
     },
     "metadata": {
      "needs_background": "light"
     },
     "output_type": "display_data"
    }
   ],
   "source": [
    "hours_df.plot.hist(bins = 5)"
   ]
  },
  {
   "cell_type": "markdown",
   "metadata": {},
   "source": [
    "The histogram tells us the frequency density of particular groups. It’s not so hot at giving us information about how many players play for less than a certain amount of hours.\n",
    "\n",
    "It’s tricky to see at a glance what the running totals are in this chart. In order to find the frequency of players playing for up to 5 hours, we need to add different frequencies together. We need another sort of chart...but what?\n",
    "\n",
    "What sort of information do you think we should show on the chart? What sort of information should we plot? Write your answer below.\n",
    "\n",
    "### Introducing cumulative frequency\n",
    "\n",
    "The CEO needs some sort of chart that will show him the total frequency below a particular value: the cumulative frequency. By cumulative frequency, we basically mean a running total. What we need to come up with is some sort of graph that shows hours on the horizontal axis and cumulative frequency on the vertical axis. That way, the CEO will be able to take a value and read off the corresponding frequency up to that point. He’ll be able to find out how many people play for up to 5 hours, 6 hours, or whatever other number of hours he’s most interested in at the time.\n",
    "\n",
    "Before we can draw the chart, we need to know what exactly we need to plot on the chart. We need to calculate cumulative frequencies for each of the intervals that we have, and also work out the upper limit of each interval.\n",
    "\n",
    "Let’s start by looking at the data.\n",
    "\n",
    "| Hours | Frequency |\n",
    "|------|------|\n",
    "| 0-1 | 4300 |\n",
    "| 1- 3 | 6900 |\n",
    "| 3 - 5 | 4900 |\n",
    "| 5 - 10 | 2000 |\n",
    "| 10 - 24 | 2100 |\n",
    "\n",
    "Cumulative Frequency: The total frequency up to certain value. It’s basically a running total of the frequencies.\n",
    "\n",
    "So what are the cumulative frequencies?\n",
    "\n",
    "First off, let’s suppose the CEO needs to plot the cumulative frequency, or total frequency, of up to 1 hour. If we look at the data, we know that the frequency of the 0–1 group is 4300, and we can see that is the upper limit of the group. This means that the cumulative frequency of hours up to 1 is 4300.\n",
    "\n",
    "Next, let’s look at the total frequency up to 3. We know what the frequencies are for the 0–1 and 1–3 groups, and 3 is again the upper limit. To find the total frequency of hours up to 3, we add together the frequency of the 0–1 group and the 1–3 group.\n",
    "\n",
    "Can you see a pattern? If we take the upper limit of each of the groups of hours, we can find the total frequency of hours up to that value by adding together the frequencies. Applying this to all the groups gives us\n",
    "\n",
    "| Hours | Frequency | Upper Limit | Cumulative Frequency |\n",
    "|------|------|------|------|\n",
    "| 0 | 0 | 0 | 0 |\n",
    "| 0 - 1 | 4300 | 1 | 4,300 |\n",
    "| 1- 3 | 6900 | 2 | 4,300+6,900 = 11,200 |\n",
    "| 3 - 5 | 4900 | 5 | 4,300+6,900+4,900 = 16,100 |\n",
    "| 5 - 10 | 2000 | 10 | 4,300+6,900+4,900+2,000 = 18,100 |\n",
    "| 10 - 24 | 2100 | 24 | 4,300+6,900+4,900+2,000+2,100 = 20,200 |\n",
    "\n",
    "### Drawing the cumulative frequency graph\n",
    "Now that we have the upper limits and cumulative frequencies, we can plot them on a chart. Draw two axes, with the vertical one for the cumulative frequency and the horizontal one for the hours. Once you’ve done that, plot each of the upper limits against its cumulative frequency, and then join the points together with a line like this:"
   ]
  },
  {
   "cell_type": "code",
   "execution_count": 25,
   "metadata": {},
   "outputs": [],
   "source": [
    "hours_df['Cumulative Frequency'] = hours_df['Hours'].cumsum()"
   ]
  },
  {
   "cell_type": "code",
   "execution_count": 26,
   "metadata": {},
   "outputs": [
    {
     "data": {
      "text/html": [
       "<div>\n",
       "<style scoped>\n",
       "    .dataframe tbody tr th:only-of-type {\n",
       "        vertical-align: middle;\n",
       "    }\n",
       "\n",
       "    .dataframe tbody tr th {\n",
       "        vertical-align: top;\n",
       "    }\n",
       "\n",
       "    .dataframe thead th {\n",
       "        text-align: right;\n",
       "    }\n",
       "</style>\n",
       "<table border=\"1\" class=\"dataframe\">\n",
       "  <thead>\n",
       "    <tr style=\"text-align: right;\">\n",
       "      <th></th>\n",
       "      <th>Hours</th>\n",
       "      <th>Cumulative Frequency</th>\n",
       "    </tr>\n",
       "  </thead>\n",
       "  <tbody>\n",
       "    <tr>\n",
       "      <th>0</th>\n",
       "      <td>0.728867</td>\n",
       "      <td>0.728867</td>\n",
       "    </tr>\n",
       "    <tr>\n",
       "      <th>1</th>\n",
       "      <td>0.507849</td>\n",
       "      <td>1.236716</td>\n",
       "    </tr>\n",
       "    <tr>\n",
       "      <th>2</th>\n",
       "      <td>0.079122</td>\n",
       "      <td>1.315839</td>\n",
       "    </tr>\n",
       "    <tr>\n",
       "      <th>3</th>\n",
       "      <td>0.793871</td>\n",
       "      <td>2.109709</td>\n",
       "    </tr>\n",
       "    <tr>\n",
       "      <th>4</th>\n",
       "      <td>0.928959</td>\n",
       "      <td>3.038669</td>\n",
       "    </tr>\n",
       "  </tbody>\n",
       "</table>\n",
       "</div>"
      ],
      "text/plain": [
       "      Hours  Cumulative Frequency\n",
       "0  0.728867              0.728867\n",
       "1  0.507849              1.236716\n",
       "2  0.079122              1.315839\n",
       "3  0.793871              2.109709\n",
       "4  0.928959              3.038669"
      ]
     },
     "execution_count": 26,
     "metadata": {},
     "output_type": "execute_result"
    }
   ],
   "source": [
    "hours_df.head()"
   ]
  },
  {
   "cell_type": "code",
   "execution_count": 27,
   "metadata": {},
   "outputs": [
    {
     "data": {
      "text/plain": [
       "<matplotlib.axes._subplots.AxesSubplot at 0x295fc5a6518>"
      ]
     },
     "execution_count": 27,
     "metadata": {},
     "output_type": "execute_result"
    },
    {
     "data": {
      "image/png": "[encoded data removed]",
      "text/plain": [
       "<Figure size 432x288 with 1 Axes>"
      ]
     },
     "metadata": {
      "needs_background": "light"
     },
     "output_type": "display_data"
    }
   ],
   "source": [
    "hours_df['Cumulative Frequency'].plot()"
   ]
  },
  {
   "cell_type": "code",
   "execution_count": 32,
   "metadata": {},
   "outputs": [
    {
     "data": {
      "text/plain": [
       "<matplotlib.axes._subplots.AxesSubplot at 0x295fdc03d30>"
      ]
     },
     "execution_count": 32,
     "metadata": {},
     "output_type": "execute_result"
    },
    {
     "data": {
      "image/png": "[encoded data removed]",
      "text/plain": [
       "<Figure size 432x288 with 1 Axes>"
      ]
     },
     "metadata": {
      "needs_background": "light"
     },
     "output_type": "display_data"
    }
   ],
   "source": [
    "sns.lineplot(x=\"Cumulative Frequency\", y=hours_df.index, data=hours_df, markers=True, color='r', lw=2)"
   ]
  },
  {
   "cell_type": "markdown",
   "metadata": {},
   "source": [
    "Cumulative frequencies can never decrease.\n",
    "\n",
    "If your cumulative frequency decreases at any point, check your calculations.\n",
    "\n",
    "### Questions\n",
    "\n",
    "**Q: What’s a cumulative frequency?**\n",
    "\n",
    "A: The cumulative frequency of a value is the sum of the frequencies up to and including that value. It tells you the total frequency up to that point.\n",
    "\n",
    "As an example, suppose you have data telling you how old people are. The cumulative frequency for value 27 tells you how many people there are up to and including age 27.\n",
    "\n",
    "**Q: Are cumulative frequency graphs just for grouped data?**\n",
    "A: Not at all; you can use them for any sort of numeric data. The key thing is whether you want to know the total frequency up to a particular value, or whether you’re more interested in the frequencies of particular values instead.\n",
    "\n",
    "**Q: On some charts you can show more than one set of data on the same chart. What about for cumulative frequency graphs?**\n",
    "A: You can do this for cumulative frequency graphs by drawing a separate line for each set of data. If, say, you wanted to compare the cumulative frequencies by gender, you could draw one line showing males and the other females. It would be far more effective to show both lines on one chart, as it makes it easier to compare the two sets of data.\n",
    "\n",
    "**Q: Is there a limit to how many lines you can show on one chart?**\n",
    "A: There’s no specific limit, as it all depends on your data. Don’t have so many lines that the graph becomes cluttered and you can no longer use it to read off cumulative frequencies and compare sets of data.\n",
    "\n",
    "**Q: Remind me, how do I find the cumulative frequency of a value?**\n",
    "\n",
    "A: You can find the cumulative frequency by reading it straight off the graph. You locate the value you want to find the cumulative frequency for on the horizontal axis, find where this meets the cumulative frequency curve, and then read the value of cumulative frequency off the vertical axis.\n",
    "\n",
    "**Q: If I already know the cumulative frequency, can I use the graph to find the corresponding value?**\n",
    "A: Yes you can. Look for the cumulative frequency on the vertical axis, find where it meets the cumulative frequency curve, and\n",
    "then read off the value."
   ]
  },
  {
   "cell_type": "markdown",
   "metadata": {},
   "source": [
    "## Line Charts\n",
    "\n",
    "Line charts are good at showing trends in your data. For each set of data, you plot your points and then join them together with lines. You can easily show multiple sets of data on the same chart without it getting too cluttered. Just make sure it’s clear which line is which.\n",
    "\n",
    "As with other sorts of charts, you have a choice of showing frequency or percentages on the vertical axis. The scale you use all depends on what key facts you want to draw out. \n",
    "\n",
    "Line charts are often used to show time measurements. Time always goes on the horizontal axis, and frequency on the vertical. You can read off the frequency for any period of time by choosing the time value on the horizontal axis, and reading off the\n",
    "corresponding frequency for that point on the line.\n",
    "\n",
    "Line charts should be used for numerical data only, and not categorical. This is because it makes sense to compare different categories, but not to draw a trend line. Only use a line chart if you’re comparing categories over some numerical unit such as time, and in that case you’d use a separate line for each category."
   ]
  },
  {
   "cell_type": "markdown",
   "metadata": {},
   "source": [
    "## Summary\n",
    "\n",
    "* Cumulative frequency is the total frequency up to a particular value. It’s a running total of the frequencies.\n",
    "* Use a cumulative frequency graph to plot the upper limit of each group of data against cumulative frequency.\n",
    "* Use a line chart if you want to show trends, for example over time.\n",
    "* You can show more than one set of data on a line chart.\n",
    "* Use one line for each set of data, and make sure it’s clear which line is which.\n",
    "* You can use line charts to make basic predictions as it’s easy to see the shape of the trend. Just extend the trend line, trying to keep the same basic shape.\n",
    "* Don’t use line charts to show categorical data unless you’re showing trends for each category, for example over time. If you do this, draw one line per category."
   ]
  },
  {
   "cell_type": "markdown",
   "metadata": {},
   "source": [
    "## Questions\n",
    "\n",
    "**Q: Are line charts the same thing as time series charts? I think I’ve heard that name used before.**\n",
    "\n",
    "A: A time series chart is really a line chart that focuses on time intervals, just like the examples we used. A line chart doesn’t have to focus on just time, though.\n",
    "\n",
    "**Q: Are there any special varieties of line charts?**\n",
    "\n",
    "A: Yes. In fact, you’ve encountered one of them already. The cumulative frequency graph is a type of line chart that shows the\n",
    "total frequency up to a certain value.\n",
    "\n",
    "**Q: Can line charts show categorical data as well as data that’s numeric?**\n",
    "\n",
    "A: Line charts should only be used to show categorical data if you’re showing trends for each category, and use a separate line for each category. What you shouldn’t do is use a line chart to draw lines from category to category.\n",
    "\n",
    "**Q: So line charts are better for showing overarching trends, and bar charts are better for comparing values or categories?**\n",
    "\n",
    "A: That’s right. Which chart you use really comes down to what message you want to put across, and what key facts you want to\n",
    "minimize.\n",
    "\n",
    "**Q: Now that I know how to create charts properly, can I use charting software to do the heavy lifting?**\n",
    "\n",
    "A: Absolutely! Charting software can save you a lot of time and hard work, and the results can be excellent. The key thing with using software to produce your charts is to remember that the software can’t think for you. You still have to decide which chart best represents your key facts, and you have to check that the software produces exactly what you expect it to."
   ]
  },
  {
   "cell_type": "code",
   "execution_count": null,
   "metadata": {},
   "outputs": [],
   "source": []
  }
 ],
 "metadata": {
  "kernelspec": {
   "display_name": "Python 3",
   "language": "python",
   "name": "python3"
  },
  "language_info": {
   "codemirror_mode": {
    "name": "ipython",
    "version": 3
   },
   "file_extension": ".py",
   "mimetype": "text/x-python",
   "name": "python",
   "nbconvert_exporter": "python",
   "pygments_lexer": "ipython3",
   "version": "3.7.3"
  }
 },
 "nbformat": 4,
 "nbformat_minor": 2
}
