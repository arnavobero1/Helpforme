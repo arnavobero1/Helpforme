{
 "cells": [
  {
   "cell_type": "markdown",
   "metadata": {},
   "source": [
    "## Import Libraries"
   ]
  },
  {
   "cell_type": "code",
   "execution_count": 1,
   "metadata": {},
   "outputs": [],
   "source": [
    "from scipy import stats"
   ]
  },
  {
   "cell_type": "code",
   "execution_count": 5,
   "metadata": {
    "scrolled": true
   },
   "outputs": [
    {
     "data": {
      "image/svg+xml": [
       "<svg height=\"328.5\" style=\"font-family:Verdana; font-size:14.7px; stroke-width:0.92;\" version=\"1.1\" width=\"650\" xmlns=\"http://www.w3.org/2000/svg\">\n",
       "<defs>\n",
       "\t<marker id=\"aa1\" orient=\"auto\" style=\"overflow:visible;\">\n",
       "\t\t<path d=\"M 0,0 5,-5 -12.5,0 5,5 Z\" style=\"stroke:black; stroke-width:1pt;\" transform=\"matrix(-0.4,0,0,-0.4,-4,0)\"/>\n",
       "\t</marker>\n",
       "</defs>\n",
       "<path d=\"M 359.6,0 V 238.4\" style=\"fill:none; stroke:black; stroke-width:1px;\"/>\n",
       "<g transform=\"matrix(0.921168,0,0,0.921168,-29.0884,-969.531)\"/>\n",
       "<path d=\"m 289.6,99.7 c -6.2,11.8 -12.4,23.5 -19,35 -6.3,11.2 -13.2,22.1 -20.5,32.6 -7.1,10.2 -15.3,20.2 -24.6,28.4 -1.1,1 -2.2,1.9 -3.4,2.9 v 29.2 h 68.7 V 97.2 c -0.4,0.8 -0.9,1.7 -1.3,2.5 z\" style=\"fill:#0084c8;\"/>\n",
       "<path d=\"m 193.9,216.1 c -11.7,4.8 -24,7.4 -36.5,8.9 -1.3,0.2 -2.7,0.3 -4,0.5 v 2.3 h 68.7 v -29.2 c -8.6,7.2 -17.9,13.3 -28.2,17.4 z\" style=\"fill:#0084c8;\"/>\n",
       "<path d=\"m 121.9,227.3 c -12.4,0.3 -24.8,0.4 -37.2,0.5 h 68.8 v -2.3 c -10.5,1.1 -21,1.5 -31.5,1.8 z\" style=\"fill:#0084c8;\"/>\n",
       "<path d=\"m 359.1,12.5 c -6.1,0.5 -12,2.8 -16.9,6.8 -5,4.1 -9.5,8.7 -13.5,13.9 -7.8,9.9 -14.5,21 -20.7,32.1 -5.9,10.6 -11.5,21.2 -17.2,31.9 V 227.8 h 68.7 V 12.5 c -0.2,0 -0.4,0 -0.6,0 z\" style=\"fill:#0084c8;\"/>\n",
       "<path d=\"m 410.8,64.5 c -6.4,-11.2 -13,-22.6 -21.2,-32.5 -4,-4.8 -8.2,-9.8 -13.4,-13.3 -4.8,-3.3 -10.5,-6.4 -16.5,-6.2 V 227.8 h 68.7 V 97.2 C 422.6,86.3 416.9,75.3 410.8,64.5 Z\" style=\"fill:#0084c8;\"/>\n",
       "<path d=\"m 559.4,224.7 c -11.9,-1.5 -24.1,-4.2 -35.1,-9.1 -9.8,-4.3 -18.9,-9.9 -27.1,-16.9 v 29.1 h 68.8 v -2.4 c -2.2,-0.2 -4.3,-0.4 -6.5,-0.7 z\" style=\"fill:#0084c8;\"/>\n",
       "<path d=\"m 492.9,194.9 c -9.5,-8.9 -17.7,-19 -25.2,-29.7 -7.3,-10.4 -13.9,-21.4 -20.2,-32.6 -6.5,-11.5 -12.7,-23.2 -18.8,-34.9 0,-0.2 -0.2,-0.3 -0.2,-0.4 V 227.8 H 497.1 V 198.7 c -1.4,-1.2 -2.9,-2.5 -4.3,-3.8 z\" style=\"fill:#0084c8;\"/>\n",
       "<path d=\"m 632.8,227.8 c -12.2,0 -24.4,-0.2 -36.5,-0.5 -10.2,-0.3 -20.3,-0.8 -30.3,-1.9 v 2.4 h 68.7 c -0.6,0 -1.2,0 -1.9,0 z\" style=\"fill:#0084c8;\"/>\n",
       "<path d=\"m 84.7,227.8 c 12.4,0 24.8,-0.2 37.2,-0.5 11.8,-0.3 23.8,-0.8 35.5,-2.3 12.5,-1.6 24.7,-4.2 36.5,-8.9 11.7,-4.7 22.1,-11.9 31.6,-20.3 9.3,-8.2 17.4,-18.2 24.6,-28.4 7.4,-10.5 14.2,-21.4 20.5,-32.6 6.5,-11.6 12.8,-23.3 19,-35 6.1,-11.5 12.2,-23 18.5,-34.4 6.2,-11.1 12.8,-22.2 20.7,-32.1 4,-5.2 8.5,-9.8 13.5,-13.9 4.9,-4 10.7,-6.3 16.9,-6.8 6.2,-0.5 12.1,2.7 17.1,6.1 5.1,3.5 9.4,8.5 13.4,13.3 8.2,10 14.8,21.3 21.2,32.5 6.2,10.9 12,22.1 17.9,33.1 6.2,11.7 12.3,23.4 18.8,34.9 6.3,11.2 12.9,22.2 20.2,32.6 7.5,10.7 15.8,20.8 25.2,29.7 9.3,8.8 19.9,15.6 31.4,20.7 11.1,4.9 23.2,7.6 35.1,9.1 12.2,1.5 24.5,2.2 36.8,2.6 12.2,0.4 24.4,0.4 36.5,0.5 0.6,0 1.2,0 1.9,0\" style=\"fill:none; stroke:black; stroke-width:0.69; stroke-linecap:round; stroke-linejoin:round;\"/>\n",
       "<text x=\"212.1\" y=\"251\">−2</text>\n",
       "<text x=\"281.5\" y=\"251\">−1</text>\n",
       "<text x=\"423.2\" y=\"251\">1</text>\n",
       "<text x=\"139.8\" y=\"250.9\">−3</text>\n",
       "<text x=\"561.5\" y=\"250.9\">3</text>\n",
       "<text x=\"493.2\" y=\"251\">2</text>\n",
       "<text style=\"font-size:12px; fill:#ff9900;\" x=\"157.9\" y=\"201.6\">0.5%</text>\n",
       "<text style=\"font-size:12px; fill:#ff9900;\" x=\"113.4\" y=\"222.1\">0.1%</text>\n",
       "<path d=\"m 167.7,204.7 12.1,18.5\" style=\"marker-end:url(#aa1); fill:none; stroke:black; stroke-width:0.92px;\"/>\n",
       "<text x=\"238.3\" y=\"250.9\">−1.5</text>\n",
       "<text x=\"306.8\" y=\"250.9\">−0.5</text>\n",
       "<text x=\"452.1\" y=\"250.9\">1.5</text>\n",
       "<text x=\"169.8\" y=\"250.9\">−2.5</text>\n",
       "<text x=\"382.3\" y=\"250.9\">0.5</text>\n",
       "<text x=\"521.2\" y=\"250.9\">2.5</text>\n",
       "<text style=\"font-size:11.3px; fill:#ccff42;\" x=\"259.3\" y=\"193.7\">9.2%</text>\n",
       "<text style=\"font-size:11.3px; fill:#ccff42;\" x=\"224.1\" y=\"212.7\">4.4%</text>\n",
       "<text style=\"font-size:12px; fill:#ccff42;\" x=\"192.2\" y=\"224.8\">1.7%</text>\n",
       "<text style=\"font-size:11.3px; fill:#ccff42;\" x=\"430.6\" y=\"193.7\">9.2%</text>\n",
       "<text style=\"font-size:11.3px; fill:#ccff42;\" x=\"465.5\" y=\"213.6\">4.4%</text>\n",
       "<text style=\"font-size:11.3px; fill:#ccff42;\" x=\"499.2\" y=\"224.8\">1.7%</text>\n",
       "<text style=\"font-size:12px; fill:#ff9900;\" x=\"547.2\" y=\"204.8\">0.5%</text>\n",
       "<text style=\"font-size:12px; fill:#ff9900;\" x=\"583.2\" y=\"222.2\">0.1%</text>\n",
       "<path d=\"m 558.6,208.5 -14.8,16.3\" style=\"marker-end:url(#aa1); fill:none; stroke:black; stroke-width:0.92px;\"/>\n",
       "<text x=\"355.6\" y=\"250.9\">0</text>\n",
       "<rect height=\"500.8\" style=\"stroke-width:1;\" width=\"803.5\" x=\"1657.7\" y=\"675.1\"/>\n",
       "<text style=\"font-size:12.9px; fill:#ff9900;\" x=\"208.2\" y=\"291.5\">2.3%</text>\n",
       "<text style=\"font-size:12.9px; fill:#ff9900;\" x=\"274.2\" y=\"291.5\">15.9%</text>\n",
       "<text style=\"font-size:12.9px; fill:#ff9900;\" x=\"410.3\" y=\"291.5\">84.1%</text>\n",
       "<text style=\"font-size:12.9px; fill:#ff9900;\" x=\"139.8\" y=\"291.4\">0.1%</text>\n",
       "<text style=\"font-size:12.9px; fill:#ff9900;\" x=\"548.7\" y=\"291.4\">99.9%</text>\n",
       "<text style=\"font-size:12.9px; fill:#ff9900;\" x=\"479.7\" y=\"291.5\">97.7%</text>\n",
       "<text style=\"font-size:12.9px; fill:#ff9900;\" x=\"347.3\" y=\"291.4\">50%</text>\n",
       "<g transform=\"translate(49.2648,-953.971)\"/>\n",
       "<text style=\"font-size:12px; color:black; overflow:visible; fill:#ff9900; stroke-width:0.92px;\" x=\"191.2\" y=\"328.3\">1%</text>\n",
       "<text style=\"font-size:12px; color:black; overflow:visible; fill:#ff9900; stroke-width:0.92px;\" x=\"237.5\" y=\"328.3\">5%</text>\n",
       "<text style=\"font-size:12px; color:black; overflow:visible; fill:#ff9900; stroke-width:0.92px;\" x=\"262.9\" y=\"328.3\">10%</text>\n",
       "<text style=\"font-size:12px; color:black; overflow:visible; fill:#ff9900; stroke-width:0.92px;\" x=\"296.5\" y=\"328.3\">20</text>\n",
       "<text style=\"font-size:12px; color:black; overflow:visible; fill:#ff9900; stroke-width:0.92px;\" x=\"316\" y=\"328.3\">30</text>\n",
       "<text style=\"font-size:12px; color:black; overflow:visible; fill:#ff9900; stroke-width:0.92px;\" x=\"335\" y=\"328.3\">40</text>\n",
       "<text style=\"font-size:12px; color:black; overflow:visible; fill:#ff9900; stroke-width:0.92px;\" x=\"353.5\" y=\"328.3\">50</text>\n",
       "<text style=\"font-size:12px; color:black; overflow:visible; fill:#ff9900; stroke-width:0.92px;\" x=\"372.3\" y=\"328.3\">60</text>\n",
       "<text style=\"font-size:12px; color:black; overflow:visible; fill:#ff9900; stroke-width:0.92px;\" x=\"390.4\" y=\"328.3\">70</text>\n",
       "<text style=\"font-size:12px; color:black; overflow:visible; fill:#ff9900; stroke-width:0.92px;\" x=\"410.3\" y=\"328.3\">80</text>\n",
       "<text style=\"font-size:12px; color:black; overflow:visible; fill:#ff9900; stroke-width:0.92px;\" x=\"429.7\" y=\"328.3\">90%</text>\n",
       "<text style=\"font-size:12px; color:black; overflow:visible; fill:#ff9900; stroke-width:0.92px;\" x=\"458.4\" y=\"328.3\">95%</text>\n",
       "<text style=\"font-size:12px; color:black; overflow:visible; fill:#ff9900; stroke-width:0.92px;\" x=\"507.3\" y=\"328.3\">99%</text>\n",
       "<text x=\"70.7\" y=\"250.9\">−4</text>\n",
       "<text x=\"100.6\" y=\"250.9\">−3.5</text>\n",
       "<text x=\"630.6\" y=\"250.9\">4</text>\n",
       "<text x=\"590.3\" y=\"250.9\">3.5</text>\n",
       "<text style=\"text-align:end; text-anchor:end; font-size:13.5px; color:black; overflow:visible; fill:#ff9900;\" x=\"75.9\" y=\"302.5\">Cumulative</text>\n",
       "<text style=\"text-align:end; text-anchor:end; color:black; overflow:visible; fill:#0e232e;\" x=\"61.1\" y=\"249.9\">Z-Score</text>\n",
       "<text style=\"font-size:12.9px;\" x=\"212.1\" y=\"269.4\">−2σ</text>\n",
       "<text style=\"font-size:12.9px;\" x=\"283.4\" y=\"269.4\">−1σ</text>\n",
       "<text style=\"font-size:12.9px;\" x=\"415.9\" y=\"269.4\">+1σ</text>\n",
       "<text style=\"font-size:12.9px;\" x=\"139.8\" y=\"269.3\">−3σ</text>\n",
       "<text style=\"font-size:12.9px;\" x=\"554.2\" y=\"269.3\">+3σ</text>\n",
       "<text style=\"font-size:12.9px;\" x=\"485.8\" y=\"269.4\">+2σ</text>\n",
       "<text style=\"font-size:12.9px;\" x=\"355.6\" y=\"269.3\">0</text>\n",
       "<text style=\"font-size:12.9px;\" x=\"70.7\" y=\"269.3\">−4σ</text>\n",
       "<text style=\"font-size:12.9px;\" x=\"623.1\" y=\"269.3\">+4σ</text>\n",
       "<text style=\"text-align:end; text-anchor:end; font-size:11.7px; color:black; overflow:visible; fill:#0e232e;\" x=\"60\" y=\"264.7\">Standard</text>\n",
       "<text style=\"font-family:Georgia; text-align:center; text-anchor:middle; font-size:18.7px; font-style:italic; color:black; overflow:visible; fill:#005c94; stroke-width:0.92px;\" x=\"171.2\" y=\"73.7\">Standard Normal</text>\n",
       "<text style=\"font-family:Georgia; font-size:29px; font-style:italic; color:black; overflow:visible; fill:#005c94; stroke-width:1.09px;\" x=\"89.5\" y=\"50\">&quot;Bell Curve&quot;</text>\n",
       "<path d=\"m 153.9,293.8 v 10.2\" style=\"fill:none; stroke:#ff9900; stroke-width:1px;\"/>\n",
       "<path d=\"m 222.6,293.8 v 10.2\" style=\"fill:none; stroke:#ff9900; stroke-width:1px;\"/>\n",
       "<path d=\"m 291.3,293.8 v 10.2\" style=\"fill:none; stroke:#ff9900; stroke-width:1px;\"/>\n",
       "<path d=\"m 360.1,293.8 v 10.2\" style=\"fill:none; stroke:#ff9900; stroke-width:1px;\"/>\n",
       "<path d=\"m 428.8,293.8 v 10.2\" style=\"fill:none; stroke:#ff9900; stroke-width:1px;\"/>\n",
       "<path d=\"m 497.6,293.8 v 10.2\" style=\"fill:none; stroke:#ff9900; stroke-width:1px;\"/>\n",
       "<path d=\"m 566.3,293.8 v 10.2\" style=\"fill:none; stroke:#ff9900; stroke-width:1px;\"/>\n",
       "<path d=\"M 199.6,304.8 V 315\" style=\"fill:none; stroke:#ff9900; stroke-width:1px;\"/>\n",
       "<path d=\"M 246.1,304.8 V 315\" style=\"fill:none; stroke:#ff9900; stroke-width:1px;\"/>\n",
       "<path d=\"M 275.1,304.8 V 315\" style=\"fill:none; stroke:#ff9900; stroke-width:1px;\"/>\n",
       "<path d=\"M 303.4,304.8 V 315\" style=\"fill:none; stroke:#ff9900; stroke-width:1px;\"/>\n",
       "<path d=\"M 322.6,304.8 V 315\" style=\"fill:none; stroke:#ff9900; stroke-width:1px;\"/>\n",
       "<path d=\"M 341.6,304.8 V 315\" style=\"fill:none; stroke:#ff9900; stroke-width:1px;\"/>\n",
       "<path d=\"M 360.1,304.8 V 315\" style=\"fill:none; stroke:#ff9900; stroke-width:1px;\"/>\n",
       "<path d=\"M 379,304.8 V 315\" style=\"fill:none; stroke:#ff9900; stroke-width:1px;\"/>\n",
       "<path d=\"M 397.2,304.8 V 315\" style=\"fill:none; stroke:#ff9900; stroke-width:1px;\"/>\n",
       "<path d=\"M 416.9,304.8 V 315\" style=\"fill:none; stroke:#ff9900; stroke-width:1px;\"/>\n",
       "<path d=\"M 443.6,304.8 V 315\" style=\"fill:none; stroke:#ff9900; stroke-width:1px;\"/>\n",
       "<path d=\"M 468.4,304.8 V 315\" style=\"fill:none; stroke:#ff9900; stroke-width:1px;\"/>\n",
       "<path d=\"M 514.6,304.8 V 315\" style=\"fill:none; stroke:#ff9900; stroke-width:1px;\"/>\n",
       "<path d=\"M 81.5,304.7 H 637.2\" style=\"fill:none; stroke:#ff9900; stroke-width:1px;\"/>\n",
       "<text style=\"font-family:Georgia; text-align:center; text-anchor:middle; font-size:18.7px; font-style:italic; color:black; overflow:visible; fill:#005c94; stroke-width:0.92px;\" x=\"170.7\" y=\"96.8\">Distribution</text>\n",
       "<text style=\"text-align:end; text-anchor:end; font-size:11.7px; color:black; overflow:visible; fill:#0e232e;\" x=\"59.4\" y=\"275.4\">Deviation</text>\n",
       "<text style=\"text-align:end; text-anchor:end; font-size:13.5px; color:black; overflow:visible; fill:#ff9900;\" x=\"74.7\" y=\"317.3\">Percent</text>\n",
       "<path d=\"M 42.3,227.8 H 649.9\" style=\"fill:none; stroke:black; stroke-width:1.05px;\"/>\n",
       "<g transform=\"translate(0,-0.593319)\">\n",
       "\t<path d=\"m 84.8,229 v 10.8\" style=\"fill:none; stroke:black; stroke-width:1px;\"/>\n",
       "\t<path d=\"m 119.2,228.9 v 10.8\" style=\"fill:none; stroke:black; stroke-width:1px;\"/>\n",
       "\t<path d=\"m 153.5,228.9 v 10.8\" style=\"fill:none; stroke:black; stroke-width:1px;\"/>\n",
       "\t<path d=\"m 187.9,228.9 v 10.8\" style=\"fill:none; stroke:black; stroke-width:1px;\"/>\n",
       "\t<path d=\"m 222.3,228.9 v 10.8\" style=\"fill:none; stroke:black; stroke-width:1px;\"/>\n",
       "\t<path d=\"m 256.6,228.9 v 10.8\" style=\"fill:none; stroke:black; stroke-width:1px;\"/>\n",
       "\t<path d=\"m 291,228.8 v 10.8\" style=\"fill:none; stroke:black; stroke-width:1px;\"/>\n",
       "\t<path d=\"m 325.3,228.8 v 10.8\" style=\"fill:none; stroke:black; stroke-width:1px;\"/>\n",
       "\t<path d=\"m 359.7,228.8 v 10.8\" style=\"fill:none; stroke:black; stroke-width:1px;\"/>\n",
       "\t<path d=\"m 394.1,228.8 v 10.8\" style=\"fill:none; stroke:black; stroke-width:1px;\"/>\n",
       "\t<path d=\"m 428.4,228.9 v 10.8\" style=\"fill:none; stroke:black; stroke-width:1px;\"/>\n",
       "\t<path d=\"m 462.8,228.8 v 10.8\" style=\"fill:none; stroke:black; stroke-width:1px;\"/>\n",
       "\t<path d=\"m 497.2,228.8 v 10.8\" style=\"fill:none; stroke:black; stroke-width:1px;\"/>\n",
       "\t<path d=\"m 531.5,228.8 v 10.8\" style=\"fill:none; stroke:black; stroke-width:1px;\"/>\n",
       "\t<path d=\"m 565.9,228.8 v 10.8\" style=\"fill:none; stroke:black; stroke-width:1px;\"/>\n",
       "\t<path d=\"m 600.2,229 v 10.8\" style=\"fill:none; stroke:black; stroke-width:1px;\"/>\n",
       "\t<path d=\"m 634.6,229 v 10.8\" style=\"fill:none; stroke:black; stroke-width:1px;\"/>\n",
       "</g>\n",
       "<path d=\"m 153.5,224.6 v 3.8\" style=\"fill:none; stroke:#19aeff; stroke-width:1px;\"/>\n",
       "<path d=\"m 187.9,217.9 v 10.6\" style=\"fill:none; stroke:#19aeff; stroke-width:1px;\"/>\n",
       "<path d=\"m 222.3,197.9 v 30.5\" style=\"fill:none; stroke:#19aeff; stroke-width:1px;\"/>\n",
       "<path d=\"m 256.6,157.7 v 70.8\" style=\"fill:none; stroke:#19aeff; stroke-width:1px;\"/>\n",
       "<path d=\"M 291,97.9 V 227.8\" style=\"fill:none; stroke:#19aeff; stroke-width:1px;\"/>\n",
       "<path d=\"M 325.3,37.5 V 227.8\" style=\"fill:none; stroke:#19aeff; stroke-width:1px;\"/>\n",
       "<path d=\"M 359.7,12.5 V 227.8\" style=\"fill:none; stroke:#19aeff; stroke-width:1px;\"/>\n",
       "<path d=\"M 394.1,37.9 V 227.8\" style=\"fill:none; stroke:#19aeff; stroke-width:1px;\"/>\n",
       "<path d=\"M 428.4,97 V 228.4\" style=\"fill:none; stroke:#19aeff; stroke-width:1px;\"/>\n",
       "<path d=\"M 462.8,157.8 V 227.8\" style=\"fill:none; stroke:#19aeff; stroke-width:1px;\"/>\n",
       "<path d=\"M 497.2,199 V 227.8\" style=\"fill:none; stroke:#19aeff; stroke-width:1px;\"/>\n",
       "<path d=\"M 531.5,218.1 V 227.8\" style=\"fill:none; stroke:#19aeff; stroke-width:1px;\"/>\n",
       "<path d=\"M 565.9,225 V 227.8\" style=\"fill:none; stroke:#19aeff; stroke-width:1px;\"/>\n",
       "<text style=\"font-size:11.3px; fill:#ccff42;\" x=\"319.3\" y=\"119\">19.1%</text>\n",
       "<text style=\"font-size:11.3px; fill:#ccff42;\" x=\"291.9\" y=\"157.5\">15.0%</text>\n",
       "<text style=\"font-size:11.3px; fill:#ccff42;\" x=\"396\" y=\"157.9\">15.0%</text>\n",
       "<text style=\"font-size:11.3px; fill:#ccff42;\" x=\"363.9\" y=\"119.3\">19.1%</text>\n",
       "</svg>"
      ],
      "text/plain": [
       "<IPython.core.display.SVG object>"
      ]
     },
     "metadata": {},
     "output_type": "display_data"
    }
   ],
   "source": [
    "from IPython.display import SVG, display\n",
    "def show_svg():\n",
    "    display(SVG('normal-distrubution-large.svg'))\n",
    "    \n",
    "show_svg()"
   ]
  },
  {
   "cell_type": "markdown",
   "metadata": {},
   "source": [
    "* Z score only applicable on Standard normal curve with mean of zero and standard deviation of 1\n",
    "* Area under the curve add up to 1\n",
    "* Z score is how many standard deviations away from the mean that value is on a standard normal curve\n",
    "* Notice Z score and standard deviations are same\n",
    "* Notice cumulative percentage."
   ]
  },
  {
   "cell_type": "markdown",
   "metadata": {},
   "source": [
    "## How to read the Z-Table"
   ]
  },
  {
   "cell_type": "code",
   "execution_count": 2,
   "metadata": {},
   "outputs": [
    {
     "data": {
      "text/plain": [
       "1.959963984540054"
      ]
     },
     "execution_count": 2,
     "metadata": {},
     "output_type": "execute_result"
    }
   ],
   "source": [
    "# Standard normal distribution\n",
    "# Critical value or z-statistic\n",
    "stats.norm.interval(0.95, loc=0, scale=1)[1]"
   ]
  },
  {
   "cell_type": "markdown",
   "metadata": {},
   "source": [
    "When we ask for a 0.95 confidence internval, we are asking for the x axis values on both sizes of the symmetrical curve where 95% of the probabilities are (area). Or where 95% of the values lie. \n",
    "\n",
    "Wherever this intersects with the x axis, we get a value. We ask how many standard deviations away from the mean is this value? That is the z score.\n",
    "\n",
    "In this case Z score is 1.96. If we are to integrate this curve from -1.95 to +1.95 we will get 0.95. \n",
    "\n",
    "This is because 95% of the values lie between -1.95 to +1.95 (standard deviations)."
   ]
  },
  {
   "cell_type": "markdown",
   "metadata": {},
   "source": [
    "## Why is area under the curve 1?\n",
    "The probability of picking all the items from the data adds up to 1\n",
    "Lets say there are 3 red and 2 blue balls in a bag. This is your entire population. Probability of picking red balls are 3/5 and probability of picking blue balls are 2 / 5.\n",
    "\n",
    "$\\frac{3}{5} + \\frac{2}{5} = 1$"
   ]
  },
  {
   "cell_type": "code",
   "execution_count": null,
   "metadata": {},
   "outputs": [],
   "source": []
  }
 ],
 "metadata": {
  "kernelspec": {
   "display_name": "Python 3",
   "language": "python",
   "name": "python3"
  },
  "language_info": {
   "codemirror_mode": {
    "name": "ipython",
    "version": 3
   },
   "file_extension": ".py",
   "mimetype": "text/x-python",
   "name": "python",
   "nbconvert_exporter": "python",
   "pygments_lexer": "ipython3",
   "version": "3.6.8"
  }
 },
 "nbformat": 4,
 "nbformat_minor": 2
}
